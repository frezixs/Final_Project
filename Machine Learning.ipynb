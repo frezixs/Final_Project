{
 "cells": [
  {
   "cell_type": "code",
   "execution_count": 1,
   "source": [
    "# Import our dependencies\r\n",
    "import sqlite3\r\n",
    "from sklearn.model_selection import train_test_split\r\n",
    "from sklearn.preprocessing import StandardScaler,MinMaxScaler\r\n",
    "import pandas as pd\r\n",
    "import matplotlib.pyplot as plt\r\n",
    "import seaborn as sns\r\n",
    "import numpy as np"
   ],
   "outputs": [],
   "metadata": {}
  },
  {
   "cell_type": "code",
   "execution_count": 4,
   "source": [
    "# Import data from database\r\n",
    "con = sqlite3.connect('HouseInfo.db')\r\n",
    "df = pd.read_sql_query('Select * from Selling', con)\r\n",
    "df = pd.DataFrame(df)\r\n",
    "df.head()"
   ],
   "outputs": [
    {
     "output_type": "execute_result",
     "data": {
      "text/html": [
       "<div>\n",
       "<style scoped>\n",
       "    .dataframe tbody tr th:only-of-type {\n",
       "        vertical-align: middle;\n",
       "    }\n",
       "\n",
       "    .dataframe tbody tr th {\n",
       "        vertical-align: top;\n",
       "    }\n",
       "\n",
       "    .dataframe thead th {\n",
       "        text-align: right;\n",
       "    }\n",
       "</style>\n",
       "<table border=\"1\" class=\"dataframe\">\n",
       "  <thead>\n",
       "    <tr style=\"text-align: right;\">\n",
       "      <th></th>\n",
       "      <th>City</th>\n",
       "      <th>HouseName</th>\n",
       "      <th>Lng</th>\n",
       "      <th>Lat</th>\n",
       "      <th>District</th>\n",
       "      <th>id</th>\n",
       "      <th>TotalPrice</th>\n",
       "      <th>Price</th>\n",
       "      <th>Floor</th>\n",
       "      <th>Square</th>\n",
       "      <th>FloorType</th>\n",
       "      <th>BuildingType</th>\n",
       "      <th>BuildingStructure</th>\n",
       "      <th>RenovationCondition</th>\n",
       "      <th>Elevator</th>\n",
       "      <th>ConstructionTime</th>\n",
       "      <th>BedRooms</th>\n",
       "      <th>LivingRooms</th>\n",
       "      <th>Kitchen</th>\n",
       "      <th>BathRooms</th>\n",
       "    </tr>\n",
       "  </thead>\n",
       "  <tbody>\n",
       "    <tr>\n",
       "      <th>0</th>\n",
       "      <td>beijing</td>\n",
       "      <td>富力又一城B区</td>\n",
       "      <td>116.568935</td>\n",
       "      <td>39.852754</td>\n",
       "      <td>朝阳</td>\n",
       "      <td>101112779955</td>\n",
       "      <td>7950000.0</td>\n",
       "      <td>50579</td>\n",
       "      <td>High</td>\n",
       "      <td>157.18</td>\n",
       "      <td>Flat</td>\n",
       "      <td>Plate</td>\n",
       "      <td>Steel/Concrete</td>\n",
       "      <td>Hardcover</td>\n",
       "      <td>Yes</td>\n",
       "      <td>2008</td>\n",
       "      <td>3</td>\n",
       "      <td>2</td>\n",
       "      <td>1</td>\n",
       "      <td>2</td>\n",
       "    </tr>\n",
       "    <tr>\n",
       "      <th>1</th>\n",
       "      <td>beijing</td>\n",
       "      <td>白广路7号院</td>\n",
       "      <td>116.363689</td>\n",
       "      <td>39.890353</td>\n",
       "      <td>西城</td>\n",
       "      <td>101112823905</td>\n",
       "      <td>6350000.0</td>\n",
       "      <td>109805</td>\n",
       "      <td>Low</td>\n",
       "      <td>57.83</td>\n",
       "      <td>Flat</td>\n",
       "      <td>Plate</td>\n",
       "      <td>Mixed</td>\n",
       "      <td>Other</td>\n",
       "      <td>No</td>\n",
       "      <td>1984</td>\n",
       "      <td>2</td>\n",
       "      <td>1</td>\n",
       "      <td>1</td>\n",
       "      <td>1</td>\n",
       "    </tr>\n",
       "    <tr>\n",
       "      <th>2</th>\n",
       "      <td>beijing</td>\n",
       "      <td>莱茵河畔</td>\n",
       "      <td>116.479698</td>\n",
       "      <td>39.803397</td>\n",
       "      <td>亦庄开发区</td>\n",
       "      <td>101112557404</td>\n",
       "      <td>5850000.0</td>\n",
       "      <td>54072</td>\n",
       "      <td>Low</td>\n",
       "      <td>108.19</td>\n",
       "      <td>Flat</td>\n",
       "      <td>Plate</td>\n",
       "      <td>Steel/Concrete</td>\n",
       "      <td>Hardcover</td>\n",
       "      <td>Yes</td>\n",
       "      <td>2003</td>\n",
       "      <td>2</td>\n",
       "      <td>1</td>\n",
       "      <td>1</td>\n",
       "      <td>1</td>\n",
       "    </tr>\n",
       "    <tr>\n",
       "      <th>3</th>\n",
       "      <td>beijing</td>\n",
       "      <td>瑞海家园五区</td>\n",
       "      <td>116.343366</td>\n",
       "      <td>39.789172</td>\n",
       "      <td>大兴</td>\n",
       "      <td>101112573961</td>\n",
       "      <td>5090000.0</td>\n",
       "      <td>46379</td>\n",
       "      <td>First Floor</td>\n",
       "      <td>109.75</td>\n",
       "      <td>Flat</td>\n",
       "      <td>Plate</td>\n",
       "      <td>Mixed</td>\n",
       "      <td>Hardcover</td>\n",
       "      <td>No</td>\n",
       "      <td>2004</td>\n",
       "      <td>3</td>\n",
       "      <td>1</td>\n",
       "      <td>1</td>\n",
       "      <td>1</td>\n",
       "    </tr>\n",
       "    <tr>\n",
       "      <th>4</th>\n",
       "      <td>beijing</td>\n",
       "      <td>合生世界村</td>\n",
       "      <td>116.552980</td>\n",
       "      <td>39.743074</td>\n",
       "      <td>通州</td>\n",
       "      <td>101111602994</td>\n",
       "      <td>2730000.0</td>\n",
       "      <td>30063</td>\n",
       "      <td>Middle</td>\n",
       "      <td>90.81</td>\n",
       "      <td>Flat</td>\n",
       "      <td>Plate</td>\n",
       "      <td>Steel/Concrete</td>\n",
       "      <td>Hardcover</td>\n",
       "      <td>Yes</td>\n",
       "      <td>2011</td>\n",
       "      <td>2</td>\n",
       "      <td>1</td>\n",
       "      <td>1</td>\n",
       "      <td>1</td>\n",
       "    </tr>\n",
       "  </tbody>\n",
       "</table>\n",
       "</div>"
      ],
      "text/plain": [
       "      City HouseName         Lng        Lat District            id  \\\n",
       "0  beijing   富力又一城B区  116.568935  39.852754       朝阳  101112779955   \n",
       "1  beijing    白广路7号院  116.363689  39.890353       西城  101112823905   \n",
       "2  beijing      莱茵河畔  116.479698  39.803397    亦庄开发区  101112557404   \n",
       "3  beijing    瑞海家园五区  116.343366  39.789172       大兴  101112573961   \n",
       "4  beijing     合生世界村  116.552980  39.743074       通州  101111602994   \n",
       "\n",
       "   TotalPrice   Price         Floor  Square FloorType BuildingType  \\\n",
       "0   7950000.0   50579          High  157.18      Flat        Plate   \n",
       "1   6350000.0  109805           Low   57.83      Flat        Plate   \n",
       "2   5850000.0   54072           Low  108.19      Flat        Plate   \n",
       "3   5090000.0   46379  First Floor   109.75      Flat        Plate   \n",
       "4   2730000.0   30063        Middle   90.81      Flat        Plate   \n",
       "\n",
       "  BuildingStructure RenovationCondition Elevator ConstructionTime BedRooms  \\\n",
       "0    Steel/Concrete           Hardcover      Yes             2008        3   \n",
       "1             Mixed               Other       No             1984        2   \n",
       "2    Steel/Concrete           Hardcover      Yes             2003        2   \n",
       "3             Mixed           Hardcover       No             2004        3   \n",
       "4    Steel/Concrete           Hardcover      Yes             2011        2   \n",
       "\n",
       "  LivingRooms Kitchen BathRooms  \n",
       "0           2       1         2  \n",
       "1           1       1         1  \n",
       "2           1       1         1  \n",
       "3           1       1         1  \n",
       "4           1       1         1  "
      ]
     },
     "metadata": {},
     "execution_count": 4
    }
   ],
   "metadata": {}
  },
  {
   "cell_type": "code",
   "execution_count": 5,
   "source": [
    "df = df.drop(['Price', 'Square', 'HouseName', 'id', 'Lng', 'Lat', 'ConstructionTime'],axis=1)\r\n",
    "df.head()"
   ],
   "outputs": [
    {
     "output_type": "execute_result",
     "data": {
      "text/html": [
       "<div>\n",
       "<style scoped>\n",
       "    .dataframe tbody tr th:only-of-type {\n",
       "        vertical-align: middle;\n",
       "    }\n",
       "\n",
       "    .dataframe tbody tr th {\n",
       "        vertical-align: top;\n",
       "    }\n",
       "\n",
       "    .dataframe thead th {\n",
       "        text-align: right;\n",
       "    }\n",
       "</style>\n",
       "<table border=\"1\" class=\"dataframe\">\n",
       "  <thead>\n",
       "    <tr style=\"text-align: right;\">\n",
       "      <th></th>\n",
       "      <th>City</th>\n",
       "      <th>District</th>\n",
       "      <th>TotalPrice</th>\n",
       "      <th>Floor</th>\n",
       "      <th>FloorType</th>\n",
       "      <th>BuildingType</th>\n",
       "      <th>BuildingStructure</th>\n",
       "      <th>RenovationCondition</th>\n",
       "      <th>Elevator</th>\n",
       "      <th>BedRooms</th>\n",
       "      <th>LivingRooms</th>\n",
       "      <th>Kitchen</th>\n",
       "      <th>BathRooms</th>\n",
       "    </tr>\n",
       "  </thead>\n",
       "  <tbody>\n",
       "    <tr>\n",
       "      <th>0</th>\n",
       "      <td>beijing</td>\n",
       "      <td>朝阳</td>\n",
       "      <td>7950000.0</td>\n",
       "      <td>High</td>\n",
       "      <td>Flat</td>\n",
       "      <td>Plate</td>\n",
       "      <td>Steel/Concrete</td>\n",
       "      <td>Hardcover</td>\n",
       "      <td>Yes</td>\n",
       "      <td>3</td>\n",
       "      <td>2</td>\n",
       "      <td>1</td>\n",
       "      <td>2</td>\n",
       "    </tr>\n",
       "    <tr>\n",
       "      <th>1</th>\n",
       "      <td>beijing</td>\n",
       "      <td>西城</td>\n",
       "      <td>6350000.0</td>\n",
       "      <td>Low</td>\n",
       "      <td>Flat</td>\n",
       "      <td>Plate</td>\n",
       "      <td>Mixed</td>\n",
       "      <td>Other</td>\n",
       "      <td>No</td>\n",
       "      <td>2</td>\n",
       "      <td>1</td>\n",
       "      <td>1</td>\n",
       "      <td>1</td>\n",
       "    </tr>\n",
       "    <tr>\n",
       "      <th>2</th>\n",
       "      <td>beijing</td>\n",
       "      <td>亦庄开发区</td>\n",
       "      <td>5850000.0</td>\n",
       "      <td>Low</td>\n",
       "      <td>Flat</td>\n",
       "      <td>Plate</td>\n",
       "      <td>Steel/Concrete</td>\n",
       "      <td>Hardcover</td>\n",
       "      <td>Yes</td>\n",
       "      <td>2</td>\n",
       "      <td>1</td>\n",
       "      <td>1</td>\n",
       "      <td>1</td>\n",
       "    </tr>\n",
       "    <tr>\n",
       "      <th>3</th>\n",
       "      <td>beijing</td>\n",
       "      <td>大兴</td>\n",
       "      <td>5090000.0</td>\n",
       "      <td>First Floor</td>\n",
       "      <td>Flat</td>\n",
       "      <td>Plate</td>\n",
       "      <td>Mixed</td>\n",
       "      <td>Hardcover</td>\n",
       "      <td>No</td>\n",
       "      <td>3</td>\n",
       "      <td>1</td>\n",
       "      <td>1</td>\n",
       "      <td>1</td>\n",
       "    </tr>\n",
       "    <tr>\n",
       "      <th>4</th>\n",
       "      <td>beijing</td>\n",
       "      <td>通州</td>\n",
       "      <td>2730000.0</td>\n",
       "      <td>Middle</td>\n",
       "      <td>Flat</td>\n",
       "      <td>Plate</td>\n",
       "      <td>Steel/Concrete</td>\n",
       "      <td>Hardcover</td>\n",
       "      <td>Yes</td>\n",
       "      <td>2</td>\n",
       "      <td>1</td>\n",
       "      <td>1</td>\n",
       "      <td>1</td>\n",
       "    </tr>\n",
       "  </tbody>\n",
       "</table>\n",
       "</div>"
      ],
      "text/plain": [
       "      City District  TotalPrice         Floor FloorType BuildingType  \\\n",
       "0  beijing       朝阳   7950000.0          High      Flat        Plate   \n",
       "1  beijing       西城   6350000.0           Low      Flat        Plate   \n",
       "2  beijing    亦庄开发区   5850000.0           Low      Flat        Plate   \n",
       "3  beijing       大兴   5090000.0  First Floor       Flat        Plate   \n",
       "4  beijing       通州   2730000.0        Middle      Flat        Plate   \n",
       "\n",
       "  BuildingStructure RenovationCondition Elevator BedRooms LivingRooms Kitchen  \\\n",
       "0    Steel/Concrete           Hardcover      Yes        3           2       1   \n",
       "1             Mixed               Other       No        2           1       1   \n",
       "2    Steel/Concrete           Hardcover      Yes        2           1       1   \n",
       "3             Mixed           Hardcover       No        3           1       1   \n",
       "4    Steel/Concrete           Hardcover      Yes        2           1       1   \n",
       "\n",
       "  BathRooms  \n",
       "0         2  \n",
       "1         1  \n",
       "2         1  \n",
       "3         1  \n",
       "4         1  "
      ]
     },
     "metadata": {},
     "execution_count": 5
    }
   ],
   "metadata": {}
  },
  {
   "cell_type": "code",
   "execution_count": 94,
   "source": [
    "df.replace(to_replace=r'Unknown', value=np.nan, regex=True, inplace=True)"
   ],
   "outputs": [],
   "metadata": {}
  },
  {
   "cell_type": "code",
   "execution_count": 95,
   "source": [
    "df.isnull().sum()"
   ],
   "outputs": [
    {
     "output_type": "execute_result",
     "data": {
      "text/plain": [
       "City                     0\n",
       "District                 0\n",
       "TotalPrice               0\n",
       "Floor                    0\n",
       "FloorType               10\n",
       "BuildingType             0\n",
       "BuildingStructure       22\n",
       "RenovationCondition      0\n",
       "Elevator               186\n",
       "BedRooms                 0\n",
       "LivingRooms              0\n",
       "Kitchens                 0\n",
       "BathRooms                0\n",
       "dtype: int64"
      ]
     },
     "metadata": {},
     "execution_count": 95
    }
   ],
   "metadata": {}
  },
  {
   "cell_type": "code",
   "execution_count": 96,
   "source": [
    "df = df.dropna()\r\n",
    "\r\n",
    "df.isnull().sum()"
   ],
   "outputs": [
    {
     "output_type": "execute_result",
     "data": {
      "text/plain": [
       "City                   0\n",
       "District               0\n",
       "TotalPrice             0\n",
       "Floor                  0\n",
       "FloorType              0\n",
       "BuildingType           0\n",
       "BuildingStructure      0\n",
       "RenovationCondition    0\n",
       "Elevator               0\n",
       "BedRooms               0\n",
       "LivingRooms            0\n",
       "Kitchens               0\n",
       "BathRooms              0\n",
       "dtype: int64"
      ]
     },
     "metadata": {},
     "execution_count": 96
    }
   ],
   "metadata": {}
  },
  {
   "cell_type": "markdown",
   "source": [
    "## Encoding"
   ],
   "metadata": {}
  },
  {
   "cell_type": "code",
   "execution_count": 97,
   "source": [
    "from sklearn.preprocessing import LabelEncoder\r\n",
    "\r\n",
    "labelencoder = LabelEncoder()\r\n",
    "\r\n",
    "df['City'] = labelencoder.fit_transform(df['City'])\r\n",
    "df['District'] = labelencoder.fit_transform(df['District'])\r\n",
    "df['Floor'] = labelencoder.fit_transform(df['Floor'])\r\n",
    "df['Elevator'] = labelencoder.fit_transform(df['Elevator'])\r\n",
    "df['FloorType'] = labelencoder.fit_transform(df['FloorType'])\r\n",
    "df['BuildingType'] = labelencoder.fit_transform(df['BuildingType'])\r\n",
    "df['BuildingStructure'] = labelencoder.fit_transform(df['BuildingStructure'])\r\n",
    "df['RenovationCondition'] = labelencoder.fit_transform(df['RenovationCondition'])"
   ],
   "outputs": [],
   "metadata": {}
  },
  {
   "cell_type": "code",
   "execution_count": 98,
   "source": [
    "df.head()"
   ],
   "outputs": [],
   "metadata": {}
  },
  {
   "cell_type": "markdown",
   "source": [
    "## Correlation Heatmap"
   ],
   "metadata": {}
  },
  {
   "cell_type": "code",
   "execution_count": 9,
   "source": [
    "fig,ax = plt.subplots(figsize=(10,7))\r\n",
    "sns.heatmap(df.corr(), annot = True, cmap = 'magma',ax=ax)\r\n",
    "\r\n",
    "# plt.savefig('heatmap.png')\r\n",
    "plt.show()"
   ],
   "outputs": [
    {
     "output_type": "display_data",
     "data": {
      "image/png": "[encoded data removed]",
      "text/plain": [
       "<Figure size 720x504 with 2 Axes>"
      ]
     },
     "metadata": {
      "needs_background": "light"
     }
    }
   ],
   "metadata": {}
  },
  {
   "cell_type": "code",
   "execution_count": 10,
   "source": [
    "corrmat = df.corr()\r\n",
    "print(corrmat['TotalPrice'].sort_values(ascending=False))"
   ],
   "outputs": [
    {
     "output_type": "stream",
     "name": "stdout",
     "text": [
      "TotalPrice             1.000000\n",
      "BathRooms              0.493111\n",
      "BedRooms               0.386118\n",
      "LivingRooms            0.266256\n",
      "Elevator               0.209240\n",
      "BuildingStructure      0.120208\n",
      "Kitchens               0.092721\n",
      "District               0.032385\n",
      "Floor                  0.000754\n",
      "City                  -0.073862\n",
      "RenovationCondition   -0.124621\n",
      "FloorType             -0.142835\n",
      "BuildingType          -0.160221\n",
      "Name: TotalPrice, dtype: float64\n"
     ]
    }
   ],
   "metadata": {}
  },
  {
   "cell_type": "markdown",
   "source": [
    "## Calculate Statistics"
   ],
   "metadata": {}
  },
  {
   "cell_type": "code",
   "execution_count": 15,
   "source": [
    "# Minimum price of the data\r\n",
    "minimum_price = np.amin(df['TotalPrice'])\r\n",
    "\r\n",
    "# Maximum price of the data\r\n",
    "maximum_price = np.amax(df['TotalPrice'])\r\n",
    "\r\n",
    "# Mean price of the data\r\n",
    "mean_price = np.mean(df['TotalPrice'])\r\n",
    "\r\n",
    "# Median price of the data\r\n",
    "median_price = np.median(df['TotalPrice'])\r\n",
    "\r\n",
    "# Standard deviation of prices of the data\r\n",
    "std_price = np.std(df['TotalPrice'])\r\n",
    "\r\n",
    "# Show the calculated statistics\r\n",
    "print(\"Statistics for Selling dataset:\\n\")\r\n",
    "print(\"Minimum price: ￥{}\".format(minimum_price)) \r\n",
    "print(\"Maximum price: ￥{}\".format(maximum_price))\r\n",
    "print(\"Mean price: ￥{}\".format(mean_price))\r\n",
    "print(\"Median price ￥{}\".format(median_price))\r\n",
    "print(\"Standard deviation of prices: ￥{}\".format(std_price))"
   ],
   "outputs": [
    {
     "output_type": "stream",
     "name": "stdout",
     "text": [
      "Statistics for Selling dataset:\n",
      "\n",
      "Minimum price: ￥250000\n",
      "Maximum price: ￥98000000\n",
      "Mean price: ￥4799642.322404372\n",
      "Median price ￥3755000.0\n",
      "Standard deviation of prices: ￥4225947.181730324\n"
     ]
    }
   ],
   "metadata": {}
  },
  {
   "cell_type": "code",
   "execution_count": 16,
   "source": [
    "# cols_to_dummies = ['City','District','Floor','FloorType','BuildingType','BuildingStructure','RenovationCondition','Elevator']\r\n",
    "# df = pd.get_dummies(data=df, columns=cols_to_dummies)\r\n",
    "# df = df.dropna()\r\n",
    "# df.head()"
   ],
   "outputs": [],
   "metadata": {}
  },
  {
   "cell_type": "markdown",
   "source": [
    "# Machine Learning"
   ],
   "metadata": {}
  },
  {
   "cell_type": "markdown",
   "source": [
    "## Spliting into training and testing dataset"
   ],
   "metadata": {}
  },
  {
   "cell_type": "code",
   "execution_count": 17,
   "source": [
    "X = df.drop(['TotalPrice'], axis = 1)\r\n",
    "y = df['TotalPrice']"
   ],
   "outputs": [],
   "metadata": {}
  },
  {
   "cell_type": "code",
   "execution_count": 18,
   "source": [
    "print(X.shape)\r\n",
    "print(y.shape)"
   ],
   "outputs": [
    {
     "output_type": "stream",
     "name": "stdout",
     "text": [
      "(7320, 12)\n",
      "(7320,)\n"
     ]
    }
   ],
   "metadata": {}
  },
  {
   "cell_type": "code",
   "execution_count": 19,
   "source": [
    "# split data to 80% of training and 20% of testing\r\n",
    "X_train, X_test, y_train, y_test = train_test_split(X,y,test_size=0.2,random_state=47)"
   ],
   "outputs": [],
   "metadata": {}
  },
  {
   "cell_type": "code",
   "execution_count": 20,
   "source": [
    "print(X_train.shape)\r\n",
    "print(X_test.shape)\r\n",
    "print(y_train.shape)\r\n",
    "print(y_test.shape)"
   ],
   "outputs": [
    {
     "output_type": "stream",
     "name": "stdout",
     "text": [
      "(5856, 12)\n",
      "(1464, 12)\n",
      "(5856,)\n",
      "(1464,)\n"
     ]
    }
   ],
   "metadata": {}
  },
  {
   "cell_type": "markdown",
   "source": [
    "## Standardization"
   ],
   "metadata": {}
  },
  {
   "cell_type": "code",
   "execution_count": 21,
   "source": [
    "# Feature Scaling\r\n",
    "from sklearn.preprocessing import StandardScaler\r\n",
    "\r\n",
    "sc = StandardScaler()\r\n",
    "X_train = sc.fit_transform(X_train)\r\n",
    "X_test = sc.transform(X_test)"
   ],
   "outputs": [],
   "metadata": {}
  },
  {
   "cell_type": "code",
   "execution_count": 22,
   "source": [
    "# cols_to_norm = ['Square','ConstructionTime','BedRooms','LivingRooms','Kitchens','BathRooms','Lng','Lat']\r\n",
    "# scaler = MinMaxScaler()\r\n",
    "\r\n",
    "# X_train[cols_to_norm] = scaler.fit_transform(X_train[cols_to_norm])\r\n",
    "# X_test[cols_to_norm] = scaler.transform(X_test[cols_to_norm])\r\n",
    "\r\n",
    "# X_train.head()"
   ],
   "outputs": [],
   "metadata": {
    "scrolled": false
   }
  },
  {
   "cell_type": "markdown",
   "source": [
    "## Multiple Linear Regression"
   ],
   "metadata": {}
  },
  {
   "cell_type": "code",
   "execution_count": 23,
   "source": [
    "from sklearn.linear_model import LinearRegression\r\n",
    "\r\n",
    "lr_model = LinearRegression()\r\n",
    "lr_model.fit(X_train, y_train)\r\n",
    "\r\n",
    "print(lr_model.score(X_train, y_train))\r\n",
    "print(lr_model.score(X_test, y_test))"
   ],
   "outputs": [
    {
     "output_type": "stream",
     "name": "stdout",
     "text": [
      "0.3358946787240613\n",
      "0.31102307239188565\n"
     ]
    }
   ],
   "metadata": {}
  },
  {
   "cell_type": "code",
   "execution_count": 24,
   "source": [
    "# prediction\r\n",
    "y_pred_lr = lr_model.predict(X_test)"
   ],
   "outputs": [],
   "metadata": {}
  },
  {
   "cell_type": "code",
   "execution_count": 25,
   "source": [
    "# visualization\r\n",
    "y1_test = y_test.values.reshape(-1,1)\r\n",
    "\r\n",
    "lr_model = LinearRegression()\r\n",
    "lr_model.fit(y1_test, y_pred_lr)\r\n",
    "y1_pred_lr = lr_model.predict(y1_test)\r\n",
    "\r\n",
    "plt.scatter(y1_test, y_pred_lr)\r\n",
    "plt.xlabel(\"Price\")\r\n",
    "plt.ylabel(\"Predicted prices\")\r\n",
    "plt.title(\"Prices vs Predicted prices\")\r\n",
    "plt.grid()\r\n",
    "\r\n",
    "plt.plot(y1_test, y1_pred_lr, color='red')\r\n",
    "plt.show()"
   ],
   "outputs": [
    {
     "output_type": "display_data",
     "data": {
      "image/png": "[encoded data removed]",
      "text/plain": [
       "<Figure size 432x288 with 1 Axes>"
      ]
     },
     "metadata": {
      "needs_background": "light"
     }
    }
   ],
   "metadata": {}
  },
  {
   "cell_type": "code",
   "execution_count": 26,
   "source": [
    "from sklearn import metrics\r\n",
    "from sklearn.metrics import r2_score\r\n",
    "from sklearn.metrics import mean_squared_error\r\n",
    "\r\n",
    "# predicting the accuracy score\r\n",
    "print('r2 socre is ', r2_score(y_test, y_pred_lr))\r\n",
    "print('Root Mean Squared Error:', np.sqrt(metrics.mean_squared_error(y_test, y_pred_lr)))"
   ],
   "outputs": [
    {
     "output_type": "stream",
     "name": "stdout",
     "text": [
      "r2 socre is  0.31102307239188565\n",
      "Root Mean Squared Error: 3108017.500339511\n"
     ]
    }
   ],
   "metadata": {}
  },
  {
   "cell_type": "markdown",
   "source": [
    "The value of root mean squared error is higher than 10% of the mean value of price (i.e. ￥4799642). This means that our algorithm was not very accurate."
   ],
   "metadata": {}
  },
  {
   "cell_type": "markdown",
   "source": [
    "## Decision Tree"
   ],
   "metadata": {}
  },
  {
   "cell_type": "code",
   "execution_count": 27,
   "source": [
    "from sklearn.tree import DecisionTreeRegressor\r\n",
    "\r\n",
    "dt_model = DecisionTreeRegressor()\r\n",
    "dt_model.fit(X_train, y_train)\r\n",
    "\r\n",
    "print(dt_model.score(X_train, y_train))\r\n",
    "print(dt_model.score(X_test, y_test))"
   ],
   "outputs": [
    {
     "output_type": "stream",
     "name": "stdout",
     "text": [
      "0.9551735217852773\n",
      "0.4595485462291288\n"
     ]
    }
   ],
   "metadata": {}
  },
  {
   "cell_type": "code",
   "execution_count": 28,
   "source": [
    "# prediction\r\n",
    "y_pred_dt = dt_model.predict(X_test)"
   ],
   "outputs": [],
   "metadata": {}
  },
  {
   "cell_type": "code",
   "execution_count": 29,
   "source": [
    "from sklearn import metrics\r\n",
    "print('r2 socre is ', r2_score(y_test, y_pred_dt))\r\n",
    "print('Root Mean Squared Error:', np.sqrt(metrics.mean_squared_error(y_test, y_pred_dt)))"
   ],
   "outputs": [
    {
     "output_type": "stream",
     "name": "stdout",
     "text": [
      "r2 socre is  0.4595485462291288\n",
      "Root Mean Squared Error: 2752703.6641044305\n"
     ]
    }
   ],
   "metadata": {}
  },
  {
   "cell_type": "markdown",
   "source": [
    "## Random Forest"
   ],
   "metadata": {}
  },
  {
   "cell_type": "code",
   "execution_count": 30,
   "source": [
    "# Find optimal n_estimator for the model\r\n",
    "from sklearn.model_selection import GridSearchCV\r\n",
    "from sklearn.ensemble import RandomForestRegressor\r\n",
    "\r\n",
    "param_grid ={\r\n",
    "    'n_estimators': [20, 100, 500, 1000, 5000]\r\n",
    "}\r\n",
    "\r\n",
    "rf_model = RandomForestRegressor()\r\n",
    "grid_search = GridSearchCV(estimator = rf_model, param_grid = param_grid, cv=3, n_jobs=-1)\r\n",
    "\r\n",
    "grid_search.fit(X_train, y_train)\r\n",
    "\r\n",
    "grid_search.best_params_"
   ],
   "outputs": [
    {
     "output_type": "execute_result",
     "data": {
      "text/plain": [
       "{'n_estimators': 5000}"
      ]
     },
     "metadata": {},
     "execution_count": 30
    }
   ],
   "metadata": {}
  },
  {
   "cell_type": "code",
   "execution_count": 31,
   "source": [
    "rf_model = RandomForestRegressor(n_estimators=100, random_state=47)\r\n",
    "rf_model.fit(X_train, y_train)\r\n",
    "\r\n",
    "print(rf_model.score(X_train, y_train))\r\n",
    "print(rf_model.score(X_test, y_test))"
   ],
   "outputs": [
    {
     "output_type": "stream",
     "name": "stdout",
     "text": [
      "0.9146999496986061\n",
      "0.6443363506540841\n"
     ]
    }
   ],
   "metadata": {}
  },
  {
   "cell_type": "code",
   "execution_count": 32,
   "source": [
    "# prediction\r\n",
    "y_pred_rf = rf_model.predict(X_test)"
   ],
   "outputs": [],
   "metadata": {}
  },
  {
   "cell_type": "code",
   "execution_count": 33,
   "source": [
    "from sklearn import metrics\r\n",
    "print('r2 socre is ', r2_score(y_test, y_pred_rf))\r\n",
    "print('Root Mean Squared Error:', np.sqrt(metrics.mean_squared_error(y_test, y_pred_rf)))"
   ],
   "outputs": [
    {
     "output_type": "stream",
     "name": "stdout",
     "text": [
      "r2 socre is  0.6443363506540841\n",
      "Root Mean Squared Error: 2233062.3865423324\n"
     ]
    }
   ],
   "metadata": {}
  },
  {
   "cell_type": "markdown",
   "source": [
    "## SVR"
   ],
   "metadata": {}
  },
  {
   "cell_type": "code",
   "execution_count": 34,
   "source": [
    "from sklearn.svm import SVR\r\n",
    "\r\n",
    "svr_model = SVR(kernel='linear')\r\n",
    "svr_model.fit(X_train, y_train)\r\n",
    "\r\n",
    "print(svr_model.score(X_train, y_train))\r\n",
    "print(svr_model.score(X_test, y_test))"
   ],
   "outputs": [
    {
     "output_type": "stream",
     "name": "stdout",
     "text": [
      "-0.06169396248415393\n",
      "-0.053226188013953735\n"
     ]
    }
   ],
   "metadata": {}
  },
  {
   "cell_type": "code",
   "execution_count": 35,
   "source": [
    "# prediction\r\n",
    "y_pred_svr = svr_model.predict(X_test)"
   ],
   "outputs": [],
   "metadata": {}
  },
  {
   "cell_type": "code",
   "execution_count": 36,
   "source": [
    "from sklearn import metrics\r\n",
    "print('r2 socre is ', r2_score(y_test, y_pred_svr))\r\n",
    "print('Root Mean Squared Error:', np.sqrt(metrics.mean_squared_error(y_test, y_pred_svr)))"
   ],
   "outputs": [
    {
     "output_type": "stream",
     "name": "stdout",
     "text": [
      "r2 socre is  -0.053226188013953735\n",
      "Root Mean Squared Error: 3842748.31503099\n"
     ]
    }
   ],
   "metadata": {}
  },
  {
   "cell_type": "markdown",
   "source": [
    "## LightGBM Regression"
   ],
   "metadata": {}
  },
  {
   "cell_type": "code",
   "execution_count": 37,
   "source": [
    "import lightgbm as lgb\r\n",
    "lgb_model = lgb.LGBMRegressor()\r\n",
    "lgb_model.fit(X_train, y_train)\r\n",
    "\r\n",
    "print(lgb_model.score(X_train, y_train))\r\n",
    "print(lgb_model.score(X_test, y_test))"
   ],
   "outputs": [
    {
     "output_type": "stream",
     "name": "stdout",
     "text": [
      "0.7946330232645791\n",
      "0.671371256934024\n"
     ]
    }
   ],
   "metadata": {}
  },
  {
   "cell_type": "code",
   "execution_count": 38,
   "source": [
    "# prediction\r\n",
    "y_pred_lgb = lgb_model.predict(X_test)"
   ],
   "outputs": [],
   "metadata": {}
  },
  {
   "cell_type": "code",
   "execution_count": 39,
   "source": [
    "from sklearn import metrics\r\n",
    "print('r2 socre is ', r2_score(y_test, y_pred_lgb))\r\n",
    "print('Root Mean Squared Error:', np.sqrt(metrics.mean_squared_error(y_test, y_pred_lgb)))"
   ],
   "outputs": [
    {
     "output_type": "stream",
     "name": "stdout",
     "text": [
      "r2 socre is  0.671371256934024\n",
      "Root Mean Squared Error: 2146514.8092800668\n"
     ]
    }
   ],
   "metadata": {}
  },
  {
   "cell_type": "markdown",
   "source": [
    "## Lasso"
   ],
   "metadata": {}
  },
  {
   "cell_type": "code",
   "execution_count": 40,
   "source": [
    "# Find optimal alpha for the model\r\n",
    "from sklearn.model_selection import GridSearchCV\r\n",
    "from sklearn.linear_model import Lasso\r\n",
    "\r\n",
    "alphas = np.array([1, 0.5, 0.1, 0.01, 0])\r\n",
    "\r\n",
    "lasso_model = Lasso()\r\n",
    "grid_search = GridSearchCV(estimator = lasso_model, param_grid = dict(alpha=alphas))\r\n",
    "\r\n",
    "grid_search.fit(X_train, y_train)\r\n",
    "\r\n",
    "grid_search.best_estimator_.alpha"
   ],
   "outputs": [
    {
     "output_type": "stream",
     "name": "stderr",
     "text": [
      "C:\\Users\\86189\\anaconda3\\envs\\mlenv\\lib\\site-packages\\sklearn\\model_selection\\_validation.py:593: UserWarning: With alpha=0, this algorithm does not converge well. You are advised to use the LinearRegression estimator\n",
      "  estimator.fit(X_train, y_train, **fit_params)\n",
      "C:\\Users\\86189\\anaconda3\\envs\\mlenv\\lib\\site-packages\\sklearn\\linear_model\\_coordinate_descent.py:532: UserWarning: Coordinate descent with no regularization may lead to unexpected results and is discouraged.\n",
      "  positive)\n",
      "C:\\Users\\86189\\anaconda3\\envs\\mlenv\\lib\\site-packages\\sklearn\\linear_model\\_coordinate_descent.py:532: ConvergenceWarning: Objective did not converge. You might want to increase the number of iterations. Duality gap: 2.803580190315137e+16, tolerance: 8283611621355.81\n",
      "  positive)\n",
      "C:\\Users\\86189\\anaconda3\\envs\\mlenv\\lib\\site-packages\\sklearn\\model_selection\\_validation.py:593: UserWarning: With alpha=0, this algorithm does not converge well. You are advised to use the LinearRegression estimator\n",
      "  estimator.fit(X_train, y_train, **fit_params)\n",
      "C:\\Users\\86189\\anaconda3\\envs\\mlenv\\lib\\site-packages\\sklearn\\linear_model\\_coordinate_descent.py:532: UserWarning: Coordinate descent with no regularization may lead to unexpected results and is discouraged.\n",
      "  positive)\n",
      "C:\\Users\\86189\\anaconda3\\envs\\mlenv\\lib\\site-packages\\sklearn\\linear_model\\_coordinate_descent.py:532: ConvergenceWarning: Objective did not converge. You might want to increase the number of iterations. Duality gap: 3.105345960560003e+16, tolerance: 9348913743665.955\n",
      "  positive)\n",
      "C:\\Users\\86189\\anaconda3\\envs\\mlenv\\lib\\site-packages\\sklearn\\model_selection\\_validation.py:593: UserWarning: With alpha=0, this algorithm does not converge well. You are advised to use the LinearRegression estimator\n",
      "  estimator.fit(X_train, y_train, **fit_params)\n",
      "C:\\Users\\86189\\anaconda3\\envs\\mlenv\\lib\\site-packages\\sklearn\\linear_model\\_coordinate_descent.py:532: UserWarning: Coordinate descent with no regularization may lead to unexpected results and is discouraged.\n",
      "  positive)\n",
      "C:\\Users\\86189\\anaconda3\\envs\\mlenv\\lib\\site-packages\\sklearn\\linear_model\\_coordinate_descent.py:532: ConvergenceWarning: Objective did not converge. You might want to increase the number of iterations. Duality gap: 3.071227642928092e+16, tolerance: 9250859559149.459\n",
      "  positive)\n",
      "C:\\Users\\86189\\anaconda3\\envs\\mlenv\\lib\\site-packages\\sklearn\\model_selection\\_validation.py:593: UserWarning: With alpha=0, this algorithm does not converge well. You are advised to use the LinearRegression estimator\n",
      "  estimator.fit(X_train, y_train, **fit_params)\n",
      "C:\\Users\\86189\\anaconda3\\envs\\mlenv\\lib\\site-packages\\sklearn\\linear_model\\_coordinate_descent.py:532: UserWarning: Coordinate descent with no regularization may lead to unexpected results and is discouraged.\n",
      "  positive)\n",
      "C:\\Users\\86189\\anaconda3\\envs\\mlenv\\lib\\site-packages\\sklearn\\linear_model\\_coordinate_descent.py:532: ConvergenceWarning: Objective did not converge. You might want to increase the number of iterations. Duality gap: 2.98190743518032e+16, tolerance: 8966042736245.406\n",
      "  positive)\n",
      "C:\\Users\\86189\\anaconda3\\envs\\mlenv\\lib\\site-packages\\sklearn\\model_selection\\_validation.py:593: UserWarning: With alpha=0, this algorithm does not converge well. You are advised to use the LinearRegression estimator\n",
      "  estimator.fit(X_train, y_train, **fit_params)\n",
      "C:\\Users\\86189\\anaconda3\\envs\\mlenv\\lib\\site-packages\\sklearn\\linear_model\\_coordinate_descent.py:532: UserWarning: Coordinate descent with no regularization may lead to unexpected results and is discouraged.\n",
      "  positive)\n",
      "C:\\Users\\86189\\anaconda3\\envs\\mlenv\\lib\\site-packages\\sklearn\\linear_model\\_coordinate_descent.py:532: ConvergenceWarning: Objective did not converge. You might want to increase the number of iterations. Duality gap: 2.6506926091668e+16, tolerance: 8206911257300.797\n",
      "  positive)\n"
     ]
    },
    {
     "output_type": "execute_result",
     "data": {
      "text/plain": [
       "1.0"
      ]
     },
     "metadata": {},
     "execution_count": 40
    }
   ],
   "metadata": {}
  },
  {
   "cell_type": "code",
   "execution_count": 41,
   "source": [
    "from sklearn.linear_model import Lasso\r\n",
    "\r\n",
    "lasso_model = Lasso(alpha=1.0)\r\n",
    "lasso_model.fit(X_train, y_train)\r\n",
    "\r\n",
    "print(lasso_model.score(X_train, y_train))\r\n",
    "print(lasso_model.score(X_test, y_test))"
   ],
   "outputs": [
    {
     "output_type": "stream",
     "name": "stdout",
     "text": [
      "0.33589467872310996\n",
      "0.31102316523363394\n"
     ]
    }
   ],
   "metadata": {}
  },
  {
   "cell_type": "code",
   "execution_count": 42,
   "source": [
    "# prediction\r\n",
    "y_pred_lasso = lasso_model.predict(X_test)"
   ],
   "outputs": [],
   "metadata": {}
  },
  {
   "cell_type": "code",
   "execution_count": 43,
   "source": [
    "from sklearn import metrics\r\n",
    "print('r2 socre is ', r2_score(y_test, y_pred_lasso))\r\n",
    "print('Root Mean Squared Error:', np.sqrt(metrics.mean_squared_error(y_test, y_pred_lasso)))"
   ],
   "outputs": [
    {
     "output_type": "stream",
     "name": "stdout",
     "text": [
      "r2 socre is  0.31102316523363394\n",
      "Root Mean Squared Error: 3108017.290932072\n"
     ]
    }
   ],
   "metadata": {}
  },
  {
   "cell_type": "markdown",
   "source": [
    "## KNN"
   ],
   "metadata": {}
  },
  {
   "cell_type": "code",
   "execution_count": 44,
   "source": [
    "# Find optimal n_neighbors for the model\r\n",
    "from sklearn.neighbors import KNeighborsRegressor\r\n",
    "\r\n",
    "parameter_space = {\r\n",
    "    \"n_neighbors\": [8, 9, 10, 11, 30],\r\n",
    "    \"weights\": [\"uniform\", \"distance\"],\r\n",
    "    \"algorithm\": [\"ball_tree\", \"kd_tree\", \"brute\"],\r\n",
    "    \"leaf_size\": [1, 2, 20, 50, 200]\r\n",
    "}\r\n",
    "\r\n",
    "knn_model = KNeighborsRegressor()\r\n",
    "\r\n",
    "grid_search = GridSearchCV(knn_model, parameter_space, cv=3, n_jobs=-1)\r\n",
    "\r\n",
    "grid_search.fit(X_train, y_train)\r\n",
    "\r\n",
    "print(grid_search.best_params_)"
   ],
   "outputs": [
    {
     "output_type": "stream",
     "name": "stdout",
     "text": [
      "{'algorithm': 'kd_tree', 'leaf_size': 20, 'n_neighbors': 9, 'weights': 'distance'}\n"
     ]
    }
   ],
   "metadata": {}
  },
  {
   "cell_type": "code",
   "execution_count": 45,
   "source": [
    "knn_model = KNeighborsRegressor(n_neighbors=9, weights='distance', algorithm='kd_tree', leaf_size=20)\r\n",
    "knn_model.fit(X_train, y_train)\r\n",
    "\r\n",
    "print(knn_model.score(X_train, y_train))\r\n",
    "print(knn_model.score(X_test, y_test))"
   ],
   "outputs": [
    {
     "output_type": "stream",
     "name": "stdout",
     "text": [
      "0.9548869257646905\n",
      "0.5381014569732786\n"
     ]
    }
   ],
   "metadata": {}
  },
  {
   "cell_type": "code",
   "execution_count": 46,
   "source": [
    "# prediction\r\n",
    "y_pred_knn = knn_model.predict(X_test)"
   ],
   "outputs": [],
   "metadata": {}
  },
  {
   "cell_type": "code",
   "execution_count": 47,
   "source": [
    "from sklearn import metrics\r\n",
    "print('r2 socre is ', r2_score(y_test, y_pred_knn))\r\n",
    "print('Root Mean Squared Error:', np.sqrt(metrics.mean_squared_error(y_test, y_pred_knn)))"
   ],
   "outputs": [
    {
     "output_type": "stream",
     "name": "stdout",
     "text": [
      "r2 socre is  0.5381014569732786\n",
      "Root Mean Squared Error: 2544804.431783201\n"
     ]
    }
   ],
   "metadata": {}
  },
  {
   "cell_type": "markdown",
   "source": [
    "## Compare scores of each model"
   ],
   "metadata": {}
  },
  {
   "cell_type": "code",
   "execution_count": 48,
   "source": [
    "for reg in (lr_model, dt_model, rf_model, lgb_model, svr_model, knn_model, lasso_model):\r\n",
    "    reg.fit(X_train, y_train)\r\n",
    "    y_pred = reg.predict(X_test)\r\n",
    "    print(reg.__class__.__name__, \"Mean Squared Error:\", mean_squared_error(y_test, y_pred)/100000000)\r\n",
    "    print(reg.__class__.__name__, \"R2:\", r2_score(y_test, y_pred))"
   ],
   "outputs": [
    {
     "output_type": "stream",
     "name": "stdout",
     "text": [
      "LinearRegression Mean Squared Error: 96597.72782416662\n",
      "LinearRegression R2: 0.31102307239188565\n",
      "DecisionTreeRegressor Mean Squared Error: 86920.60305308079\n",
      "DecisionTreeRegressor R2: 0.3800445270683286\n",
      "RandomForestRegressor Mean Squared Error: 49865.676221901376\n",
      "RandomForestRegressor R2: 0.6443363506540841\n",
      "LGBMRegressor Mean Squared Error: 46075.25826458642\n",
      "LGBMRegressor R2: 0.671371256934024\n",
      "SVR Mean Squared Error: 147667.14612673514\n",
      "SVR R2: -0.053226188013953735\n",
      "KNeighborsRegressor Mean Squared Error: 64760.29596023421\n",
      "KNeighborsRegressor R2: 0.5381014569732786\n",
      "Lasso Mean Squared Error: 96597.71480732734\n",
      "Lasso R2: 0.31102316523363394\n"
     ]
    }
   ],
   "metadata": {}
  },
  {
   "cell_type": "markdown",
   "source": [
    "## Result for now"
   ],
   "metadata": {}
  },
  {
   "cell_type": "markdown",
   "source": [
    "We choose LGBMRegressor since it has lowest MSE and highest R2 score, meaning that it has most data being explained by our model.\r\n",
    "However, it seems that we still need some improvement to our model because the R2 score is not good enough.\r\n",
    "We can drop some features to improve the result, but before dropping features, we need to figure out which feature is important and which one is not.\r\n",
    "To do so, we can list the feature importance lists.\r\n",
    "We ignore the SVR model because the score is too bad.\r\n",
    "We can list their feature importance lists, however, we only have the feature index and we don't have the feature name, we need to add the feature names on our feature importance lists. \r\n"
   ],
   "metadata": {}
  },
  {
   "cell_type": "markdown",
   "source": [
    "# Improvement on models"
   ],
   "metadata": {}
  },
  {
   "cell_type": "code",
   "execution_count": 49,
   "source": [
    "from sklearn.inspection import permutation_importance\r\n",
    "\r\n",
    "# feature importance list\r\n",
    "lr_importance = lr_model.coef_\r\n",
    "dt_importance = dt_model.feature_importances_\r\n",
    "rf_importance = rf_model.feature_importances_\r\n",
    "lgb_importance = lgb_model.feature_importances_\r\n",
    "knn_results = permutation_importance(knn_model, X_test, y_test, scoring='neg_mean_squared_error')\r\n",
    "knn_importance = knn_results.importances_mean"
   ],
   "outputs": [],
   "metadata": {}
  },
  {
   "cell_type": "code",
   "execution_count": 50,
   "source": [
    "# first find all names of those features \r\n",
    "feature_names = X.columns\r\n",
    "print(feature_names)"
   ],
   "outputs": [
    {
     "output_type": "stream",
     "name": "stdout",
     "text": [
      "Index(['City', 'District', 'Floor', 'FloorType', 'BuildingType',\n",
      "       'BuildingStructure', 'RenovationCondition', 'Elevator', 'BedRooms',\n",
      "       'LivingRooms', 'Kitchens', 'BathRooms'],\n",
      "      dtype='object')\n"
     ]
    }
   ],
   "metadata": {}
  },
  {
   "cell_type": "code",
   "execution_count": 51,
   "source": [
    "lr_importance_df = pd.DataFrame(lr_importance,index = feature_names)\r\n",
    "lr_importance_df.head()"
   ],
   "outputs": [
    {
     "output_type": "execute_result",
     "data": {
      "text/html": [
       "<div>\n",
       "<style scoped>\n",
       "    .dataframe tbody tr th:only-of-type {\n",
       "        vertical-align: middle;\n",
       "    }\n",
       "\n",
       "    .dataframe tbody tr th {\n",
       "        vertical-align: top;\n",
       "    }\n",
       "\n",
       "    .dataframe thead th {\n",
       "        text-align: right;\n",
       "    }\n",
       "</style>\n",
       "<table border=\"1\" class=\"dataframe\">\n",
       "  <thead>\n",
       "    <tr style=\"text-align: right;\">\n",
       "      <th></th>\n",
       "      <th>0</th>\n",
       "    </tr>\n",
       "  </thead>\n",
       "  <tbody>\n",
       "    <tr>\n",
       "      <th>City</th>\n",
       "      <td>-4.537198e+05</td>\n",
       "    </tr>\n",
       "    <tr>\n",
       "      <th>District</th>\n",
       "      <td>2.900559e+05</td>\n",
       "    </tr>\n",
       "    <tr>\n",
       "      <th>Floor</th>\n",
       "      <td>8.830336e+04</td>\n",
       "    </tr>\n",
       "    <tr>\n",
       "      <th>FloorType</th>\n",
       "      <td>-6.855418e+04</td>\n",
       "    </tr>\n",
       "    <tr>\n",
       "      <th>BuildingType</th>\n",
       "      <td>-1.018606e+06</td>\n",
       "    </tr>\n",
       "  </tbody>\n",
       "</table>\n",
       "</div>"
      ],
      "text/plain": [
       "                         0\n",
       "City         -4.537198e+05\n",
       "District      2.900559e+05\n",
       "Floor         8.830336e+04\n",
       "FloorType    -6.855418e+04\n",
       "BuildingType -1.018606e+06"
      ]
     },
     "metadata": {},
     "execution_count": 51
    }
   ],
   "metadata": {}
  },
  {
   "cell_type": "code",
   "execution_count": 52,
   "source": [
    "sel_lr_df = lr_importance_df.loc[lr_importance_df[0] > 0]\r\n",
    "sel_lr_df.head()"
   ],
   "outputs": [
    {
     "output_type": "execute_result",
     "data": {
      "text/html": [
       "<div>\n",
       "<style scoped>\n",
       "    .dataframe tbody tr th:only-of-type {\n",
       "        vertical-align: middle;\n",
       "    }\n",
       "\n",
       "    .dataframe tbody tr th {\n",
       "        vertical-align: top;\n",
       "    }\n",
       "\n",
       "    .dataframe thead th {\n",
       "        text-align: right;\n",
       "    }\n",
       "</style>\n",
       "<table border=\"1\" class=\"dataframe\">\n",
       "  <thead>\n",
       "    <tr style=\"text-align: right;\">\n",
       "      <th></th>\n",
       "      <th>0</th>\n",
       "    </tr>\n",
       "  </thead>\n",
       "  <tbody>\n",
       "    <tr>\n",
       "      <th>District</th>\n",
       "      <td>290055.877719</td>\n",
       "    </tr>\n",
       "    <tr>\n",
       "      <th>Floor</th>\n",
       "      <td>88303.359499</td>\n",
       "    </tr>\n",
       "    <tr>\n",
       "      <th>Elevator</th>\n",
       "      <td>963027.907428</td>\n",
       "    </tr>\n",
       "    <tr>\n",
       "      <th>BedRooms</th>\n",
       "      <td>606164.166771</td>\n",
       "    </tr>\n",
       "    <tr>\n",
       "      <th>Kitchens</th>\n",
       "      <td>119211.227868</td>\n",
       "    </tr>\n",
       "  </tbody>\n",
       "</table>\n",
       "</div>"
      ],
      "text/plain": [
       "                      0\n",
       "District  290055.877719\n",
       "Floor      88303.359499\n",
       "Elevator  963027.907428\n",
       "BedRooms  606164.166771\n",
       "Kitchens  119211.227868"
      ]
     },
     "metadata": {},
     "execution_count": 52
    }
   ],
   "metadata": {}
  },
  {
   "cell_type": "code",
   "execution_count": 53,
   "source": [
    "dt_importance_df = pd.DataFrame(dt_importance,index = feature_names)\r\n",
    "dt_importance_df.head()"
   ],
   "outputs": [
    {
     "output_type": "execute_result",
     "data": {
      "text/html": [
       "<div>\n",
       "<style scoped>\n",
       "    .dataframe tbody tr th:only-of-type {\n",
       "        vertical-align: middle;\n",
       "    }\n",
       "\n",
       "    .dataframe tbody tr th {\n",
       "        vertical-align: top;\n",
       "    }\n",
       "\n",
       "    .dataframe thead th {\n",
       "        text-align: right;\n",
       "    }\n",
       "</style>\n",
       "<table border=\"1\" class=\"dataframe\">\n",
       "  <thead>\n",
       "    <tr style=\"text-align: right;\">\n",
       "      <th></th>\n",
       "      <th>0</th>\n",
       "    </tr>\n",
       "  </thead>\n",
       "  <tbody>\n",
       "    <tr>\n",
       "      <th>City</th>\n",
       "      <td>0.090617</td>\n",
       "    </tr>\n",
       "    <tr>\n",
       "      <th>District</th>\n",
       "      <td>0.235760</td>\n",
       "    </tr>\n",
       "    <tr>\n",
       "      <th>Floor</th>\n",
       "      <td>0.033487</td>\n",
       "    </tr>\n",
       "    <tr>\n",
       "      <th>FloorType</th>\n",
       "      <td>0.034862</td>\n",
       "    </tr>\n",
       "    <tr>\n",
       "      <th>BuildingType</th>\n",
       "      <td>0.063574</td>\n",
       "    </tr>\n",
       "  </tbody>\n",
       "</table>\n",
       "</div>"
      ],
      "text/plain": [
       "                     0\n",
       "City          0.090617\n",
       "District      0.235760\n",
       "Floor         0.033487\n",
       "FloorType     0.034862\n",
       "BuildingType  0.063574"
      ]
     },
     "metadata": {},
     "execution_count": 53
    }
   ],
   "metadata": {}
  },
  {
   "cell_type": "code",
   "execution_count": 54,
   "source": [
    "sel_dt_df = dt_importance_df.loc[dt_importance_df[0] > 0]\r\n",
    "sel_dt_df.head()"
   ],
   "outputs": [
    {
     "output_type": "execute_result",
     "data": {
      "text/html": [
       "<div>\n",
       "<style scoped>\n",
       "    .dataframe tbody tr th:only-of-type {\n",
       "        vertical-align: middle;\n",
       "    }\n",
       "\n",
       "    .dataframe tbody tr th {\n",
       "        vertical-align: top;\n",
       "    }\n",
       "\n",
       "    .dataframe thead th {\n",
       "        text-align: right;\n",
       "    }\n",
       "</style>\n",
       "<table border=\"1\" class=\"dataframe\">\n",
       "  <thead>\n",
       "    <tr style=\"text-align: right;\">\n",
       "      <th></th>\n",
       "      <th>0</th>\n",
       "    </tr>\n",
       "  </thead>\n",
       "  <tbody>\n",
       "    <tr>\n",
       "      <th>City</th>\n",
       "      <td>0.090617</td>\n",
       "    </tr>\n",
       "    <tr>\n",
       "      <th>District</th>\n",
       "      <td>0.235760</td>\n",
       "    </tr>\n",
       "    <tr>\n",
       "      <th>Floor</th>\n",
       "      <td>0.033487</td>\n",
       "    </tr>\n",
       "    <tr>\n",
       "      <th>FloorType</th>\n",
       "      <td>0.034862</td>\n",
       "    </tr>\n",
       "    <tr>\n",
       "      <th>BuildingType</th>\n",
       "      <td>0.063574</td>\n",
       "    </tr>\n",
       "  </tbody>\n",
       "</table>\n",
       "</div>"
      ],
      "text/plain": [
       "                     0\n",
       "City          0.090617\n",
       "District      0.235760\n",
       "Floor         0.033487\n",
       "FloorType     0.034862\n",
       "BuildingType  0.063574"
      ]
     },
     "metadata": {},
     "execution_count": 54
    }
   ],
   "metadata": {}
  },
  {
   "cell_type": "code",
   "execution_count": 55,
   "source": [
    "rf_importance_df = pd.DataFrame(rf_importance,index = feature_names)\r\n",
    "rf_importance_df.head()"
   ],
   "outputs": [
    {
     "output_type": "execute_result",
     "data": {
      "text/html": [
       "<div>\n",
       "<style scoped>\n",
       "    .dataframe tbody tr th:only-of-type {\n",
       "        vertical-align: middle;\n",
       "    }\n",
       "\n",
       "    .dataframe tbody tr th {\n",
       "        vertical-align: top;\n",
       "    }\n",
       "\n",
       "    .dataframe thead th {\n",
       "        text-align: right;\n",
       "    }\n",
       "</style>\n",
       "<table border=\"1\" class=\"dataframe\">\n",
       "  <thead>\n",
       "    <tr style=\"text-align: right;\">\n",
       "      <th></th>\n",
       "      <th>0</th>\n",
       "    </tr>\n",
       "  </thead>\n",
       "  <tbody>\n",
       "    <tr>\n",
       "      <th>City</th>\n",
       "      <td>0.106664</td>\n",
       "    </tr>\n",
       "    <tr>\n",
       "      <th>District</th>\n",
       "      <td>0.218682</td>\n",
       "    </tr>\n",
       "    <tr>\n",
       "      <th>Floor</th>\n",
       "      <td>0.045057</td>\n",
       "    </tr>\n",
       "    <tr>\n",
       "      <th>FloorType</th>\n",
       "      <td>0.037415</td>\n",
       "    </tr>\n",
       "    <tr>\n",
       "      <th>BuildingType</th>\n",
       "      <td>0.079986</td>\n",
       "    </tr>\n",
       "  </tbody>\n",
       "</table>\n",
       "</div>"
      ],
      "text/plain": [
       "                     0\n",
       "City          0.106664\n",
       "District      0.218682\n",
       "Floor         0.045057\n",
       "FloorType     0.037415\n",
       "BuildingType  0.079986"
      ]
     },
     "metadata": {},
     "execution_count": 55
    }
   ],
   "metadata": {}
  },
  {
   "cell_type": "code",
   "execution_count": 56,
   "source": [
    "sel_rf_df = rf_importance_df.loc[rf_importance_df[0] > 0]\r\n",
    "sel_rf_df.head()"
   ],
   "outputs": [
    {
     "output_type": "execute_result",
     "data": {
      "text/html": [
       "<div>\n",
       "<style scoped>\n",
       "    .dataframe tbody tr th:only-of-type {\n",
       "        vertical-align: middle;\n",
       "    }\n",
       "\n",
       "    .dataframe tbody tr th {\n",
       "        vertical-align: top;\n",
       "    }\n",
       "\n",
       "    .dataframe thead th {\n",
       "        text-align: right;\n",
       "    }\n",
       "</style>\n",
       "<table border=\"1\" class=\"dataframe\">\n",
       "  <thead>\n",
       "    <tr style=\"text-align: right;\">\n",
       "      <th></th>\n",
       "      <th>0</th>\n",
       "    </tr>\n",
       "  </thead>\n",
       "  <tbody>\n",
       "    <tr>\n",
       "      <th>City</th>\n",
       "      <td>0.106664</td>\n",
       "    </tr>\n",
       "    <tr>\n",
       "      <th>District</th>\n",
       "      <td>0.218682</td>\n",
       "    </tr>\n",
       "    <tr>\n",
       "      <th>Floor</th>\n",
       "      <td>0.045057</td>\n",
       "    </tr>\n",
       "    <tr>\n",
       "      <th>FloorType</th>\n",
       "      <td>0.037415</td>\n",
       "    </tr>\n",
       "    <tr>\n",
       "      <th>BuildingType</th>\n",
       "      <td>0.079986</td>\n",
       "    </tr>\n",
       "  </tbody>\n",
       "</table>\n",
       "</div>"
      ],
      "text/plain": [
       "                     0\n",
       "City          0.106664\n",
       "District      0.218682\n",
       "Floor         0.045057\n",
       "FloorType     0.037415\n",
       "BuildingType  0.079986"
      ]
     },
     "metadata": {},
     "execution_count": 56
    }
   ],
   "metadata": {}
  },
  {
   "cell_type": "code",
   "execution_count": 57,
   "source": [
    "lgb_importance_df = pd.DataFrame(lgb_importance,index = feature_names)\r\n",
    "lgb_importance_df.head()"
   ],
   "outputs": [
    {
     "output_type": "execute_result",
     "data": {
      "text/html": [
       "<div>\n",
       "<style scoped>\n",
       "    .dataframe tbody tr th:only-of-type {\n",
       "        vertical-align: middle;\n",
       "    }\n",
       "\n",
       "    .dataframe tbody tr th {\n",
       "        vertical-align: top;\n",
       "    }\n",
       "\n",
       "    .dataframe thead th {\n",
       "        text-align: right;\n",
       "    }\n",
       "</style>\n",
       "<table border=\"1\" class=\"dataframe\">\n",
       "  <thead>\n",
       "    <tr style=\"text-align: right;\">\n",
       "      <th></th>\n",
       "      <th>0</th>\n",
       "    </tr>\n",
       "  </thead>\n",
       "  <tbody>\n",
       "    <tr>\n",
       "      <th>City</th>\n",
       "      <td>245</td>\n",
       "    </tr>\n",
       "    <tr>\n",
       "      <th>District</th>\n",
       "      <td>1203</td>\n",
       "    </tr>\n",
       "    <tr>\n",
       "      <th>Floor</th>\n",
       "      <td>163</td>\n",
       "    </tr>\n",
       "    <tr>\n",
       "      <th>FloorType</th>\n",
       "      <td>138</td>\n",
       "    </tr>\n",
       "    <tr>\n",
       "      <th>BuildingType</th>\n",
       "      <td>167</td>\n",
       "    </tr>\n",
       "  </tbody>\n",
       "</table>\n",
       "</div>"
      ],
      "text/plain": [
       "                 0\n",
       "City           245\n",
       "District      1203\n",
       "Floor          163\n",
       "FloorType      138\n",
       "BuildingType   167"
      ]
     },
     "metadata": {},
     "execution_count": 57
    }
   ],
   "metadata": {}
  },
  {
   "cell_type": "code",
   "execution_count": 58,
   "source": [
    "sel_lgb_df = lgb_importance_df.loc[lgb_importance_df[0] > 0]\r\n",
    "sel_lgb_df.head()"
   ],
   "outputs": [
    {
     "output_type": "execute_result",
     "data": {
      "text/html": [
       "<div>\n",
       "<style scoped>\n",
       "    .dataframe tbody tr th:only-of-type {\n",
       "        vertical-align: middle;\n",
       "    }\n",
       "\n",
       "    .dataframe tbody tr th {\n",
       "        vertical-align: top;\n",
       "    }\n",
       "\n",
       "    .dataframe thead th {\n",
       "        text-align: right;\n",
       "    }\n",
       "</style>\n",
       "<table border=\"1\" class=\"dataframe\">\n",
       "  <thead>\n",
       "    <tr style=\"text-align: right;\">\n",
       "      <th></th>\n",
       "      <th>0</th>\n",
       "    </tr>\n",
       "  </thead>\n",
       "  <tbody>\n",
       "    <tr>\n",
       "      <th>City</th>\n",
       "      <td>245</td>\n",
       "    </tr>\n",
       "    <tr>\n",
       "      <th>District</th>\n",
       "      <td>1203</td>\n",
       "    </tr>\n",
       "    <tr>\n",
       "      <th>Floor</th>\n",
       "      <td>163</td>\n",
       "    </tr>\n",
       "    <tr>\n",
       "      <th>FloorType</th>\n",
       "      <td>138</td>\n",
       "    </tr>\n",
       "    <tr>\n",
       "      <th>BuildingType</th>\n",
       "      <td>167</td>\n",
       "    </tr>\n",
       "  </tbody>\n",
       "</table>\n",
       "</div>"
      ],
      "text/plain": [
       "                 0\n",
       "City           245\n",
       "District      1203\n",
       "Floor          163\n",
       "FloorType      138\n",
       "BuildingType   167"
      ]
     },
     "metadata": {},
     "execution_count": 58
    }
   ],
   "metadata": {}
  },
  {
   "cell_type": "code",
   "execution_count": 59,
   "source": [
    "knn_importance_df = pd.DataFrame(knn_importance,index = feature_names)\r\n",
    "knn_importance_df.head()"
   ],
   "outputs": [
    {
     "output_type": "execute_result",
     "data": {
      "text/html": [
       "<div>\n",
       "<style scoped>\n",
       "    .dataframe tbody tr th:only-of-type {\n",
       "        vertical-align: middle;\n",
       "    }\n",
       "\n",
       "    .dataframe tbody tr th {\n",
       "        vertical-align: top;\n",
       "    }\n",
       "\n",
       "    .dataframe thead th {\n",
       "        text-align: right;\n",
       "    }\n",
       "</style>\n",
       "<table border=\"1\" class=\"dataframe\">\n",
       "  <thead>\n",
       "    <tr style=\"text-align: right;\">\n",
       "      <th></th>\n",
       "      <th>0</th>\n",
       "    </tr>\n",
       "  </thead>\n",
       "  <tbody>\n",
       "    <tr>\n",
       "      <th>City</th>\n",
       "      <td>2.784230e+12</td>\n",
       "    </tr>\n",
       "    <tr>\n",
       "      <th>District</th>\n",
       "      <td>2.908372e+12</td>\n",
       "    </tr>\n",
       "    <tr>\n",
       "      <th>Floor</th>\n",
       "      <td>4.474411e+11</td>\n",
       "    </tr>\n",
       "    <tr>\n",
       "      <th>FloorType</th>\n",
       "      <td>7.123608e+11</td>\n",
       "    </tr>\n",
       "    <tr>\n",
       "      <th>BuildingType</th>\n",
       "      <td>1.524072e+12</td>\n",
       "    </tr>\n",
       "  </tbody>\n",
       "</table>\n",
       "</div>"
      ],
      "text/plain": [
       "                         0\n",
       "City          2.784230e+12\n",
       "District      2.908372e+12\n",
       "Floor         4.474411e+11\n",
       "FloorType     7.123608e+11\n",
       "BuildingType  1.524072e+12"
      ]
     },
     "metadata": {},
     "execution_count": 59
    }
   ],
   "metadata": {}
  },
  {
   "cell_type": "code",
   "execution_count": 60,
   "source": [
    "sel_knn_df = knn_importance_df.loc[knn_importance_df[0] > 0]\r\n",
    "sel_knn_df.head()"
   ],
   "outputs": [
    {
     "output_type": "execute_result",
     "data": {
      "text/html": [
       "<div>\n",
       "<style scoped>\n",
       "    .dataframe tbody tr th:only-of-type {\n",
       "        vertical-align: middle;\n",
       "    }\n",
       "\n",
       "    .dataframe tbody tr th {\n",
       "        vertical-align: top;\n",
       "    }\n",
       "\n",
       "    .dataframe thead th {\n",
       "        text-align: right;\n",
       "    }\n",
       "</style>\n",
       "<table border=\"1\" class=\"dataframe\">\n",
       "  <thead>\n",
       "    <tr style=\"text-align: right;\">\n",
       "      <th></th>\n",
       "      <th>0</th>\n",
       "    </tr>\n",
       "  </thead>\n",
       "  <tbody>\n",
       "    <tr>\n",
       "      <th>City</th>\n",
       "      <td>2.784230e+12</td>\n",
       "    </tr>\n",
       "    <tr>\n",
       "      <th>District</th>\n",
       "      <td>2.908372e+12</td>\n",
       "    </tr>\n",
       "    <tr>\n",
       "      <th>Floor</th>\n",
       "      <td>4.474411e+11</td>\n",
       "    </tr>\n",
       "    <tr>\n",
       "      <th>FloorType</th>\n",
       "      <td>7.123608e+11</td>\n",
       "    </tr>\n",
       "    <tr>\n",
       "      <th>BuildingType</th>\n",
       "      <td>1.524072e+12</td>\n",
       "    </tr>\n",
       "  </tbody>\n",
       "</table>\n",
       "</div>"
      ],
      "text/plain": [
       "                         0\n",
       "City          2.784230e+12\n",
       "District      2.908372e+12\n",
       "Floor         4.474411e+11\n",
       "FloorType     7.123608e+11\n",
       "BuildingType  1.524072e+12"
      ]
     },
     "metadata": {},
     "execution_count": 60
    }
   ],
   "metadata": {}
  },
  {
   "cell_type": "code",
   "execution_count": 61,
   "source": [
    "# select features which is relatively important in each model \r\n",
    "sel_lr_index = sel_lr_df.index\r\n",
    "sel_dt_index = sel_dt_df.index\r\n",
    "sel_rf_index = sel_rf_df.index\r\n",
    "sel_lgb_index = sel_lgb_df.index\r\n",
    "sel_knn_index = sel_knn_df.index"
   ],
   "outputs": [],
   "metadata": {}
  },
  {
   "cell_type": "code",
   "execution_count": 62,
   "source": [
    "# Union all important features of these 3 models \r\n",
    "union_1 = np.union1d(sel_lr_index, sel_dt_index)\r\n",
    "union_2 = np.union1d(union_1, sel_rf_index)\r\n",
    "union_3 = np.union1d(union_2, sel_lgb_index)\r\n",
    "union_4 = np.union1d(union_3, sel_knn_index)\r\n",
    "union = np.append(union_4,'TotalPrice')"
   ],
   "outputs": [],
   "metadata": {}
  },
  {
   "cell_type": "code",
   "execution_count": 63,
   "source": [
    "df_important = df[union]\r\n",
    "df_important"
   ],
   "outputs": [
    {
     "output_type": "execute_result",
     "data": {
      "text/html": [
       "<div>\n",
       "<style scoped>\n",
       "    .dataframe tbody tr th:only-of-type {\n",
       "        vertical-align: middle;\n",
       "    }\n",
       "\n",
       "    .dataframe tbody tr th {\n",
       "        vertical-align: top;\n",
       "    }\n",
       "\n",
       "    .dataframe thead th {\n",
       "        text-align: right;\n",
       "    }\n",
       "</style>\n",
       "<table border=\"1\" class=\"dataframe\">\n",
       "  <thead>\n",
       "    <tr style=\"text-align: right;\">\n",
       "      <th></th>\n",
       "      <th>BathRooms</th>\n",
       "      <th>BedRooms</th>\n",
       "      <th>BuildingStructure</th>\n",
       "      <th>BuildingType</th>\n",
       "      <th>City</th>\n",
       "      <th>District</th>\n",
       "      <th>Elevator</th>\n",
       "      <th>Floor</th>\n",
       "      <th>FloorType</th>\n",
       "      <th>Kitchens</th>\n",
       "      <th>LivingRooms</th>\n",
       "      <th>RenovationCondition</th>\n",
       "      <th>TotalPrice</th>\n",
       "    </tr>\n",
       "  </thead>\n",
       "  <tbody>\n",
       "    <tr>\n",
       "      <th>0</th>\n",
       "      <td>2</td>\n",
       "      <td>3</td>\n",
       "      <td>4</td>\n",
       "      <td>2</td>\n",
       "      <td>0</td>\n",
       "      <td>19</td>\n",
       "      <td>1</td>\n",
       "      <td>2</td>\n",
       "      <td>1</td>\n",
       "      <td>1</td>\n",
       "      <td>2</td>\n",
       "      <td>0</td>\n",
       "      <td>7950000</td>\n",
       "    </tr>\n",
       "    <tr>\n",
       "      <th>1</th>\n",
       "      <td>1</td>\n",
       "      <td>2</td>\n",
       "      <td>2</td>\n",
       "      <td>2</td>\n",
       "      <td>0</td>\n",
       "      <td>31</td>\n",
       "      <td>0</td>\n",
       "      <td>3</td>\n",
       "      <td>1</td>\n",
       "      <td>1</td>\n",
       "      <td>1</td>\n",
       "      <td>1</td>\n",
       "      <td>6350000</td>\n",
       "    </tr>\n",
       "    <tr>\n",
       "      <th>2</th>\n",
       "      <td>1</td>\n",
       "      <td>2</td>\n",
       "      <td>4</td>\n",
       "      <td>2</td>\n",
       "      <td>0</td>\n",
       "      <td>2</td>\n",
       "      <td>1</td>\n",
       "      <td>3</td>\n",
       "      <td>1</td>\n",
       "      <td>1</td>\n",
       "      <td>1</td>\n",
       "      <td>0</td>\n",
       "      <td>5850000</td>\n",
       "    </tr>\n",
       "    <tr>\n",
       "      <th>3</th>\n",
       "      <td>1</td>\n",
       "      <td>3</td>\n",
       "      <td>2</td>\n",
       "      <td>2</td>\n",
       "      <td>0</td>\n",
       "      <td>7</td>\n",
       "      <td>0</td>\n",
       "      <td>1</td>\n",
       "      <td>1</td>\n",
       "      <td>1</td>\n",
       "      <td>1</td>\n",
       "      <td>0</td>\n",
       "      <td>5090000</td>\n",
       "    </tr>\n",
       "    <tr>\n",
       "      <th>4</th>\n",
       "      <td>1</td>\n",
       "      <td>2</td>\n",
       "      <td>4</td>\n",
       "      <td>2</td>\n",
       "      <td>0</td>\n",
       "      <td>33</td>\n",
       "      <td>1</td>\n",
       "      <td>4</td>\n",
       "      <td>1</td>\n",
       "      <td>1</td>\n",
       "      <td>1</td>\n",
       "      <td>0</td>\n",
       "      <td>2730000</td>\n",
       "    </tr>\n",
       "    <tr>\n",
       "      <th>...</th>\n",
       "      <td>...</td>\n",
       "      <td>...</td>\n",
       "      <td>...</td>\n",
       "      <td>...</td>\n",
       "      <td>...</td>\n",
       "      <td>...</td>\n",
       "      <td>...</td>\n",
       "      <td>...</td>\n",
       "      <td>...</td>\n",
       "      <td>...</td>\n",
       "      <td>...</td>\n",
       "      <td>...</td>\n",
       "      <td>...</td>\n",
       "    </tr>\n",
       "    <tr>\n",
       "      <th>7516</th>\n",
       "      <td>1</td>\n",
       "      <td>3</td>\n",
       "      <td>4</td>\n",
       "      <td>4</td>\n",
       "      <td>1</td>\n",
       "      <td>41</td>\n",
       "      <td>1</td>\n",
       "      <td>4</td>\n",
       "      <td>1</td>\n",
       "      <td>1</td>\n",
       "      <td>2</td>\n",
       "      <td>0</td>\n",
       "      <td>5380000</td>\n",
       "    </tr>\n",
       "    <tr>\n",
       "      <th>7517</th>\n",
       "      <td>1</td>\n",
       "      <td>2</td>\n",
       "      <td>4</td>\n",
       "      <td>4</td>\n",
       "      <td>1</td>\n",
       "      <td>32</td>\n",
       "      <td>0</td>\n",
       "      <td>4</td>\n",
       "      <td>1</td>\n",
       "      <td>1</td>\n",
       "      <td>1</td>\n",
       "      <td>3</td>\n",
       "      <td>1680000</td>\n",
       "    </tr>\n",
       "    <tr>\n",
       "      <th>7518</th>\n",
       "      <td>1</td>\n",
       "      <td>2</td>\n",
       "      <td>4</td>\n",
       "      <td>4</td>\n",
       "      <td>1</td>\n",
       "      <td>29</td>\n",
       "      <td>1</td>\n",
       "      <td>2</td>\n",
       "      <td>1</td>\n",
       "      <td>1</td>\n",
       "      <td>2</td>\n",
       "      <td>3</td>\n",
       "      <td>3800000</td>\n",
       "    </tr>\n",
       "    <tr>\n",
       "      <th>7519</th>\n",
       "      <td>1</td>\n",
       "      <td>2</td>\n",
       "      <td>4</td>\n",
       "      <td>4</td>\n",
       "      <td>1</td>\n",
       "      <td>29</td>\n",
       "      <td>0</td>\n",
       "      <td>2</td>\n",
       "      <td>1</td>\n",
       "      <td>1</td>\n",
       "      <td>1</td>\n",
       "      <td>0</td>\n",
       "      <td>1200000</td>\n",
       "    </tr>\n",
       "    <tr>\n",
       "      <th>7520</th>\n",
       "      <td>1</td>\n",
       "      <td>2</td>\n",
       "      <td>4</td>\n",
       "      <td>3</td>\n",
       "      <td>1</td>\n",
       "      <td>25</td>\n",
       "      <td>1</td>\n",
       "      <td>2</td>\n",
       "      <td>1</td>\n",
       "      <td>1</td>\n",
       "      <td>2</td>\n",
       "      <td>3</td>\n",
       "      <td>3000000</td>\n",
       "    </tr>\n",
       "  </tbody>\n",
       "</table>\n",
       "<p>7320 rows × 13 columns</p>\n",
       "</div>"
      ],
      "text/plain": [
       "      BathRooms  BedRooms  BuildingStructure  BuildingType  City  District  \\\n",
       "0             2         3                  4             2     0        19   \n",
       "1             1         2                  2             2     0        31   \n",
       "2             1         2                  4             2     0         2   \n",
       "3             1         3                  2             2     0         7   \n",
       "4             1         2                  4             2     0        33   \n",
       "...         ...       ...                ...           ...   ...       ...   \n",
       "7516          1         3                  4             4     1        41   \n",
       "7517          1         2                  4             4     1        32   \n",
       "7518          1         2                  4             4     1        29   \n",
       "7519          1         2                  4             4     1        29   \n",
       "7520          1         2                  4             3     1        25   \n",
       "\n",
       "      Elevator  Floor  FloorType  Kitchens  LivingRooms  RenovationCondition  \\\n",
       "0            1      2          1         1            2                    0   \n",
       "1            0      3          1         1            1                    1   \n",
       "2            1      3          1         1            1                    0   \n",
       "3            0      1          1         1            1                    0   \n",
       "4            1      4          1         1            1                    0   \n",
       "...        ...    ...        ...       ...          ...                  ...   \n",
       "7516         1      4          1         1            2                    0   \n",
       "7517         0      4          1         1            1                    3   \n",
       "7518         1      2          1         1            2                    3   \n",
       "7519         0      2          1         1            1                    0   \n",
       "7520         1      2          1         1            2                    3   \n",
       "\n",
       "      TotalPrice  \n",
       "0        7950000  \n",
       "1        6350000  \n",
       "2        5850000  \n",
       "3        5090000  \n",
       "4        2730000  \n",
       "...          ...  \n",
       "7516     5380000  \n",
       "7517     1680000  \n",
       "7518     3800000  \n",
       "7519     1200000  \n",
       "7520     3000000  \n",
       "\n",
       "[7320 rows x 13 columns]"
      ]
     },
     "metadata": {},
     "execution_count": 63
    }
   ],
   "metadata": {}
  },
  {
   "cell_type": "markdown",
   "source": [
    "# Model again"
   ],
   "metadata": {}
  },
  {
   "cell_type": "markdown",
   "source": [
    "## Split dataset"
   ],
   "metadata": {}
  },
  {
   "cell_type": "code",
   "execution_count": 64,
   "source": [
    "# Split dataset\r\n",
    "X_imp = df_important.drop(['TotalPrice'], axis = 1)\r\n",
    "y_imp = df_important['TotalPrice']"
   ],
   "outputs": [],
   "metadata": {}
  },
  {
   "cell_type": "code",
   "execution_count": 65,
   "source": [
    "print(X_imp.shape)\r\n",
    "print(y_imp.shape)"
   ],
   "outputs": [
    {
     "output_type": "stream",
     "name": "stdout",
     "text": [
      "(7320, 12)\n",
      "(7320,)\n"
     ]
    }
   ],
   "metadata": {}
  },
  {
   "cell_type": "code",
   "execution_count": 66,
   "source": [
    "# split data to 80% of training and 20% of testing\r\n",
    "X_train_imp, X_test_imp, y_train_imp, y_test_imp = train_test_split(X_imp, y_imp, test_size=0.2, random_state=47)"
   ],
   "outputs": [],
   "metadata": {}
  },
  {
   "cell_type": "code",
   "execution_count": 67,
   "source": [
    "print(X_train_imp.shape)\r\n",
    "print(X_test_imp.shape)\r\n",
    "print(y_train_imp.shape)\r\n",
    "print(y_test_imp.shape)"
   ],
   "outputs": [
    {
     "output_type": "stream",
     "name": "stdout",
     "text": [
      "(5856, 12)\n",
      "(1464, 12)\n",
      "(5856,)\n",
      "(1464,)\n"
     ]
    }
   ],
   "metadata": {}
  },
  {
   "cell_type": "markdown",
   "source": [
    "## Standardize"
   ],
   "metadata": {}
  },
  {
   "cell_type": "code",
   "execution_count": 68,
   "source": [
    "# Feature Scaling\r\n",
    "from sklearn.preprocessing import StandardScaler\r\n",
    "\r\n",
    "sc = StandardScaler()\r\n",
    "X_train_imp = sc.fit_transform(X_train_imp)\r\n",
    "X_test_imp = sc.transform(X_test_imp)"
   ],
   "outputs": [],
   "metadata": {}
  },
  {
   "cell_type": "markdown",
   "source": [
    "## Multiple Linear Regression"
   ],
   "metadata": {}
  },
  {
   "cell_type": "code",
   "execution_count": 69,
   "source": [
    "from sklearn.linear_model import LinearRegression\r\n",
    "\r\n",
    "lr_model = LinearRegression()\r\n",
    "lr_model.fit(X_train_imp, y_train_imp)\r\n",
    "\r\n",
    "print(lr_model.score(X_train_imp, y_train_imp))\r\n",
    "print(lr_model.score(X_test_imp, y_test_imp))"
   ],
   "outputs": [
    {
     "output_type": "stream",
     "name": "stdout",
     "text": [
      "0.3358946787240613\n",
      "0.31102307239188587\n"
     ]
    }
   ],
   "metadata": {}
  },
  {
   "cell_type": "code",
   "execution_count": 70,
   "source": [
    "# prediction\r\n",
    "y_pred_lr_imp = lr_model.predict(X_test_imp)\r\n",
    "\r\n",
    "print('r2 socre is ', r2_score(y_test_imp, y_pred_lr_imp))\r\n",
    "print('Root Mean Squared Error:', np.sqrt(metrics.mean_squared_error(y_test_imp, y_pred_lr_imp)))"
   ],
   "outputs": [
    {
     "output_type": "stream",
     "name": "stdout",
     "text": [
      "r2 socre is  0.31102307239188587\n",
      "Root Mean Squared Error: 3108017.5003395104\n"
     ]
    }
   ],
   "metadata": {}
  },
  {
   "cell_type": "markdown",
   "source": [
    "## Decision Tree"
   ],
   "metadata": {}
  },
  {
   "cell_type": "code",
   "execution_count": 71,
   "source": [
    "from sklearn.tree import DecisionTreeRegressor\r\n",
    "\r\n",
    "dt_model = DecisionTreeRegressor()\r\n",
    "dt_model.fit(X_train_imp, y_train_imp)\r\n",
    "\r\n",
    "print(dt_model.score(X_train_imp, y_train_imp))\r\n",
    "print(dt_model.score(X_test_imp, y_test_imp))"
   ],
   "outputs": [
    {
     "output_type": "stream",
     "name": "stdout",
     "text": [
      "0.9551735217852773\n",
      "0.27686447137564363\n"
     ]
    }
   ],
   "metadata": {}
  },
  {
   "cell_type": "code",
   "execution_count": 72,
   "source": [
    "# prediction\r\n",
    "y_pred_dt_imp = dt_model.predict(X_test_imp)\r\n",
    "\r\n",
    "print('r2 socre is ', r2_score(y_test_imp, y_pred_dt_imp))\r\n",
    "print('Root Mean Squared Error:', np.sqrt(metrics.mean_squared_error(y_test_imp, y_pred_dt_imp)))"
   ],
   "outputs": [
    {
     "output_type": "stream",
     "name": "stdout",
     "text": [
      "r2 socre is  0.27686447137564363\n",
      "Root Mean Squared Error: 3184131.286285501\n"
     ]
    }
   ],
   "metadata": {}
  },
  {
   "cell_type": "markdown",
   "source": [
    "## Random Forest Regression"
   ],
   "metadata": {}
  },
  {
   "cell_type": "code",
   "execution_count": 73,
   "source": [
    "# Find optimal n_estimator for the model\r\n",
    "from sklearn.model_selection import GridSearchCV\r\n",
    "from sklearn.ensemble import RandomForestRegressor\r\n",
    "\r\n",
    "param_grid ={\r\n",
    "    'n_estimators': [20, 100, 500, 1000, 5000]\r\n",
    "}\r\n",
    "\r\n",
    "rf_model = RandomForestRegressor()\r\n",
    "grid_search = GridSearchCV(estimator = rf_model, param_grid = param_grid, cv=3, n_jobs=-1)\r\n",
    "\r\n",
    "grid_search.fit(X_train, y_train)\r\n",
    "\r\n",
    "grid_search.best_params_"
   ],
   "outputs": [
    {
     "output_type": "execute_result",
     "data": {
      "text/plain": [
       "{'n_estimators': 100}"
      ]
     },
     "metadata": {},
     "execution_count": 73
    }
   ],
   "metadata": {}
  },
  {
   "cell_type": "code",
   "execution_count": 74,
   "source": [
    "rf_model = RandomForestRegressor(n_estimators=100, random_state=47)\r\n",
    "rf_model.fit(X_train, y_train)\r\n",
    "\r\n",
    "print(rf_model.score(X_train, y_train))\r\n",
    "print(rf_model.score(X_test, y_test))"
   ],
   "outputs": [
    {
     "output_type": "stream",
     "name": "stdout",
     "text": [
      "0.9146999496986061\n",
      "0.6443363506540841\n"
     ]
    }
   ],
   "metadata": {}
  },
  {
   "cell_type": "code",
   "execution_count": 75,
   "source": [
    "# prediction\r\n",
    "y_pred_rf = rf_model.predict(X_test)\r\n",
    "\r\n",
    "print('r2 socre is ', r2_score(y_test, y_pred_rf))\r\n",
    "print('Root Mean Squared Error:', np.sqrt(metrics.mean_squared_error(y_test, y_pred_rf)))"
   ],
   "outputs": [
    {
     "output_type": "stream",
     "name": "stdout",
     "text": [
      "r2 socre is  0.6443363506540841\n",
      "Root Mean Squared Error: 2233062.3865423324\n"
     ]
    }
   ],
   "metadata": {}
  },
  {
   "cell_type": "markdown",
   "source": [
    "## LGBM Regression"
   ],
   "metadata": {}
  },
  {
   "cell_type": "code",
   "execution_count": 76,
   "source": [
    "import lightgbm as lgb\r\n",
    "lgb_model = lgb.LGBMRegressor()\r\n",
    "lgb_model.fit(X_train_imp, y_train_imp)\r\n",
    "\r\n",
    "print(lgb_model.score(X_train_imp, y_train_imp))\r\n",
    "print(lgb_model.score(X_test_imp, y_test_imp))"
   ],
   "outputs": [
    {
     "output_type": "stream",
     "name": "stdout",
     "text": [
      "0.7946330232645791\n",
      "0.671371256934024\n"
     ]
    }
   ],
   "metadata": {}
  },
  {
   "cell_type": "code",
   "execution_count": 77,
   "source": [
    "# prediction\r\n",
    "y_pred_lgb_imp = lgb_model.predict(X_test_imp)\r\n",
    "\r\n",
    "print('r2 socre is ', r2_score(y_test_imp, y_pred_lgb_imp))\r\n",
    "print('Root Mean Squared Error:', np.sqrt(metrics.mean_squared_error(y_test_imp, y_pred_lgb_imp)))"
   ],
   "outputs": [
    {
     "output_type": "stream",
     "name": "stdout",
     "text": [
      "r2 socre is  0.671371256934024\n",
      "Root Mean Squared Error: 2146514.8092800668\n"
     ]
    }
   ],
   "metadata": {}
  },
  {
   "cell_type": "markdown",
   "source": [
    "## KNN Regression"
   ],
   "metadata": {}
  },
  {
   "cell_type": "code",
   "execution_count": 78,
   "source": [
    "# Find optimal n_neighbors for the model\r\n",
    "from sklearn.neighbors import KNeighborsRegressor\r\n",
    "\r\n",
    "parameter_space = {\r\n",
    "    \"n_neighbors\": [8, 9, 10, 11, 30],\r\n",
    "    \"weights\": [\"uniform\", \"distance\"],\r\n",
    "    \"algorithm\": [\"ball_tree\", \"kd_tree\", \"brute\"],\r\n",
    "    \"leaf_size\": [1, 2, 20, 50, 200]\r\n",
    "}\r\n",
    "\r\n",
    "knn_model = KNeighborsRegressor()\r\n",
    "\r\n",
    "grid_search = GridSearchCV(knn_model, parameter_space, cv=3, n_jobs=-1)\r\n",
    "\r\n",
    "grid_search.fit(X_train, y_train)\r\n",
    "\r\n",
    "print(grid_search.best_params_)"
   ],
   "outputs": [
    {
     "output_type": "stream",
     "name": "stdout",
     "text": [
      "{'algorithm': 'kd_tree', 'leaf_size': 20, 'n_neighbors': 9, 'weights': 'distance'}\n"
     ]
    }
   ],
   "metadata": {}
  },
  {
   "cell_type": "code",
   "execution_count": 79,
   "source": [
    "knn_model = KNeighborsRegressor(n_neighbors=9, weights='distance', algorithm='kd_tree', leaf_size=20)\r\n",
    "knn_model.fit(X_train_imp, y_train_imp)\r\n",
    "\r\n",
    "print(knn_model.score(X_train_imp, y_train_imp))\r\n",
    "print(knn_model.score(X_test_imp, y_test_imp))"
   ],
   "outputs": [
    {
     "output_type": "stream",
     "name": "stdout",
     "text": [
      "0.9548869257646905\n",
      "0.5381014569732786\n"
     ]
    }
   ],
   "metadata": {}
  },
  {
   "cell_type": "code",
   "execution_count": 80,
   "source": [
    "# prediction\r\n",
    "y_pred_knn_imp = knn_model.predict(X_test_imp)\r\n",
    "\r\n",
    "print('r2 socre is ', r2_score(y_test_imp, y_pred_knn_imp))\r\n",
    "print('Root Mean Squared Error:', np.sqrt(metrics.mean_squared_error(y_test_imp, y_pred_knn_imp)))"
   ],
   "outputs": [
    {
     "output_type": "stream",
     "name": "stdout",
     "text": [
      "r2 socre is  0.5381014569732786\n",
      "Root Mean Squared Error: 2544804.431783201\n"
     ]
    }
   ],
   "metadata": {}
  },
  {
   "cell_type": "markdown",
   "source": [
    "# Using best model (LGBM) to predict selling prices"
   ],
   "metadata": {}
  },
  {
   "cell_type": "code",
   "execution_count": 81,
   "source": [
    "df.head()"
   ],
   "outputs": [
    {
     "output_type": "execute_result",
     "data": {
      "text/html": [
       "<div>\n",
       "<style scoped>\n",
       "    .dataframe tbody tr th:only-of-type {\n",
       "        vertical-align: middle;\n",
       "    }\n",
       "\n",
       "    .dataframe tbody tr th {\n",
       "        vertical-align: top;\n",
       "    }\n",
       "\n",
       "    .dataframe thead th {\n",
       "        text-align: right;\n",
       "    }\n",
       "</style>\n",
       "<table border=\"1\" class=\"dataframe\">\n",
       "  <thead>\n",
       "    <tr style=\"text-align: right;\">\n",
       "      <th></th>\n",
       "      <th>City</th>\n",
       "      <th>District</th>\n",
       "      <th>TotalPrice</th>\n",
       "      <th>Floor</th>\n",
       "      <th>FloorType</th>\n",
       "      <th>BuildingType</th>\n",
       "      <th>BuildingStructure</th>\n",
       "      <th>RenovationCondition</th>\n",
       "      <th>Elevator</th>\n",
       "      <th>BedRooms</th>\n",
       "      <th>LivingRooms</th>\n",
       "      <th>Kitchens</th>\n",
       "      <th>BathRooms</th>\n",
       "    </tr>\n",
       "  </thead>\n",
       "  <tbody>\n",
       "    <tr>\n",
       "      <th>0</th>\n",
       "      <td>0</td>\n",
       "      <td>19</td>\n",
       "      <td>7950000</td>\n",
       "      <td>2</td>\n",
       "      <td>1</td>\n",
       "      <td>2</td>\n",
       "      <td>4</td>\n",
       "      <td>0</td>\n",
       "      <td>1</td>\n",
       "      <td>3</td>\n",
       "      <td>2</td>\n",
       "      <td>1</td>\n",
       "      <td>2</td>\n",
       "    </tr>\n",
       "    <tr>\n",
       "      <th>1</th>\n",
       "      <td>0</td>\n",
       "      <td>31</td>\n",
       "      <td>6350000</td>\n",
       "      <td>3</td>\n",
       "      <td>1</td>\n",
       "      <td>2</td>\n",
       "      <td>2</td>\n",
       "      <td>1</td>\n",
       "      <td>0</td>\n",
       "      <td>2</td>\n",
       "      <td>1</td>\n",
       "      <td>1</td>\n",
       "      <td>1</td>\n",
       "    </tr>\n",
       "    <tr>\n",
       "      <th>2</th>\n",
       "      <td>0</td>\n",
       "      <td>2</td>\n",
       "      <td>5850000</td>\n",
       "      <td>3</td>\n",
       "      <td>1</td>\n",
       "      <td>2</td>\n",
       "      <td>4</td>\n",
       "      <td>0</td>\n",
       "      <td>1</td>\n",
       "      <td>2</td>\n",
       "      <td>1</td>\n",
       "      <td>1</td>\n",
       "      <td>1</td>\n",
       "    </tr>\n",
       "    <tr>\n",
       "      <th>3</th>\n",
       "      <td>0</td>\n",
       "      <td>7</td>\n",
       "      <td>5090000</td>\n",
       "      <td>1</td>\n",
       "      <td>1</td>\n",
       "      <td>2</td>\n",
       "      <td>2</td>\n",
       "      <td>0</td>\n",
       "      <td>0</td>\n",
       "      <td>3</td>\n",
       "      <td>1</td>\n",
       "      <td>1</td>\n",
       "      <td>1</td>\n",
       "    </tr>\n",
       "    <tr>\n",
       "      <th>4</th>\n",
       "      <td>0</td>\n",
       "      <td>33</td>\n",
       "      <td>2730000</td>\n",
       "      <td>4</td>\n",
       "      <td>1</td>\n",
       "      <td>2</td>\n",
       "      <td>4</td>\n",
       "      <td>0</td>\n",
       "      <td>1</td>\n",
       "      <td>2</td>\n",
       "      <td>1</td>\n",
       "      <td>1</td>\n",
       "      <td>1</td>\n",
       "    </tr>\n",
       "  </tbody>\n",
       "</table>\n",
       "</div>"
      ],
      "text/plain": [
       "   City  District  TotalPrice  Floor  FloorType  BuildingType  \\\n",
       "0     0        19     7950000      2          1             2   \n",
       "1     0        31     6350000      3          1             2   \n",
       "2     0         2     5850000      3          1             2   \n",
       "3     0         7     5090000      1          1             2   \n",
       "4     0        33     2730000      4          1             2   \n",
       "\n",
       "   BuildingStructure  RenovationCondition  Elevator  BedRooms  LivingRooms  \\\n",
       "0                  4                    0         1         3            2   \n",
       "1                  2                    1         0         2            1   \n",
       "2                  4                    0         1         2            1   \n",
       "3                  2                    0         0         3            1   \n",
       "4                  4                    0         1         2            1   \n",
       "\n",
       "   Kitchens  BathRooms  \n",
       "0         1          2  \n",
       "1         1          1  \n",
       "2         1          1  \n",
       "3         1          1  \n",
       "4         1          1  "
      ]
     },
     "metadata": {},
     "execution_count": 81
    }
   ],
   "metadata": {}
  },
  {
   "cell_type": "markdown",
   "source": [
    "`Meaning of each number`\r\n",
    "\r\n",
    "|  | City | District | Floor | FloorType | BuildingType | BuildingStructure | RenovationCondition | Elevator |\r\n",
    "|---|---|---|---|---|---|---|---|---|\r\n",
    "| 0 | Beijing | Dongcheng  | Basement | Duplex | Bungalow | Brick/Concrete | Hardcover | No |\r\n",
    "| 1 | Guangzhou | Fengtai | FirstFloor | Flat | Other | Brick/Wood | Other | Yes |\r\n",
    "| 2 | Shanghai | Yizhuang | High | Other |  Plate | Mixed | Rough |\r\n",
    "| 3 |  | Conghua | Low | Split-Level | Plate&Tower | Steel | Simplicity |\r\n",
    "| 4 |  | Nansha | Middle |  | Tower | Steel/Concrete |\r\n",
    "| 5 |  | Jiading | Top | \r\n",
    "| 6 |  | Zengcheng |\r\n",
    "| 7 |  | Daxing |\r\n",
    "| 8 |  | Tianhe |\r\n",
    "| 9 |  | Fengxian |\r\n",
    "| 10 |  | Baoshan |\r\n",
    "| 11 |  | Miyun |\r\n",
    "| 12 |  | Chongming |\r\n",
    "| 13 |  | Yanqing |\r\n",
    "| 14 |  | Xuhui |\r\n",
    "| 15 |  | Huairou |\r\n",
    "| 16 |  | Fangshan |\r\n",
    "| 17 |  | Changping |\r\n",
    "| 18 |  | Putuo |\r\n",
    "| 19 |  | Chaoyang |\r\n",
    "| 20 |  | Yangpu |\r\n",
    "| 21 |  | Songjiang |\r\n",
    "| 22 |  | Pudong |\r\n",
    "| 23 |  | Haiding |\r\n",
    "| 24 |  | Haizhu |\r\n",
    "| 25 |  | Panyu |\r\n",
    "| 26 |  | Baiyun |\r\n",
    "| 27 |  | Shijingshan |\r\n",
    "| 28 |  | Huadu |\r\n",
    "| 29 |  | Liwan |\r\n",
    "| 30 |  | Hongkou |\r\n",
    "| 31 |  | Xicheng |\r\n",
    "| 32 |  | Yuexiu |\r\n",
    "| 33 |  | Tongzhou |\r\n",
    "| 34 |  | Jinshan |\r\n",
    "| 35 |  | Changning |\r\n",
    "| 36 |  | Mentouhong |\r\n",
    "| 37 |  | Minhang |\r\n",
    "| 38 |  | Qingpu |\r\n",
    "| 39 |  | Jingan |\r\n",
    "| 40 |  | Shunyi |\r\n",
    "| 41 |  | Huangpu |\r\n",
    "| 42 |  | Huangpu |\r\n"
   ],
   "metadata": {}
  },
  {
   "cell_type": "markdown",
   "source": [
    "`Enter the features of the house that clients want to buy`\r\n",
    "\r\n",
    "| Feature | Client 1 |\r\n",
    "| --- | --- | \r\n",
    "| City | 1 |\r\n",
    "| District | 1 |\r\n",
    "| Floor | 1 |\r\n",
    "| FloorType | 1 |\r\n",
    "| BuildingType | 1 |\r\n",
    "| BuildingStructure | 1 |\r\n",
    "| RenovationCondition | 1 |\r\n",
    "| Elevator | 1 |\r\n",
    "| Bedrooms | 1 |\r\n",
    "| Living Rooms | 1 |\r\n",
    "| Kitchen | 1 |\r\n",
    "| Bathrooms | 1 |"
   ],
   "metadata": {}
  },
  {
   "cell_type": "code",
   "execution_count": 99,
   "source": [
    "# Produce a matrix for client data\r\n",
    "client_data = [[2, 14, 2, 0, 3, 3, 2, 1, 2, 1, 1, 2]] # client 1\r\n",
    "\r\n",
    "# show predictions\r\n",
    "price = rf_model.predict(client_data)\r\n",
    "print(f\"Predicted selling price for Client 1's home: ${price}\")"
   ],
   "outputs": [
    {
     "output_type": "stream",
     "name": "stdout",
     "text": [
      "Predicted selling price for Client 1's home: $[11866450.]\n"
     ]
    }
   ],
   "metadata": {}
  }
 ],
 "metadata": {
  "kernelspec": {
   "name": "python3",
   "display_name": "Python 3.7.10 64-bit ('mlenv': conda)"
  },
  "language_info": {
   "codemirror_mode": {
    "name": "ipython",
    "version": 3
   },
   "file_extension": ".py",
   "mimetype": "text/x-python",
   "name": "python",
   "nbconvert_exporter": "python",
   "pygments_lexer": "ipython3",
   "version": "3.7.10"
  },
  "interpreter": {
   "hash": "5db2d8fb0d60ecac19e94d2a6120d064b0d7dee5fe66a091cc131d4b675733ee"
  }
 },
 "nbformat": 4,
 "nbformat_minor": 5
}