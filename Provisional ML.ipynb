{
 "cells": [
  {
   "cell_type": "code",
   "execution_count": 14,
   "id": "ce8788cd",
   "metadata": {},
   "outputs": [
    {
     "data": {
      "text/html": [
       "<div>\n",
       "<style scoped>\n",
       "    .dataframe tbody tr th:only-of-type {\n",
       "        vertical-align: middle;\n",
       "    }\n",
       "\n",
       "    .dataframe tbody tr th {\n",
       "        vertical-align: top;\n",
       "    }\n",
       "\n",
       "    .dataframe thead th {\n",
       "        text-align: right;\n",
       "    }\n",
       "</style>\n",
       "<table border=\"1\" class=\"dataframe\">\n",
       "  <thead>\n",
       "    <tr style=\"text-align: right;\">\n",
       "      <th></th>\n",
       "      <th>House Name</th>\n",
       "      <th>Bedroom</th>\n",
       "      <th>Living Room</th>\n",
       "      <th>Size (m2)</th>\n",
       "      <th>Total Price (￥10,000)</th>\n",
       "      <th>Unit Price (￥/m2)</th>\n",
       "      <th>Subway</th>\n",
       "    </tr>\n",
       "  </thead>\n",
       "  <tbody>\n",
       "    <tr>\n",
       "      <th>0</th>\n",
       "      <td>蔚蓝城市花园</td>\n",
       "      <td>3</td>\n",
       "      <td>2</td>\n",
       "      <td>123.31</td>\n",
       "      <td>1128</td>\n",
       "      <td>91477</td>\n",
       "      <td>0</td>\n",
       "    </tr>\n",
       "    <tr>\n",
       "      <th>1</th>\n",
       "      <td>高境一村</td>\n",
       "      <td>1</td>\n",
       "      <td>1</td>\n",
       "      <td>42.54</td>\n",
       "      <td>219</td>\n",
       "      <td>51481</td>\n",
       "      <td>1</td>\n",
       "    </tr>\n",
       "    <tr>\n",
       "      <th>2</th>\n",
       "      <td>开鲁路382弄</td>\n",
       "      <td>1</td>\n",
       "      <td>1</td>\n",
       "      <td>41.54</td>\n",
       "      <td>245</td>\n",
       "      <td>58980</td>\n",
       "      <td>1</td>\n",
       "    </tr>\n",
       "    <tr>\n",
       "      <th>3</th>\n",
       "      <td>保利铃兰公馆</td>\n",
       "      <td>3</td>\n",
       "      <td>2</td>\n",
       "      <td>119.87</td>\n",
       "      <td>750</td>\n",
       "      <td>62568</td>\n",
       "      <td>0</td>\n",
       "    </tr>\n",
       "    <tr>\n",
       "      <th>4</th>\n",
       "      <td>馨佳园(菊盛路851弄)</td>\n",
       "      <td>2</td>\n",
       "      <td>2</td>\n",
       "      <td>75.85</td>\n",
       "      <td>361</td>\n",
       "      <td>47594</td>\n",
       "      <td>0</td>\n",
       "    </tr>\n",
       "  </tbody>\n",
       "</table>\n",
       "</div>"
      ],
      "text/plain": [
       "     House Name  Bedroom  Living Room  Size (m2)  Total Price (￥10,000)  \\\n",
       "0        蔚蓝城市花园        3            2     123.31                   1128   \n",
       "1          高境一村        1            1      42.54                    219   \n",
       "2       开鲁路382弄        1            1      41.54                    245   \n",
       "3        保利铃兰公馆        3            2     119.87                    750   \n",
       "4  馨佳园(菊盛路851弄)        2            2      75.85                    361   \n",
       "\n",
       "   Unit Price (￥/m2)  Subway  \n",
       "0              91477       0  \n",
       "1              51481       1  \n",
       "2              58980       1  \n",
       "3              62568       0  \n",
       "4              47594       0  "
      ]
     },
     "execution_count": 14,
     "metadata": {},
     "output_type": "execute_result"
    }
   ],
   "source": [
    "# Import our dependencies\n",
    "from sklearn.model_selection import train_test_split\n",
    "from sklearn.preprocessing import StandardScaler,MinMaxScaler\n",
    "from sklearn.linear_model import LinearRegression\n",
    "import pandas as pd\n",
    "\n",
    "#  Import and read the charity_data.csv.\n",
    "import pandas as pd \n",
    "house_info = pd.read_csv(\"Resources/Provisional database.csv\")\n",
    "house_info.head()"
   ]
  },
  {
   "cell_type": "code",
   "execution_count": 28,
   "id": "220c41a1",
   "metadata": {},
   "outputs": [],
   "source": [
    "X = pd.get_dummies(house_info[['House Name']])\n",
    "X['Bedroom'] = house_info['Bedroom']\n",
    "X['Living Room'] = house_info['Living Room']\n",
    "X['Size (m2)'] = house_info['Size (m2)']\n",
    "X['Subway'] = house_info['Subway']\n",
    "y = house_info['Total Price (￥10,000)']"
   ]
  },
  {
   "cell_type": "code",
   "execution_count": 33,
   "id": "54393c48",
   "metadata": {},
   "outputs": [],
   "source": [
    "from sklearn.model_selection import train_test_split\n",
    "X_train, X_test, y_train, y_test = train_test_split(X,y,random_state=2)"
   ]
  },
  {
   "cell_type": "code",
   "execution_count": 34,
   "id": "c64c3034",
   "metadata": {},
   "outputs": [
    {
     "name": "stderr",
     "output_type": "stream",
     "text": [
      "C:\\Users\\16478\\anaconda3\\lib\\site-packages\\pandas\\core\\frame.py:3673: SettingWithCopyWarning: \n",
      "A value is trying to be set on a copy of a slice from a DataFrame.\n",
      "Try using .loc[row_indexer,col_indexer] = value instead\n",
      "\n",
      "See the caveats in the documentation: https://pandas.pydata.org/pandas-docs/stable/user_guide/indexing.html#returning-a-view-versus-a-copy\n",
      "  self[col] = igetitem(value, i)\n",
      "C:\\Users\\16478\\anaconda3\\lib\\site-packages\\pandas\\core\\frame.py:3673: SettingWithCopyWarning: \n",
      "A value is trying to be set on a copy of a slice from a DataFrame.\n",
      "Try using .loc[row_indexer,col_indexer] = value instead\n",
      "\n",
      "See the caveats in the documentation: https://pandas.pydata.org/pandas-docs/stable/user_guide/indexing.html#returning-a-view-versus-a-copy\n",
      "  self[col] = igetitem(value, i)\n"
     ]
    }
   ],
   "source": [
    "scaler = MinMaxScaler()\n",
    "\n",
    "cols_to_norm = ['Bedroom','Living Room','Size (m2)']\n",
    "\n",
    "X_train[cols_to_norm] = scaler.fit_transform(X_train[cols_to_norm])\n",
    "X_test[cols_to_norm] = scaler.transform(X_test[cols_to_norm])"
   ]
  },
  {
   "cell_type": "code",
   "execution_count": 35,
   "id": "61e411bd",
   "metadata": {},
   "outputs": [
    {
     "data": {
      "text/plain": [
       "LinearRegression()"
      ]
     },
     "execution_count": 35,
     "metadata": {},
     "output_type": "execute_result"
    }
   ],
   "source": [
    "lr_model = LinearRegression()\n",
    "lr_model.fit(X_train, y_train)"
   ]
  },
  {
   "cell_type": "code",
   "execution_count": 32,
   "id": "f2100fa2",
   "metadata": {},
   "outputs": [
    {
     "name": "stdout",
     "output_type": "stream",
     "text": [
      "1.0\n",
      "0.5785728008775447\n"
     ]
    }
   ],
   "source": [
    "print(lr_model.score(X_train, y_train))\n",
    "print(lr_model.score(X_test, y_test))"
   ]
  },
  {
   "cell_type": "code",
   "execution_count": null,
   "id": "084a4a35",
   "metadata": {},
   "outputs": [],
   "source": []
  },
  {
   "cell_type": "code",
   "execution_count": null,
   "id": "d7c6de30",
   "metadata": {},
   "outputs": [],
   "source": []
  },
  {
   "cell_type": "code",
   "execution_count": null,
   "id": "012833ff",
   "metadata": {},
   "outputs": [],
   "source": []
  }
 ],
 "metadata": {
  "kernelspec": {
   "display_name": "Python 3",
   "language": "python",
   "name": "python3"
  },
  "language_info": {
   "codemirror_mode": {
    "name": "ipython",
    "version": 3
   },
   "file_extension": ".py",
   "mimetype": "text/x-python",
   "name": "python",
   "nbconvert_exporter": "python",
   "pygments_lexer": "ipython3",
   "version": "3.8.5"
  }
 },
 "nbformat": 4,
 "nbformat_minor": 5
}
