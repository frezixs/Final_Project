{
 "cells": [
  {
   "cell_type": "code",
   "execution_count": 41,
   "id": "cb22bed0",
   "metadata": {},
   "outputs": [],
   "source": [
    "# Import \n",
    "from splinter import Browser\n",
    "from bs4 import BeautifulSoup\n",
    "import pandas as pd\n",
    "from webdriver_manager.chrome import ChromeDriverManager"
   ]
  },
  {
   "cell_type": "code",
   "execution_count": 42,
   "id": "35f7321d",
   "metadata": {},
   "outputs": [
    {
     "name": "stderr",
     "output_type": "stream",
     "text": [
      "\n",
      "\n",
      "====== WebDriver manager ======\n",
      "Current google-chrome version is 93.0.4577\n",
      "Get LATEST driver version for 93.0.4577\n",
      "Driver [C:\\Users\\Alpha PC\\.wdm\\drivers\\chromedriver\\win32\\93.0.4577.15\\chromedriver.exe] found in cache\n"
     ]
    }
   ],
   "source": [
    "# Set the executable path and initialize Splinter\n",
    "executable_path = {'executable_path': ChromeDriverManager().install()}\n",
    "browser = Browser('chrome', **executable_path, headless=False)"
   ]
  },
  {
   "cell_type": "code",
   "execution_count": 43,
   "id": "3cb028b2",
   "metadata": {},
   "outputs": [],
   "source": [
    "link_array = []\n",
    "BASE_URL = \"https://sh.lianjia.com/chengjiao/\"\n",
    "for i in range(80,101):     \n",
    "    URL = BASE_URL + 'pg' + str(i)\n",
    "    browser.visit(URL)\n",
    "    html = browser.html\n",
    "    soup = BeautifulSoup(html, 'html.parser')\n",
    "    links = soup.findAll('a', {'class':'img'})\n",
    "    for k in links:\n",
    "        link_array.append(k['href'])\n"
   ]
  },
  {
   "cell_type": "code",
   "execution_count": 44,
   "id": "e8b6fa17",
   "metadata": {},
   "outputs": [
    {
     "data": {
      "text/html": [
       "<div>\n",
       "<style scoped>\n",
       "    .dataframe tbody tr th:only-of-type {\n",
       "        vertical-align: middle;\n",
       "    }\n",
       "\n",
       "    .dataframe tbody tr th {\n",
       "        vertical-align: top;\n",
       "    }\n",
       "\n",
       "    .dataframe thead th {\n",
       "        text-align: right;\n",
       "    }\n",
       "</style>\n",
       "<table border=\"1\" class=\"dataframe\">\n",
       "  <thead>\n",
       "    <tr style=\"text-align: right;\">\n",
       "      <th></th>\n",
       "      <th>0</th>\n",
       "    </tr>\n",
       "  </thead>\n",
       "  <tbody>\n",
       "    <tr>\n",
       "      <th>0</th>\n",
       "      <td>https://sh.lianjia.com/chengjiao/107103805114....</td>\n",
       "    </tr>\n",
       "    <tr>\n",
       "      <th>1</th>\n",
       "      <td>https://sh.lianjia.com/chengjiao/107103955066....</td>\n",
       "    </tr>\n",
       "    <tr>\n",
       "      <th>2</th>\n",
       "      <td>https://sh.lianjia.com/chengjiao/107103700901....</td>\n",
       "    </tr>\n",
       "    <tr>\n",
       "      <th>3</th>\n",
       "      <td>https://sh.lianjia.com/chengjiao/107103909844....</td>\n",
       "    </tr>\n",
       "    <tr>\n",
       "      <th>4</th>\n",
       "      <td>https://sh.lianjia.com/chengjiao/107103605025....</td>\n",
       "    </tr>\n",
       "  </tbody>\n",
       "</table>\n",
       "</div>"
      ],
      "text/plain": [
       "                                                   0\n",
       "0  https://sh.lianjia.com/chengjiao/107103805114....\n",
       "1  https://sh.lianjia.com/chengjiao/107103955066....\n",
       "2  https://sh.lianjia.com/chengjiao/107103700901....\n",
       "3  https://sh.lianjia.com/chengjiao/107103909844....\n",
       "4  https://sh.lianjia.com/chengjiao/107103605025...."
      ]
     },
     "execution_count": 44,
     "metadata": {},
     "output_type": "execute_result"
    }
   ],
   "source": [
    "link_df = pd.DataFrame(link_array)\n",
    "link_df.head()"
   ]
  },
  {
   "cell_type": "code",
   "execution_count": 45,
   "id": "e859a44b",
   "metadata": {},
   "outputs": [],
   "source": [
    "link_df.to_csv('links80-100.csv', index = False)\n"
   ]
  },
  {
   "cell_type": "code",
   "execution_count": null,
   "id": "ab41045b",
   "metadata": {},
   "outputs": [],
   "source": []
  }
 ],
 "metadata": {
  "kernelspec": {
   "display_name": "Python 3",
   "language": "python",
   "name": "python3"
  },
  "language_info": {
   "codemirror_mode": {
    "name": "ipython",
    "version": 3
   },
   "file_extension": ".py",
   "mimetype": "text/x-python",
   "name": "python",
   "nbconvert_exporter": "python",
   "pygments_lexer": "ipython3",
   "version": "3.7.6"
  }
 },
 "nbformat": 4,
 "nbformat_minor": 5
}
