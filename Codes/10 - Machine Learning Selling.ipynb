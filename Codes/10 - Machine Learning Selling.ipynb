{
 "cells": [
  {
   "cell_type": "code",
   "execution_count": 1,
   "source": [
    "# Import our dependencies\n",
    "from sklearn.model_selection import train_test_split\n",
    "from sklearn.preprocessing import StandardScaler,MinMaxScaler\n",
    "import pandas as pd\n",
    "import matplotlib.pyplot as plt\n",
    "import seaborn as sns\n",
    "import numpy as np\n",
    "import sqlite3"
   ],
   "outputs": [],
   "metadata": {}
  },
  {
   "cell_type": "code",
   "execution_count": 2,
   "source": [
    "# Import data\n",
    "con = sqlite3.connect('../HouseInfo.db')\n",
    "df = pd.read_sql_query('Select * from Selling', con)\n",
    "df.head()"
   ],
   "outputs": [
    {
     "output_type": "execute_result",
     "data": {
      "text/html": [
       "<div>\n",
       "<style scoped>\n",
       "    .dataframe tbody tr th:only-of-type {\n",
       "        vertical-align: middle;\n",
       "    }\n",
       "\n",
       "    .dataframe tbody tr th {\n",
       "        vertical-align: top;\n",
       "    }\n",
       "\n",
       "    .dataframe thead th {\n",
       "        text-align: right;\n",
       "    }\n",
       "</style>\n",
       "<table border=\"1\" class=\"dataframe\">\n",
       "  <thead>\n",
       "    <tr style=\"text-align: right;\">\n",
       "      <th></th>\n",
       "      <th>City</th>\n",
       "      <th>HouseName</th>\n",
       "      <th>Lng</th>\n",
       "      <th>Lat</th>\n",
       "      <th>District</th>\n",
       "      <th>id</th>\n",
       "      <th>TotalPrice</th>\n",
       "      <th>Price</th>\n",
       "      <th>Floor</th>\n",
       "      <th>Square</th>\n",
       "      <th>FloorType</th>\n",
       "      <th>BuildingType</th>\n",
       "      <th>BuildingStructure</th>\n",
       "      <th>RenovationCondition</th>\n",
       "      <th>Elevator</th>\n",
       "      <th>ConstructionTime</th>\n",
       "      <th>BedRooms</th>\n",
       "      <th>LivingRooms</th>\n",
       "      <th>Kitchen</th>\n",
       "      <th>BathRooms</th>\n",
       "    </tr>\n",
       "  </thead>\n",
       "  <tbody>\n",
       "    <tr>\n",
       "      <th>0</th>\n",
       "      <td>beijing</td>\n",
       "      <td>富力又一城B区</td>\n",
       "      <td>116.568935</td>\n",
       "      <td>39.852754</td>\n",
       "      <td>朝阳</td>\n",
       "      <td>101112779955</td>\n",
       "      <td>7950000.0</td>\n",
       "      <td>50579</td>\n",
       "      <td>High</td>\n",
       "      <td>157.18</td>\n",
       "      <td>Flat</td>\n",
       "      <td>Plate</td>\n",
       "      <td>Steel/Concrete</td>\n",
       "      <td>Hardcover</td>\n",
       "      <td>Yes</td>\n",
       "      <td>2008</td>\n",
       "      <td>3</td>\n",
       "      <td>2</td>\n",
       "      <td>1</td>\n",
       "      <td>2</td>\n",
       "    </tr>\n",
       "    <tr>\n",
       "      <th>1</th>\n",
       "      <td>beijing</td>\n",
       "      <td>白广路7号院</td>\n",
       "      <td>116.363689</td>\n",
       "      <td>39.890353</td>\n",
       "      <td>西城</td>\n",
       "      <td>101112823905</td>\n",
       "      <td>6350000.0</td>\n",
       "      <td>109805</td>\n",
       "      <td>Low</td>\n",
       "      <td>57.83</td>\n",
       "      <td>Flat</td>\n",
       "      <td>Plate</td>\n",
       "      <td>Mixed</td>\n",
       "      <td>Other</td>\n",
       "      <td>No</td>\n",
       "      <td>1984</td>\n",
       "      <td>2</td>\n",
       "      <td>1</td>\n",
       "      <td>1</td>\n",
       "      <td>1</td>\n",
       "    </tr>\n",
       "    <tr>\n",
       "      <th>2</th>\n",
       "      <td>beijing</td>\n",
       "      <td>莱茵河畔</td>\n",
       "      <td>116.479698</td>\n",
       "      <td>39.803397</td>\n",
       "      <td>亦庄开发区</td>\n",
       "      <td>101112557404</td>\n",
       "      <td>5850000.0</td>\n",
       "      <td>54072</td>\n",
       "      <td>Low</td>\n",
       "      <td>108.19</td>\n",
       "      <td>Flat</td>\n",
       "      <td>Plate</td>\n",
       "      <td>Steel/Concrete</td>\n",
       "      <td>Hardcover</td>\n",
       "      <td>Yes</td>\n",
       "      <td>2003</td>\n",
       "      <td>2</td>\n",
       "      <td>1</td>\n",
       "      <td>1</td>\n",
       "      <td>1</td>\n",
       "    </tr>\n",
       "    <tr>\n",
       "      <th>3</th>\n",
       "      <td>beijing</td>\n",
       "      <td>瑞海家园五区</td>\n",
       "      <td>116.343366</td>\n",
       "      <td>39.789172</td>\n",
       "      <td>大兴</td>\n",
       "      <td>101112573961</td>\n",
       "      <td>5090000.0</td>\n",
       "      <td>46379</td>\n",
       "      <td>First Floor</td>\n",
       "      <td>109.75</td>\n",
       "      <td>Flat</td>\n",
       "      <td>Plate</td>\n",
       "      <td>Mixed</td>\n",
       "      <td>Hardcover</td>\n",
       "      <td>No</td>\n",
       "      <td>2004</td>\n",
       "      <td>3</td>\n",
       "      <td>1</td>\n",
       "      <td>1</td>\n",
       "      <td>1</td>\n",
       "    </tr>\n",
       "    <tr>\n",
       "      <th>4</th>\n",
       "      <td>beijing</td>\n",
       "      <td>合生世界村</td>\n",
       "      <td>116.552980</td>\n",
       "      <td>39.743074</td>\n",
       "      <td>通州</td>\n",
       "      <td>101111602994</td>\n",
       "      <td>2730000.0</td>\n",
       "      <td>30063</td>\n",
       "      <td>Middle</td>\n",
       "      <td>90.81</td>\n",
       "      <td>Flat</td>\n",
       "      <td>Plate</td>\n",
       "      <td>Steel/Concrete</td>\n",
       "      <td>Hardcover</td>\n",
       "      <td>Yes</td>\n",
       "      <td>2011</td>\n",
       "      <td>2</td>\n",
       "      <td>1</td>\n",
       "      <td>1</td>\n",
       "      <td>1</td>\n",
       "    </tr>\n",
       "  </tbody>\n",
       "</table>\n",
       "</div>"
      ],
      "text/plain": [
       "      City HouseName         Lng        Lat District            id  \\\n",
       "0  beijing   富力又一城B区  116.568935  39.852754       朝阳  101112779955   \n",
       "1  beijing    白广路7号院  116.363689  39.890353       西城  101112823905   \n",
       "2  beijing      莱茵河畔  116.479698  39.803397    亦庄开发区  101112557404   \n",
       "3  beijing    瑞海家园五区  116.343366  39.789172       大兴  101112573961   \n",
       "4  beijing     合生世界村  116.552980  39.743074       通州  101111602994   \n",
       "\n",
       "   TotalPrice   Price         Floor  Square FloorType BuildingType  \\\n",
       "0   7950000.0   50579          High  157.18      Flat        Plate   \n",
       "1   6350000.0  109805           Low   57.83      Flat        Plate   \n",
       "2   5850000.0   54072           Low  108.19      Flat        Plate   \n",
       "3   5090000.0   46379  First Floor   109.75      Flat        Plate   \n",
       "4   2730000.0   30063        Middle   90.81      Flat        Plate   \n",
       "\n",
       "  BuildingStructure RenovationCondition Elevator ConstructionTime BedRooms  \\\n",
       "0    Steel/Concrete           Hardcover      Yes             2008        3   \n",
       "1             Mixed               Other       No             1984        2   \n",
       "2    Steel/Concrete           Hardcover      Yes             2003        2   \n",
       "3             Mixed           Hardcover       No             2004        3   \n",
       "4    Steel/Concrete           Hardcover      Yes             2011        2   \n",
       "\n",
       "  LivingRooms Kitchen BathRooms  \n",
       "0           2       1         2  \n",
       "1           1       1         1  \n",
       "2           1       1         1  \n",
       "3           1       1         1  \n",
       "4           1       1         1  "
      ]
     },
     "metadata": {},
     "execution_count": 2
    }
   ],
   "metadata": {}
  },
  {
   "cell_type": "code",
   "execution_count": 3,
   "source": [
    "df = df.drop(['Price', 'Square', 'HouseName', 'id', 'Lng', 'Lat', 'ConstructionTime'],axis=1)\n",
    "df.head()"
   ],
   "outputs": [
    {
     "output_type": "execute_result",
     "data": {
      "text/html": [
       "<div>\n",
       "<style scoped>\n",
       "    .dataframe tbody tr th:only-of-type {\n",
       "        vertical-align: middle;\n",
       "    }\n",
       "\n",
       "    .dataframe tbody tr th {\n",
       "        vertical-align: top;\n",
       "    }\n",
       "\n",
       "    .dataframe thead th {\n",
       "        text-align: right;\n",
       "    }\n",
       "</style>\n",
       "<table border=\"1\" class=\"dataframe\">\n",
       "  <thead>\n",
       "    <tr style=\"text-align: right;\">\n",
       "      <th></th>\n",
       "      <th>City</th>\n",
       "      <th>District</th>\n",
       "      <th>TotalPrice</th>\n",
       "      <th>Floor</th>\n",
       "      <th>FloorType</th>\n",
       "      <th>BuildingType</th>\n",
       "      <th>BuildingStructure</th>\n",
       "      <th>RenovationCondition</th>\n",
       "      <th>Elevator</th>\n",
       "      <th>BedRooms</th>\n",
       "      <th>LivingRooms</th>\n",
       "      <th>Kitchen</th>\n",
       "      <th>BathRooms</th>\n",
       "    </tr>\n",
       "  </thead>\n",
       "  <tbody>\n",
       "    <tr>\n",
       "      <th>0</th>\n",
       "      <td>beijing</td>\n",
       "      <td>朝阳</td>\n",
       "      <td>7950000.0</td>\n",
       "      <td>High</td>\n",
       "      <td>Flat</td>\n",
       "      <td>Plate</td>\n",
       "      <td>Steel/Concrete</td>\n",
       "      <td>Hardcover</td>\n",
       "      <td>Yes</td>\n",
       "      <td>3</td>\n",
       "      <td>2</td>\n",
       "      <td>1</td>\n",
       "      <td>2</td>\n",
       "    </tr>\n",
       "    <tr>\n",
       "      <th>1</th>\n",
       "      <td>beijing</td>\n",
       "      <td>西城</td>\n",
       "      <td>6350000.0</td>\n",
       "      <td>Low</td>\n",
       "      <td>Flat</td>\n",
       "      <td>Plate</td>\n",
       "      <td>Mixed</td>\n",
       "      <td>Other</td>\n",
       "      <td>No</td>\n",
       "      <td>2</td>\n",
       "      <td>1</td>\n",
       "      <td>1</td>\n",
       "      <td>1</td>\n",
       "    </tr>\n",
       "    <tr>\n",
       "      <th>2</th>\n",
       "      <td>beijing</td>\n",
       "      <td>亦庄开发区</td>\n",
       "      <td>5850000.0</td>\n",
       "      <td>Low</td>\n",
       "      <td>Flat</td>\n",
       "      <td>Plate</td>\n",
       "      <td>Steel/Concrete</td>\n",
       "      <td>Hardcover</td>\n",
       "      <td>Yes</td>\n",
       "      <td>2</td>\n",
       "      <td>1</td>\n",
       "      <td>1</td>\n",
       "      <td>1</td>\n",
       "    </tr>\n",
       "    <tr>\n",
       "      <th>3</th>\n",
       "      <td>beijing</td>\n",
       "      <td>大兴</td>\n",
       "      <td>5090000.0</td>\n",
       "      <td>First Floor</td>\n",
       "      <td>Flat</td>\n",
       "      <td>Plate</td>\n",
       "      <td>Mixed</td>\n",
       "      <td>Hardcover</td>\n",
       "      <td>No</td>\n",
       "      <td>3</td>\n",
       "      <td>1</td>\n",
       "      <td>1</td>\n",
       "      <td>1</td>\n",
       "    </tr>\n",
       "    <tr>\n",
       "      <th>4</th>\n",
       "      <td>beijing</td>\n",
       "      <td>通州</td>\n",
       "      <td>2730000.0</td>\n",
       "      <td>Middle</td>\n",
       "      <td>Flat</td>\n",
       "      <td>Plate</td>\n",
       "      <td>Steel/Concrete</td>\n",
       "      <td>Hardcover</td>\n",
       "      <td>Yes</td>\n",
       "      <td>2</td>\n",
       "      <td>1</td>\n",
       "      <td>1</td>\n",
       "      <td>1</td>\n",
       "    </tr>\n",
       "  </tbody>\n",
       "</table>\n",
       "</div>"
      ],
      "text/plain": [
       "      City District  TotalPrice         Floor FloorType BuildingType  \\\n",
       "0  beijing       朝阳   7950000.0          High      Flat        Plate   \n",
       "1  beijing       西城   6350000.0           Low      Flat        Plate   \n",
       "2  beijing    亦庄开发区   5850000.0           Low      Flat        Plate   \n",
       "3  beijing       大兴   5090000.0  First Floor       Flat        Plate   \n",
       "4  beijing       通州   2730000.0        Middle      Flat        Plate   \n",
       "\n",
       "  BuildingStructure RenovationCondition Elevator BedRooms LivingRooms Kitchen  \\\n",
       "0    Steel/Concrete           Hardcover      Yes        3           2       1   \n",
       "1             Mixed               Other       No        2           1       1   \n",
       "2    Steel/Concrete           Hardcover      Yes        2           1       1   \n",
       "3             Mixed           Hardcover       No        3           1       1   \n",
       "4    Steel/Concrete           Hardcover      Yes        2           1       1   \n",
       "\n",
       "  BathRooms  \n",
       "0         2  \n",
       "1         1  \n",
       "2         1  \n",
       "3         1  \n",
       "4         1  "
      ]
     },
     "metadata": {},
     "execution_count": 3
    }
   ],
   "metadata": {}
  },
  {
   "cell_type": "code",
   "execution_count": 4,
   "source": [
    "df.replace(to_replace=r'Unknown', value=np.nan, regex=True, inplace=True)"
   ],
   "outputs": [],
   "metadata": {}
  },
  {
   "cell_type": "code",
   "execution_count": 5,
   "source": [
    "df.isnull().sum()"
   ],
   "outputs": [
    {
     "output_type": "execute_result",
     "data": {
      "text/plain": [
       "City                     0\n",
       "District                 0\n",
       "TotalPrice               0\n",
       "Floor                    0\n",
       "FloorType                0\n",
       "BuildingType             0\n",
       "BuildingStructure       21\n",
       "RenovationCondition      0\n",
       "Elevator               186\n",
       "BedRooms                 0\n",
       "LivingRooms              0\n",
       "Kitchen                  0\n",
       "BathRooms                0\n",
       "dtype: int64"
      ]
     },
     "metadata": {},
     "execution_count": 5
    }
   ],
   "metadata": {}
  },
  {
   "cell_type": "code",
   "execution_count": 6,
   "source": [
    "df = df.dropna()\n",
    "\n",
    "df.isnull().sum()"
   ],
   "outputs": [
    {
     "output_type": "execute_result",
     "data": {
      "text/plain": [
       "City                   0\n",
       "District               0\n",
       "TotalPrice             0\n",
       "Floor                  0\n",
       "FloorType              0\n",
       "BuildingType           0\n",
       "BuildingStructure      0\n",
       "RenovationCondition    0\n",
       "Elevator               0\n",
       "BedRooms               0\n",
       "LivingRooms            0\n",
       "Kitchen                0\n",
       "BathRooms              0\n",
       "dtype: int64"
      ]
     },
     "metadata": {},
     "execution_count": 6
    }
   ],
   "metadata": {}
  },
  {
   "cell_type": "markdown",
   "source": [
    "## Encoding"
   ],
   "metadata": {}
  },
  {
   "cell_type": "code",
   "execution_count": 7,
   "source": [
    "from sklearn.preprocessing import LabelEncoder\n",
    "\n",
    "labelencoder = LabelEncoder()\n",
    "\n",
    "df['City'] = labelencoder.fit_transform(df['City'])\n",
    "df['District'] = labelencoder.fit_transform(df['District'])\n",
    "df['Floor'] = labelencoder.fit_transform(df['Floor'])\n",
    "df['Elevator'] = labelencoder.fit_transform(df['Elevator'])\n",
    "df['FloorType'] = labelencoder.fit_transform(df['FloorType'])\n",
    "df['BuildingType'] = labelencoder.fit_transform(df['BuildingType'])\n",
    "df['BuildingStructure'] = labelencoder.fit_transform(df['BuildingStructure'])\n",
    "df['RenovationCondition'] = labelencoder.fit_transform(df['RenovationCondition'])"
   ],
   "outputs": [],
   "metadata": {}
  },
  {
   "cell_type": "code",
   "execution_count": 8,
   "source": [
    "df.head()"
   ],
   "outputs": [
    {
     "output_type": "execute_result",
     "data": {
      "text/html": [
       "<div>\n",
       "<style scoped>\n",
       "    .dataframe tbody tr th:only-of-type {\n",
       "        vertical-align: middle;\n",
       "    }\n",
       "\n",
       "    .dataframe tbody tr th {\n",
       "        vertical-align: top;\n",
       "    }\n",
       "\n",
       "    .dataframe thead th {\n",
       "        text-align: right;\n",
       "    }\n",
       "</style>\n",
       "<table border=\"1\" class=\"dataframe\">\n",
       "  <thead>\n",
       "    <tr style=\"text-align: right;\">\n",
       "      <th></th>\n",
       "      <th>City</th>\n",
       "      <th>District</th>\n",
       "      <th>TotalPrice</th>\n",
       "      <th>Floor</th>\n",
       "      <th>FloorType</th>\n",
       "      <th>BuildingType</th>\n",
       "      <th>BuildingStructure</th>\n",
       "      <th>RenovationCondition</th>\n",
       "      <th>Elevator</th>\n",
       "      <th>BedRooms</th>\n",
       "      <th>LivingRooms</th>\n",
       "      <th>Kitchen</th>\n",
       "      <th>BathRooms</th>\n",
       "    </tr>\n",
       "  </thead>\n",
       "  <tbody>\n",
       "    <tr>\n",
       "      <th>0</th>\n",
       "      <td>0</td>\n",
       "      <td>19</td>\n",
       "      <td>7950000.0</td>\n",
       "      <td>2</td>\n",
       "      <td>2</td>\n",
       "      <td>2</td>\n",
       "      <td>5</td>\n",
       "      <td>0</td>\n",
       "      <td>1</td>\n",
       "      <td>3</td>\n",
       "      <td>2</td>\n",
       "      <td>1</td>\n",
       "      <td>2</td>\n",
       "    </tr>\n",
       "    <tr>\n",
       "      <th>1</th>\n",
       "      <td>0</td>\n",
       "      <td>31</td>\n",
       "      <td>6350000.0</td>\n",
       "      <td>3</td>\n",
       "      <td>2</td>\n",
       "      <td>2</td>\n",
       "      <td>3</td>\n",
       "      <td>1</td>\n",
       "      <td>0</td>\n",
       "      <td>2</td>\n",
       "      <td>1</td>\n",
       "      <td>1</td>\n",
       "      <td>1</td>\n",
       "    </tr>\n",
       "    <tr>\n",
       "      <th>2</th>\n",
       "      <td>0</td>\n",
       "      <td>2</td>\n",
       "      <td>5850000.0</td>\n",
       "      <td>3</td>\n",
       "      <td>2</td>\n",
       "      <td>2</td>\n",
       "      <td>5</td>\n",
       "      <td>0</td>\n",
       "      <td>1</td>\n",
       "      <td>2</td>\n",
       "      <td>1</td>\n",
       "      <td>1</td>\n",
       "      <td>1</td>\n",
       "    </tr>\n",
       "    <tr>\n",
       "      <th>3</th>\n",
       "      <td>0</td>\n",
       "      <td>7</td>\n",
       "      <td>5090000.0</td>\n",
       "      <td>1</td>\n",
       "      <td>2</td>\n",
       "      <td>2</td>\n",
       "      <td>3</td>\n",
       "      <td>0</td>\n",
       "      <td>0</td>\n",
       "      <td>3</td>\n",
       "      <td>1</td>\n",
       "      <td>1</td>\n",
       "      <td>1</td>\n",
       "    </tr>\n",
       "    <tr>\n",
       "      <th>4</th>\n",
       "      <td>0</td>\n",
       "      <td>33</td>\n",
       "      <td>2730000.0</td>\n",
       "      <td>4</td>\n",
       "      <td>2</td>\n",
       "      <td>2</td>\n",
       "      <td>5</td>\n",
       "      <td>0</td>\n",
       "      <td>1</td>\n",
       "      <td>2</td>\n",
       "      <td>1</td>\n",
       "      <td>1</td>\n",
       "      <td>1</td>\n",
       "    </tr>\n",
       "  </tbody>\n",
       "</table>\n",
       "</div>"
      ],
      "text/plain": [
       "   City  District  TotalPrice  Floor  FloorType  BuildingType  \\\n",
       "0     0        19   7950000.0      2          2             2   \n",
       "1     0        31   6350000.0      3          2             2   \n",
       "2     0         2   5850000.0      3          2             2   \n",
       "3     0         7   5090000.0      1          2             2   \n",
       "4     0        33   2730000.0      4          2             2   \n",
       "\n",
       "   BuildingStructure  RenovationCondition  Elevator BedRooms LivingRooms  \\\n",
       "0                  5                    0         1        3           2   \n",
       "1                  3                    1         0        2           1   \n",
       "2                  5                    0         1        2           1   \n",
       "3                  3                    0         0        3           1   \n",
       "4                  5                    0         1        2           1   \n",
       "\n",
       "  Kitchen BathRooms  \n",
       "0       1         2  \n",
       "1       1         1  \n",
       "2       1         1  \n",
       "3       1         1  \n",
       "4       1         1  "
      ]
     },
     "metadata": {},
     "execution_count": 8
    }
   ],
   "metadata": {}
  },
  {
   "cell_type": "markdown",
   "source": [
    "## Correlation Heatmap"
   ],
   "metadata": {}
  },
  {
   "cell_type": "code",
   "execution_count": 9,
   "source": [
    "fig,ax = plt.subplots(figsize=(10,7))\n",
    "sns.heatmap(df.corr(), annot = True, cmap = 'magma',ax=ax)\n",
    "\n",
    "# plt.savefig('heatmap.png')\n",
    "plt.show()"
   ],
   "outputs": [
    {
     "output_type": "display_data",
     "data": {
      "image/png": "[encoded data removed]",
      "text/plain": [
       "<Figure size 720x504 with 2 Axes>"
      ]
     },
     "metadata": {
      "needs_background": "light"
     }
    }
   ],
   "metadata": {}
  },
  {
   "cell_type": "code",
   "execution_count": 10,
   "source": [
    "corrmat = df.corr()\n",
    "print(corrmat['TotalPrice'].sort_values(ascending=False))"
   ],
   "outputs": [
    {
     "output_type": "stream",
     "name": "stdout",
     "text": [
      "TotalPrice             1.000000\n",
      "Elevator               0.209237\n",
      "BuildingStructure      0.117245\n",
      "District               0.033098\n",
      "Floor                 -0.001451\n",
      "City                  -0.075737\n",
      "RenovationCondition   -0.122893\n",
      "FloorType             -0.144292\n",
      "BuildingType          -0.160800\n",
      "Name: TotalPrice, dtype: float64\n"
     ]
    }
   ],
   "metadata": {}
  },
  {
   "cell_type": "markdown",
   "source": [
    "## Remove Outliers"
   ],
   "metadata": {}
  },
  {
   "cell_type": "code",
   "execution_count": 11,
   "source": [
    "# sns.boxplot(df['TotalPrice'])"
   ],
   "outputs": [],
   "metadata": {}
  },
  {
   "cell_type": "code",
   "execution_count": 12,
   "source": [
    "# percentile25 = df['TotalPrice'].quantile(0.25)\n",
    "# percentile75 = df['TotalPrice'].quantile(0.75)\n",
    "# iqr = percentile75 - percentile25"
   ],
   "outputs": [],
   "metadata": {}
  },
  {
   "cell_type": "code",
   "execution_count": 13,
   "source": [
    "# upper_limit = percentile75 + 1.5 * iqr\n",
    "# lower_limit = percentile25 - 1.5 * iqr"
   ],
   "outputs": [],
   "metadata": {}
  },
  {
   "cell_type": "code",
   "execution_count": 14,
   "source": [
    "# Finding Outliers\n",
    "# df[df['']]"
   ],
   "outputs": [],
   "metadata": {}
  },
  {
   "cell_type": "markdown",
   "source": [
    "## Calculate Statistics"
   ],
   "metadata": {}
  },
  {
   "cell_type": "code",
   "execution_count": 15,
   "source": [
    "# Minimum price of the data\n",
    "minimum_price = np.amin(df['TotalPrice'])\n",
    "\n",
    "# Maximum price of the data\n",
    "maximum_price = np.amax(df['TotalPrice'])\n",
    "\n",
    "# Mean price of the data\n",
    "mean_price = np.mean(df['TotalPrice'])\n",
    "\n",
    "# Median price of the data\n",
    "median_price = np.median(df['TotalPrice'])\n",
    "\n",
    "# Standard deviation of prices of the data\n",
    "std_price = np.std(df['TotalPrice'])\n",
    "\n",
    "# Show the calculated statistics\n",
    "print(\"Statistics for Selling dataset:\\n\")\n",
    "print(\"Minimum price: ￥{}\".format(minimum_price)) \n",
    "print(\"Maximum price: ￥{}\".format(maximum_price))\n",
    "print(\"Mean price: ￥{}\".format(mean_price))\n",
    "print(\"Median price ￥{}\".format(median_price))\n",
    "print(\"Standard deviation of prices: ￥{}\".format(std_price))"
   ],
   "outputs": [
    {
     "output_type": "stream",
     "name": "stdout",
     "text": [
      "Statistics for Selling dataset:\n",
      "\n",
      "Minimum price: ￥250000.0\n",
      "Maximum price: ￥98000000.0\n",
      "Mean price: ￥4807854.270122783\n",
      "Median price ￥3760000.0\n",
      "Standard deviation of prices: ￥4242514.541090673\n"
     ]
    }
   ],
   "metadata": {}
  },
  {
   "cell_type": "code",
   "execution_count": 16,
   "source": [
    "# cols_to_dummies = ['City','District','Floor','FloorType','BuildingType','BuildingStructure','RenovationCondition','Elevator']\n",
    "# df = pd.get_dummies(data=df, columns=cols_to_dummies)\n",
    "# df = df.dropna()\n",
    "# df.head()"
   ],
   "outputs": [],
   "metadata": {}
  },
  {
   "cell_type": "markdown",
   "source": [
    "# Machine Learning"
   ],
   "metadata": {}
  },
  {
   "cell_type": "markdown",
   "source": [
    "## Spliting into training and testing dataset"
   ],
   "metadata": {}
  },
  {
   "cell_type": "code",
   "execution_count": 17,
   "source": [
    "X = df.drop(['TotalPrice'], axis = 1)\n",
    "y = df['TotalPrice']"
   ],
   "outputs": [],
   "metadata": {}
  },
  {
   "cell_type": "code",
   "execution_count": 18,
   "source": [
    "print(X.shape)\n",
    "print(y.shape)"
   ],
   "outputs": [
    {
     "output_type": "stream",
     "name": "stdout",
     "text": [
      "(7330, 12)\n",
      "(7330,)\n"
     ]
    }
   ],
   "metadata": {}
  },
  {
   "cell_type": "code",
   "execution_count": 19,
   "source": [
    "# split data to 80% of training and 20% of testing\n",
    "X_train, X_test, y_train, y_test = train_test_split(X,y,test_size=0.2,random_state=47)"
   ],
   "outputs": [],
   "metadata": {}
  },
  {
   "cell_type": "code",
   "execution_count": 20,
   "source": [
    "print(X_train.shape)\n",
    "print(X_test.shape)\n",
    "print(y_train.shape)\n",
    "print(y_test.shape)"
   ],
   "outputs": [
    {
     "output_type": "stream",
     "name": "stdout",
     "text": [
      "(5864, 12)\n",
      "(1466, 12)\n",
      "(5864,)\n",
      "(1466,)\n"
     ]
    }
   ],
   "metadata": {}
  },
  {
   "cell_type": "markdown",
   "source": [
    "## Standardization"
   ],
   "metadata": {}
  },
  {
   "cell_type": "code",
   "execution_count": 21,
   "source": [
    "# Feature Scaling\n",
    "from sklearn.preprocessing import StandardScaler\n",
    "\n",
    "sc = StandardScaler()\n",
    "X_train = sc.fit_transform(X_train)\n",
    "X_test = sc.transform(X_test)"
   ],
   "outputs": [],
   "metadata": {}
  },
  {
   "cell_type": "code",
   "execution_count": 22,
   "source": [
    "# cols_to_norm = ['Square','ConstructionTime','BedRooms','LivingRooms','Kitchens','BathRooms','Lng','Lat']\n",
    "# scaler = MinMaxScaler()\n",
    "\n",
    "# X_train[cols_to_norm] = scaler.fit_transform(X_train[cols_to_norm])\n",
    "# X_test[cols_to_norm] = scaler.transform(X_test[cols_to_norm])\n",
    "\n",
    "# X_train.head()"
   ],
   "outputs": [],
   "metadata": {
    "scrolled": false
   }
  },
  {
   "cell_type": "markdown",
   "source": [
    "## Multiple Linear Regression"
   ],
   "metadata": {}
  },
  {
   "cell_type": "code",
   "execution_count": 23,
   "source": [
    "from sklearn.linear_model import LinearRegression\n",
    "\n",
    "lr_model = LinearRegression()\n",
    "lr_model.fit(X_train, y_train)\n",
    "\n",
    "print(lr_model.score(X_train, y_train))\n",
    "print(lr_model.score(X_test, y_test))"
   ],
   "outputs": [
    {
     "output_type": "stream",
     "name": "stdout",
     "text": [
      "0.3242493439623847\n",
      "0.38539979917493605\n"
     ]
    }
   ],
   "metadata": {}
  },
  {
   "cell_type": "code",
   "execution_count": 24,
   "source": [
    "# prediction\n",
    "y_pred_lr = lr_model.predict(X_test)"
   ],
   "outputs": [],
   "metadata": {}
  },
  {
   "cell_type": "code",
   "execution_count": 25,
   "source": [
    "# visualization\n",
    "y1_test = y_test.values.reshape(-1,1)\n",
    "\n",
    "lr_model = LinearRegression()\n",
    "lr_model.fit(y1_test, y_pred_lr)\n",
    "y1_pred_lr = lr_model.predict(y1_test)\n",
    "\n",
    "plt.scatter(y1_test, y_pred_lr)\n",
    "plt.xlabel(\"Price\")\n",
    "plt.ylabel(\"Predicted prices\")\n",
    "plt.title(\"Prices vs Predicted prices\")\n",
    "plt.grid()\n",
    "\n",
    "plt.plot(y1_test, y1_pred_lr, color='red')\n",
    "plt.show()"
   ],
   "outputs": [
    {
     "output_type": "display_data",
     "data": {
      "image/png": "[encoded data removed]",
      "text/plain": [
       "<Figure size 432x288 with 1 Axes>"
      ]
     },
     "metadata": {
      "needs_background": "light"
     }
    }
   ],
   "metadata": {}
  },
  {
   "cell_type": "code",
   "execution_count": 26,
   "source": [
    "from sklearn import metrics\n",
    "from sklearn.metrics import r2_score\n",
    "from sklearn.metrics import mean_squared_error\n",
    "\n",
    "# predicting the accuracy score\n",
    "print('r2 socre is ', r2_score(y_test, y_pred_lr))\n",
    "print('Root Mean Squared Error:', np.sqrt(metrics.mean_squared_error(y_test, y_pred_lr)))"
   ],
   "outputs": [
    {
     "output_type": "stream",
     "name": "stdout",
     "text": [
      "r2 socre is  0.38539979917493605\n",
      "Root Mean Squared Error: 2930356.984299326\n"
     ]
    }
   ],
   "metadata": {}
  },
  {
   "cell_type": "markdown",
   "source": [
    "The value of root mean squared error is higher than 10% of the mean value of price (i.e. ￥4799642). This means that our algorithm was not very accurate."
   ],
   "metadata": {}
  },
  {
   "cell_type": "markdown",
   "source": [
    "## Decision Tree"
   ],
   "metadata": {}
  },
  {
   "cell_type": "code",
   "execution_count": 27,
   "source": [
    "from sklearn.tree import DecisionTreeRegressor\n",
    "\n",
    "dt_model = DecisionTreeRegressor()\n",
    "dt_model.fit(X_train, y_train)\n",
    "\n",
    "print(dt_model.score(X_train, y_train))\n",
    "print(dt_model.score(X_test, y_test))"
   ],
   "outputs": [
    {
     "output_type": "stream",
     "name": "stdout",
     "text": [
      "0.955560635474592\n",
      "0.5302148258803662\n"
     ]
    }
   ],
   "metadata": {}
  },
  {
   "cell_type": "code",
   "execution_count": 28,
   "source": [
    "# prediction\n",
    "y_pred_dt = dt_model.predict(X_test)"
   ],
   "outputs": [],
   "metadata": {}
  },
  {
   "cell_type": "code",
   "execution_count": 29,
   "source": [
    "from sklearn import metrics\n",
    "print('r2 socre is ', r2_score(y_test, y_pred_dt))\n",
    "print('Root Mean Squared Error:', np.sqrt(metrics.mean_squared_error(y_test, y_pred_dt)))"
   ],
   "outputs": [
    {
     "output_type": "stream",
     "name": "stdout",
     "text": [
      "r2 socre is  0.5302148258803662\n",
      "Root Mean Squared Error: 2561968.7911528763\n"
     ]
    }
   ],
   "metadata": {}
  },
  {
   "cell_type": "markdown",
   "source": [
    "## Random Forest"
   ],
   "metadata": {}
  },
  {
   "cell_type": "code",
   "execution_count": 30,
   "source": [
    "# Find optimal n_estimator for the model\n",
    "from sklearn.model_selection import GridSearchCV\n",
    "from sklearn.ensemble import RandomForestRegressor\n",
    "\n",
    "param_grid ={\n",
    "    'n_estimators': [20, 100, 500, 1000, 5000]\n",
    "}\n",
    "\n",
    "rf_model = RandomForestRegressor()\n",
    "grid_search = GridSearchCV(estimator = rf_model, param_grid = param_grid, cv=3, n_jobs=-1)\n",
    "\n",
    "grid_search.fit(X_train, y_train)\n",
    "\n",
    "grid_search.best_params_"
   ],
   "outputs": [
    {
     "output_type": "execute_result",
     "data": {
      "text/plain": [
       "{'n_estimators': 100}"
      ]
     },
     "metadata": {},
     "execution_count": 30
    }
   ],
   "metadata": {}
  },
  {
   "cell_type": "code",
   "execution_count": 31,
   "source": [
    "rf_model = RandomForestRegressor(n_estimators=100, random_state=47)\n",
    "rf_model.fit(X_train, y_train)\n",
    "\n",
    "print(rf_model.score(X_train, y_train))\n",
    "print(rf_model.score(X_test, y_test))"
   ],
   "outputs": [
    {
     "output_type": "stream",
     "name": "stdout",
     "text": [
      "0.91577768644308\n",
      "0.7085426046440196\n"
     ]
    }
   ],
   "metadata": {}
  },
  {
   "cell_type": "code",
   "execution_count": 32,
   "source": [
    "# prediction\n",
    "y_pred_rf = rf_model.predict(X_test)"
   ],
   "outputs": [],
   "metadata": {}
  },
  {
   "cell_type": "code",
   "execution_count": 33,
   "source": [
    "from sklearn import metrics\n",
    "print('r2 socre is ', r2_score(y_test, y_pred_rf))\n",
    "print('Root Mean Squared Error:', np.sqrt(metrics.mean_squared_error(y_test, y_pred_rf)))"
   ],
   "outputs": [
    {
     "output_type": "stream",
     "name": "stdout",
     "text": [
      "r2 socre is  0.7085426046440196\n",
      "Root Mean Squared Error: 2017956.133912447\n"
     ]
    }
   ],
   "metadata": {}
  },
  {
   "cell_type": "markdown",
   "source": [
    "## SVR"
   ],
   "metadata": {}
  },
  {
   "cell_type": "code",
   "execution_count": 34,
   "source": [
    "from sklearn.svm import SVR\n",
    "\n",
    "svr_model = SVR(kernel='linear')\n",
    "svr_model.fit(X_train, y_train)\n",
    "\n",
    "print(svr_model.score(X_train, y_train))\n",
    "print(svr_model.score(X_test, y_test))"
   ],
   "outputs": [
    {
     "output_type": "stream",
     "name": "stdout",
     "text": [
      "-0.058529642039009566\n",
      "-0.06660090881459557\n"
     ]
    }
   ],
   "metadata": {}
  },
  {
   "cell_type": "code",
   "execution_count": 35,
   "source": [
    "# prediction\n",
    "y_pred_svr = svr_model.predict(X_test)"
   ],
   "outputs": [],
   "metadata": {}
  },
  {
   "cell_type": "code",
   "execution_count": 36,
   "source": [
    "from sklearn import metrics\n",
    "print('r2 socre is ', r2_score(y_test, y_pred_svr))\n",
    "print('Root Mean Squared Error:', np.sqrt(metrics.mean_squared_error(y_test, y_pred_svr)))"
   ],
   "outputs": [
    {
     "output_type": "stream",
     "name": "stdout",
     "text": [
      "r2 socre is  -0.06660090881459557\n",
      "Root Mean Squared Error: 3860336.4393887524\n"
     ]
    }
   ],
   "metadata": {}
  },
  {
   "cell_type": "markdown",
   "source": [
    "## LightGBM Regression"
   ],
   "metadata": {}
  },
  {
   "cell_type": "code",
   "execution_count": 37,
   "source": [
    "import lightgbm as lgb\n",
    "lgb_model = lgb.LGBMRegressor()\n",
    "lgb_model.fit(X_train, y_train)\n",
    "\n",
    "print(lgb_model.score(X_train, y_train))\n",
    "print(lgb_model.score(X_test, y_test))"
   ],
   "outputs": [
    {
     "output_type": "stream",
     "name": "stdout",
     "text": [
      "0.7974118975791629\n",
      "0.7369871140619224\n"
     ]
    }
   ],
   "metadata": {}
  },
  {
   "cell_type": "code",
   "execution_count": 38,
   "source": [
    "# prediction\n",
    "y_pred_lgb = lgb_model.predict(X_test)"
   ],
   "outputs": [],
   "metadata": {}
  },
  {
   "cell_type": "code",
   "execution_count": 39,
   "source": [
    "from sklearn import metrics\n",
    "print('r2 socre is ', r2_score(y_test, y_pred_lgb))\n",
    "print('Root Mean Squared Error:', np.sqrt(metrics.mean_squared_error(y_test, y_pred_lgb)))"
   ],
   "outputs": [
    {
     "output_type": "stream",
     "name": "stdout",
     "text": [
      "r2 socre is  0.7369871140619224\n",
      "Root Mean Squared Error: 1916958.4292163819\n"
     ]
    }
   ],
   "metadata": {}
  },
  {
   "cell_type": "markdown",
   "source": [
    "## Lasso"
   ],
   "metadata": {}
  },
  {
   "cell_type": "code",
   "execution_count": 40,
   "source": [
    "# Find optimal alpha for the model\n",
    "from sklearn.model_selection import GridSearchCV\n",
    "from sklearn.linear_model import Lasso\n",
    "\n",
    "alphas = np.array([1, 0.5, 0.1, 0.01, 0])\n",
    "\n",
    "lasso_model = Lasso()\n",
    "grid_search = GridSearchCV(estimator = lasso_model, param_grid = dict(alpha=alphas))\n",
    "\n",
    "grid_search.fit(X_train, y_train)\n",
    "\n",
    "grid_search.best_estimator_.alpha"
   ],
   "outputs": [
    {
     "output_type": "stream",
     "name": "stderr",
     "text": [
      "/Users/xinghuili/opt/anaconda3/lib/python3.8/site-packages/sklearn/model_selection/_validation.py:531: UserWarning: With alpha=0, this algorithm does not converge well. You are advised to use the LinearRegression estimator\n",
      "  estimator.fit(X_train, y_train, **fit_params)\n",
      "/Users/xinghuili/opt/anaconda3/lib/python3.8/site-packages/sklearn/linear_model/_coordinate_descent.py:529: UserWarning: Coordinate descent with no regularization may lead to unexpected results and is discouraged.\n",
      "  model = cd_fast.enet_coordinate_descent(\n",
      "/Users/xinghuili/opt/anaconda3/lib/python3.8/site-packages/sklearn/linear_model/_coordinate_descent.py:529: ConvergenceWarning: Objective did not converge. You might want to increase the number of iterations. Duality gap: 2.7360268869955896e+16, tolerance: 8316879807928.119\n",
      "  model = cd_fast.enet_coordinate_descent(\n",
      "/Users/xinghuili/opt/anaconda3/lib/python3.8/site-packages/sklearn/model_selection/_validation.py:531: UserWarning: With alpha=0, this algorithm does not converge well. You are advised to use the LinearRegression estimator\n",
      "  estimator.fit(X_train, y_train, **fit_params)\n",
      "/Users/xinghuili/opt/anaconda3/lib/python3.8/site-packages/sklearn/linear_model/_coordinate_descent.py:529: UserWarning: Coordinate descent with no regularization may lead to unexpected results and is discouraged.\n",
      "  model = cd_fast.enet_coordinate_descent(\n",
      "/Users/xinghuili/opt/anaconda3/lib/python3.8/site-packages/sklearn/linear_model/_coordinate_descent.py:529: ConvergenceWarning: Objective did not converge. You might want to increase the number of iterations. Duality gap: 3.105945010048229e+16, tolerance: 9247734951280.738\n",
      "  model = cd_fast.enet_coordinate_descent(\n",
      "/Users/xinghuili/opt/anaconda3/lib/python3.8/site-packages/sklearn/model_selection/_validation.py:531: UserWarning: With alpha=0, this algorithm does not converge well. You are advised to use the LinearRegression estimator\n",
      "  estimator.fit(X_train, y_train, **fit_params)\n",
      "/Users/xinghuili/opt/anaconda3/lib/python3.8/site-packages/sklearn/linear_model/_coordinate_descent.py:529: UserWarning: Coordinate descent with no regularization may lead to unexpected results and is discouraged.\n",
      "  model = cd_fast.enet_coordinate_descent(\n",
      "/Users/xinghuili/opt/anaconda3/lib/python3.8/site-packages/sklearn/linear_model/_coordinate_descent.py:529: ConvergenceWarning: Objective did not converge. You might want to increase the number of iterations. Duality gap: 3.235291143716045e+16, tolerance: 9469216288574.195\n",
      "  model = cd_fast.enet_coordinate_descent(\n",
      "/Users/xinghuili/opt/anaconda3/lib/python3.8/site-packages/sklearn/model_selection/_validation.py:531: UserWarning: With alpha=0, this algorithm does not converge well. You are advised to use the LinearRegression estimator\n",
      "  estimator.fit(X_train, y_train, **fit_params)\n",
      "/Users/xinghuili/opt/anaconda3/lib/python3.8/site-packages/sklearn/linear_model/_coordinate_descent.py:529: UserWarning: Coordinate descent with no regularization may lead to unexpected results and is discouraged.\n",
      "  model = cd_fast.enet_coordinate_descent(\n",
      "/Users/xinghuili/opt/anaconda3/lib/python3.8/site-packages/sklearn/linear_model/_coordinate_descent.py:529: ConvergenceWarning: Objective did not converge. You might want to increase the number of iterations. Duality gap: 2.780669304050525e+16, tolerance: 8142268596256.333\n",
      "  model = cd_fast.enet_coordinate_descent(\n",
      "/Users/xinghuili/opt/anaconda3/lib/python3.8/site-packages/sklearn/model_selection/_validation.py:531: UserWarning: With alpha=0, this algorithm does not converge well. You are advised to use the LinearRegression estimator\n",
      "  estimator.fit(X_train, y_train, **fit_params)\n",
      "/Users/xinghuili/opt/anaconda3/lib/python3.8/site-packages/sklearn/linear_model/_coordinate_descent.py:529: UserWarning: Coordinate descent with no regularization may lead to unexpected results and is discouraged.\n",
      "  model = cd_fast.enet_coordinate_descent(\n",
      "/Users/xinghuili/opt/anaconda3/lib/python3.8/site-packages/sklearn/linear_model/_coordinate_descent.py:529: ConvergenceWarning: Objective did not converge. You might want to increase the number of iterations. Duality gap: 3.191537949621119e+16, tolerance: 9397994697810.219\n",
      "  model = cd_fast.enet_coordinate_descent(\n"
     ]
    },
    {
     "output_type": "execute_result",
     "data": {
      "text/plain": [
       "1.0"
      ]
     },
     "metadata": {},
     "execution_count": 40
    }
   ],
   "metadata": {}
  },
  {
   "cell_type": "code",
   "execution_count": 41,
   "source": [
    "from sklearn.linear_model import Lasso\n",
    "\n",
    "lasso_model = Lasso(alpha=1.0)\n",
    "lasso_model.fit(X_train, y_train)\n",
    "\n",
    "print(lasso_model.score(X_train, y_train))\n",
    "print(lasso_model.score(X_test, y_test))"
   ],
   "outputs": [
    {
     "output_type": "stream",
     "name": "stdout",
     "text": [
      "0.3242493439614623\n",
      "0.38539989321097046\n"
     ]
    }
   ],
   "metadata": {}
  },
  {
   "cell_type": "code",
   "execution_count": 42,
   "source": [
    "# prediction\n",
    "y_pred_lasso = lasso_model.predict(X_test)"
   ],
   "outputs": [],
   "metadata": {}
  },
  {
   "cell_type": "code",
   "execution_count": 43,
   "source": [
    "from sklearn import metrics\n",
    "print('r2 socre is ', r2_score(y_test, y_pred_lasso))\n",
    "print('Root Mean Squared Error:', np.sqrt(metrics.mean_squared_error(y_test, y_pred_lasso)))"
   ],
   "outputs": [
    {
     "output_type": "stream",
     "name": "stdout",
     "text": [
      "r2 socre is  0.38539989321097046\n",
      "Root Mean Squared Error: 2930356.7601217544\n"
     ]
    }
   ],
   "metadata": {}
  },
  {
   "cell_type": "markdown",
   "source": [
    "## KNN"
   ],
   "metadata": {}
  },
  {
   "cell_type": "code",
   "execution_count": 44,
   "source": [
    "# Find optimal n_neighbors for the model\n",
    "from sklearn.neighbors import KNeighborsRegressor\n",
    "\n",
    "parameter_space = {\n",
    "    \"n_neighbors\": [8, 9, 10, 11, 30],\n",
    "    \"weights\": [\"uniform\", \"distance\"],\n",
    "    \"algorithm\": [\"ball_tree\", \"kd_tree\", \"brute\"],\n",
    "    \"leaf_size\": [1, 2, 20, 50, 200]\n",
    "}\n",
    "\n",
    "knn_model = KNeighborsRegressor()\n",
    "\n",
    "grid_search = GridSearchCV(knn_model, parameter_space, cv=3, n_jobs=-1)\n",
    "\n",
    "grid_search.fit(X_train, y_train)\n",
    "\n",
    "print(grid_search.best_params_)"
   ],
   "outputs": [
    {
     "output_type": "stream",
     "name": "stdout",
     "text": [
      "{'algorithm': 'ball_tree', 'leaf_size': 20, 'n_neighbors': 11, 'weights': 'distance'}\n"
     ]
    }
   ],
   "metadata": {}
  },
  {
   "cell_type": "code",
   "execution_count": 45,
   "source": [
    "knn_model = KNeighborsRegressor(n_neighbors=9, weights='distance', algorithm='kd_tree', leaf_size=20)\n",
    "knn_model.fit(X_train, y_train)\n",
    "\n",
    "print(knn_model.score(X_train, y_train))\n",
    "print(knn_model.score(X_test, y_test))"
   ],
   "outputs": [
    {
     "output_type": "stream",
     "name": "stdout",
     "text": [
      "0.955322669528047\n",
      "0.5996257968234271\n"
     ]
    }
   ],
   "metadata": {}
  },
  {
   "cell_type": "code",
   "execution_count": 46,
   "source": [
    "# prediction\n",
    "y_pred_knn = knn_model.predict(X_test)"
   ],
   "outputs": [],
   "metadata": {}
  },
  {
   "cell_type": "code",
   "execution_count": 47,
   "source": [
    "from sklearn import metrics\n",
    "print('r2 socre is ', r2_score(y_test, y_pred_knn))\n",
    "print('Root Mean Squared Error:', np.sqrt(metrics.mean_squared_error(y_test, y_pred_knn)))"
   ],
   "outputs": [
    {
     "output_type": "stream",
     "name": "stdout",
     "text": [
      "r2 socre is  0.5996257968234271\n",
      "Root Mean Squared Error: 2365142.027123254\n"
     ]
    }
   ],
   "metadata": {}
  },
  {
   "cell_type": "markdown",
   "source": [
    "## Compare scores of each model"
   ],
   "metadata": {}
  },
  {
   "cell_type": "code",
   "execution_count": 48,
   "source": [
    "for reg in (lr_model, dt_model, rf_model, lgb_model, svr_model, knn_model, lasso_model):\n",
    "    reg.fit(X_train, y_train)\n",
    "    y_pred = reg.predict(X_test)\n",
    "    print(reg.__class__.__name__, \"Mean Squared Error:\", mean_squared_error(y_test, y_pred)/100000000)\n",
    "    print(reg.__class__.__name__, \"R2:\", r2_score(y_test, y_pred))"
   ],
   "outputs": [
    {
     "output_type": "stream",
     "name": "stdout",
     "text": [
      "LinearRegression Mean Squared Error: 85869.92055431839\n",
      "LinearRegression R2: 0.38539979917493605\n",
      "DecisionTreeRegressor Mean Squared Error: 58931.866641896006\n",
      "DecisionTreeRegressor R2: 0.5782046048337273\n",
      "RandomForestRegressor Mean Squared Error: 40721.46958394869\n",
      "RandomForestRegressor R2: 0.7085426046440196\n",
      "LGBMRegressor Mean Squared Error: 36747.29619343738\n",
      "LGBMRegressor R2: 0.7369871140619224\n",
      "SVR Mean Squared Error: 149021.97425272633\n",
      "SVR R2: -0.06660090881459557\n",
      "KNeighborsRegressor Mean Squared Error: 55938.968084646935\n",
      "KNeighborsRegressor R2: 0.5996257968234271\n",
      "Lasso Mean Squared Error: 85869.90741591265\n",
      "Lasso R2: 0.38539989321097046\n"
     ]
    }
   ],
   "metadata": {}
  },
  {
   "cell_type": "markdown",
   "source": [
    "## Result for now"
   ],
   "metadata": {}
  },
  {
   "cell_type": "markdown",
   "source": [
    "We choose LGBMRegressor since it has lowest MSE and highest R2 score, meaning that it has most data being explained by our model.\r\n",
    "However, it seems that we still need some improvement to our model because the R2 score is not good enough.\r\n",
    "We can drop some features to improve the result, but before dropping features, we need to figure out which feature is important and which one is not.\r\n",
    "To do so, we can list the feature importance lists.\r\n",
    "We ignore the SVR model because the score is too bad.\r\n",
    "We can list their feature importance lists, however, we only have the feature index and we don't have the feature name, we need to add the feature names on our feature importance lists. \r\n"
   ],
   "metadata": {}
  },
  {
   "cell_type": "markdown",
   "source": [
    "# Improvement on models"
   ],
   "metadata": {}
  },
  {
   "cell_type": "code",
   "execution_count": 49,
   "source": [
    "from sklearn.inspection import permutation_importance\n",
    "\n",
    "# feature importance list\n",
    "lr_importance = lr_model.coef_\n",
    "dt_importance = dt_model.feature_importances_\n",
    "rf_importance = rf_model.feature_importances_\n",
    "lgb_importance = lgb_model.feature_importances_\n",
    "knn_results = permutation_importance(knn_model, X_test, y_test, scoring='neg_mean_squared_error')\n",
    "knn_importance = knn_results.importances_mean"
   ],
   "outputs": [],
   "metadata": {}
  },
  {
   "cell_type": "code",
   "execution_count": 50,
   "source": [
    "# first find all names of those features \n",
    "feature_names = X.columns\n",
    "print(feature_names)"
   ],
   "outputs": [
    {
     "output_type": "stream",
     "name": "stdout",
     "text": [
      "Index(['City', 'District', 'Floor', 'FloorType', 'BuildingType',\n",
      "       'BuildingStructure', 'RenovationCondition', 'Elevator', 'BedRooms',\n",
      "       'LivingRooms', 'Kitchen', 'BathRooms'],\n",
      "      dtype='object')\n"
     ]
    }
   ],
   "metadata": {}
  },
  {
   "cell_type": "code",
   "execution_count": 51,
   "source": [
    "lr_importance_df = pd.DataFrame(lr_importance,index = feature_names)\n",
    "lr_importance_df.head()"
   ],
   "outputs": [
    {
     "output_type": "execute_result",
     "data": {
      "text/html": [
       "<div>\n",
       "<style scoped>\n",
       "    .dataframe tbody tr th:only-of-type {\n",
       "        vertical-align: middle;\n",
       "    }\n",
       "\n",
       "    .dataframe tbody tr th {\n",
       "        vertical-align: top;\n",
       "    }\n",
       "\n",
       "    .dataframe thead th {\n",
       "        text-align: right;\n",
       "    }\n",
       "</style>\n",
       "<table border=\"1\" class=\"dataframe\">\n",
       "  <thead>\n",
       "    <tr style=\"text-align: right;\">\n",
       "      <th></th>\n",
       "      <th>0</th>\n",
       "    </tr>\n",
       "  </thead>\n",
       "  <tbody>\n",
       "    <tr>\n",
       "      <th>City</th>\n",
       "      <td>-4.495513e+05</td>\n",
       "    </tr>\n",
       "    <tr>\n",
       "      <th>District</th>\n",
       "      <td>2.942677e+05</td>\n",
       "    </tr>\n",
       "    <tr>\n",
       "      <th>Floor</th>\n",
       "      <td>4.996989e+04</td>\n",
       "    </tr>\n",
       "    <tr>\n",
       "      <th>FloorType</th>\n",
       "      <td>-9.488268e+02</td>\n",
       "    </tr>\n",
       "    <tr>\n",
       "      <th>BuildingType</th>\n",
       "      <td>-1.031419e+06</td>\n",
       "    </tr>\n",
       "  </tbody>\n",
       "</table>\n",
       "</div>"
      ],
      "text/plain": [
       "                         0\n",
       "City         -4.495513e+05\n",
       "District      2.942677e+05\n",
       "Floor         4.996989e+04\n",
       "FloorType    -9.488268e+02\n",
       "BuildingType -1.031419e+06"
      ]
     },
     "metadata": {},
     "execution_count": 51
    }
   ],
   "metadata": {}
  },
  {
   "cell_type": "code",
   "execution_count": 52,
   "source": [
    "sel_lr_df = lr_importance_df.loc[lr_importance_df[0] > 0]\n",
    "sel_lr_df.head()"
   ],
   "outputs": [
    {
     "output_type": "execute_result",
     "data": {
      "text/html": [
       "<div>\n",
       "<style scoped>\n",
       "    .dataframe tbody tr th:only-of-type {\n",
       "        vertical-align: middle;\n",
       "    }\n",
       "\n",
       "    .dataframe tbody tr th {\n",
       "        vertical-align: top;\n",
       "    }\n",
       "\n",
       "    .dataframe thead th {\n",
       "        text-align: right;\n",
       "    }\n",
       "</style>\n",
       "<table border=\"1\" class=\"dataframe\">\n",
       "  <thead>\n",
       "    <tr style=\"text-align: right;\">\n",
       "      <th></th>\n",
       "      <th>0</th>\n",
       "    </tr>\n",
       "  </thead>\n",
       "  <tbody>\n",
       "    <tr>\n",
       "      <th>District</th>\n",
       "      <td>2.942677e+05</td>\n",
       "    </tr>\n",
       "    <tr>\n",
       "      <th>Floor</th>\n",
       "      <td>4.996989e+04</td>\n",
       "    </tr>\n",
       "    <tr>\n",
       "      <th>Elevator</th>\n",
       "      <td>1.001895e+06</td>\n",
       "    </tr>\n",
       "    <tr>\n",
       "      <th>BedRooms</th>\n",
       "      <td>6.255164e+05</td>\n",
       "    </tr>\n",
       "    <tr>\n",
       "      <th>Kitchen</th>\n",
       "      <td>1.723566e+05</td>\n",
       "    </tr>\n",
       "  </tbody>\n",
       "</table>\n",
       "</div>"
      ],
      "text/plain": [
       "                     0\n",
       "District  2.942677e+05\n",
       "Floor     4.996989e+04\n",
       "Elevator  1.001895e+06\n",
       "BedRooms  6.255164e+05\n",
       "Kitchen   1.723566e+05"
      ]
     },
     "metadata": {},
     "execution_count": 52
    }
   ],
   "metadata": {}
  },
  {
   "cell_type": "code",
   "execution_count": 53,
   "source": [
    "dt_importance_df = pd.DataFrame(dt_importance,index = feature_names)\n",
    "dt_importance_df.head()"
   ],
   "outputs": [
    {
     "output_type": "execute_result",
     "data": {
      "text/html": [
       "<div>\n",
       "<style scoped>\n",
       "    .dataframe tbody tr th:only-of-type {\n",
       "        vertical-align: middle;\n",
       "    }\n",
       "\n",
       "    .dataframe tbody tr th {\n",
       "        vertical-align: top;\n",
       "    }\n",
       "\n",
       "    .dataframe thead th {\n",
       "        text-align: right;\n",
       "    }\n",
       "</style>\n",
       "<table border=\"1\" class=\"dataframe\">\n",
       "  <thead>\n",
       "    <tr style=\"text-align: right;\">\n",
       "      <th></th>\n",
       "      <th>0</th>\n",
       "    </tr>\n",
       "  </thead>\n",
       "  <tbody>\n",
       "    <tr>\n",
       "      <th>City</th>\n",
       "      <td>0.095759</td>\n",
       "    </tr>\n",
       "    <tr>\n",
       "      <th>District</th>\n",
       "      <td>0.211737</td>\n",
       "    </tr>\n",
       "    <tr>\n",
       "      <th>Floor</th>\n",
       "      <td>0.046009</td>\n",
       "    </tr>\n",
       "    <tr>\n",
       "      <th>FloorType</th>\n",
       "      <td>0.034401</td>\n",
       "    </tr>\n",
       "    <tr>\n",
       "      <th>BuildingType</th>\n",
       "      <td>0.068657</td>\n",
       "    </tr>\n",
       "  </tbody>\n",
       "</table>\n",
       "</div>"
      ],
      "text/plain": [
       "                     0\n",
       "City          0.095759\n",
       "District      0.211737\n",
       "Floor         0.046009\n",
       "FloorType     0.034401\n",
       "BuildingType  0.068657"
      ]
     },
     "metadata": {},
     "execution_count": 53
    }
   ],
   "metadata": {}
  },
  {
   "cell_type": "code",
   "execution_count": 54,
   "source": [
    "sel_dt_df = dt_importance_df.loc[dt_importance_df[0] > 0]\n",
    "sel_dt_df.head()"
   ],
   "outputs": [
    {
     "output_type": "execute_result",
     "data": {
      "text/html": [
       "<div>\n",
       "<style scoped>\n",
       "    .dataframe tbody tr th:only-of-type {\n",
       "        vertical-align: middle;\n",
       "    }\n",
       "\n",
       "    .dataframe tbody tr th {\n",
       "        vertical-align: top;\n",
       "    }\n",
       "\n",
       "    .dataframe thead th {\n",
       "        text-align: right;\n",
       "    }\n",
       "</style>\n",
       "<table border=\"1\" class=\"dataframe\">\n",
       "  <thead>\n",
       "    <tr style=\"text-align: right;\">\n",
       "      <th></th>\n",
       "      <th>0</th>\n",
       "    </tr>\n",
       "  </thead>\n",
       "  <tbody>\n",
       "    <tr>\n",
       "      <th>City</th>\n",
       "      <td>0.095759</td>\n",
       "    </tr>\n",
       "    <tr>\n",
       "      <th>District</th>\n",
       "      <td>0.211737</td>\n",
       "    </tr>\n",
       "    <tr>\n",
       "      <th>Floor</th>\n",
       "      <td>0.046009</td>\n",
       "    </tr>\n",
       "    <tr>\n",
       "      <th>FloorType</th>\n",
       "      <td>0.034401</td>\n",
       "    </tr>\n",
       "    <tr>\n",
       "      <th>BuildingType</th>\n",
       "      <td>0.068657</td>\n",
       "    </tr>\n",
       "  </tbody>\n",
       "</table>\n",
       "</div>"
      ],
      "text/plain": [
       "                     0\n",
       "City          0.095759\n",
       "District      0.211737\n",
       "Floor         0.046009\n",
       "FloorType     0.034401\n",
       "BuildingType  0.068657"
      ]
     },
     "metadata": {},
     "execution_count": 54
    }
   ],
   "metadata": {}
  },
  {
   "cell_type": "code",
   "execution_count": 55,
   "source": [
    "rf_importance_df = pd.DataFrame(rf_importance,index = feature_names)\n",
    "rf_importance_df.head()"
   ],
   "outputs": [
    {
     "output_type": "execute_result",
     "data": {
      "text/html": [
       "<div>\n",
       "<style scoped>\n",
       "    .dataframe tbody tr th:only-of-type {\n",
       "        vertical-align: middle;\n",
       "    }\n",
       "\n",
       "    .dataframe tbody tr th {\n",
       "        vertical-align: top;\n",
       "    }\n",
       "\n",
       "    .dataframe thead th {\n",
       "        text-align: right;\n",
       "    }\n",
       "</style>\n",
       "<table border=\"1\" class=\"dataframe\">\n",
       "  <thead>\n",
       "    <tr style=\"text-align: right;\">\n",
       "      <th></th>\n",
       "      <th>0</th>\n",
       "    </tr>\n",
       "  </thead>\n",
       "  <tbody>\n",
       "    <tr>\n",
       "      <th>City</th>\n",
       "      <td>0.105774</td>\n",
       "    </tr>\n",
       "    <tr>\n",
       "      <th>District</th>\n",
       "      <td>0.229954</td>\n",
       "    </tr>\n",
       "    <tr>\n",
       "      <th>Floor</th>\n",
       "      <td>0.042838</td>\n",
       "    </tr>\n",
       "    <tr>\n",
       "      <th>FloorType</th>\n",
       "      <td>0.036344</td>\n",
       "    </tr>\n",
       "    <tr>\n",
       "      <th>BuildingType</th>\n",
       "      <td>0.069984</td>\n",
       "    </tr>\n",
       "  </tbody>\n",
       "</table>\n",
       "</div>"
      ],
      "text/plain": [
       "                     0\n",
       "City          0.105774\n",
       "District      0.229954\n",
       "Floor         0.042838\n",
       "FloorType     0.036344\n",
       "BuildingType  0.069984"
      ]
     },
     "metadata": {},
     "execution_count": 55
    }
   ],
   "metadata": {}
  },
  {
   "cell_type": "code",
   "execution_count": 56,
   "source": [
    "sel_rf_df = rf_importance_df.loc[rf_importance_df[0] > 0]\n",
    "sel_rf_df.head()"
   ],
   "outputs": [
    {
     "output_type": "execute_result",
     "data": {
      "text/html": [
       "<div>\n",
       "<style scoped>\n",
       "    .dataframe tbody tr th:only-of-type {\n",
       "        vertical-align: middle;\n",
       "    }\n",
       "\n",
       "    .dataframe tbody tr th {\n",
       "        vertical-align: top;\n",
       "    }\n",
       "\n",
       "    .dataframe thead th {\n",
       "        text-align: right;\n",
       "    }\n",
       "</style>\n",
       "<table border=\"1\" class=\"dataframe\">\n",
       "  <thead>\n",
       "    <tr style=\"text-align: right;\">\n",
       "      <th></th>\n",
       "      <th>0</th>\n",
       "    </tr>\n",
       "  </thead>\n",
       "  <tbody>\n",
       "    <tr>\n",
       "      <th>City</th>\n",
       "      <td>0.105774</td>\n",
       "    </tr>\n",
       "    <tr>\n",
       "      <th>District</th>\n",
       "      <td>0.229954</td>\n",
       "    </tr>\n",
       "    <tr>\n",
       "      <th>Floor</th>\n",
       "      <td>0.042838</td>\n",
       "    </tr>\n",
       "    <tr>\n",
       "      <th>FloorType</th>\n",
       "      <td>0.036344</td>\n",
       "    </tr>\n",
       "    <tr>\n",
       "      <th>BuildingType</th>\n",
       "      <td>0.069984</td>\n",
       "    </tr>\n",
       "  </tbody>\n",
       "</table>\n",
       "</div>"
      ],
      "text/plain": [
       "                     0\n",
       "City          0.105774\n",
       "District      0.229954\n",
       "Floor         0.042838\n",
       "FloorType     0.036344\n",
       "BuildingType  0.069984"
      ]
     },
     "metadata": {},
     "execution_count": 56
    }
   ],
   "metadata": {}
  },
  {
   "cell_type": "code",
   "execution_count": 57,
   "source": [
    "lgb_importance_df = pd.DataFrame(lgb_importance,index = feature_names)\n",
    "lgb_importance_df.head()"
   ],
   "outputs": [
    {
     "output_type": "execute_result",
     "data": {
      "text/html": [
       "<div>\n",
       "<style scoped>\n",
       "    .dataframe tbody tr th:only-of-type {\n",
       "        vertical-align: middle;\n",
       "    }\n",
       "\n",
       "    .dataframe tbody tr th {\n",
       "        vertical-align: top;\n",
       "    }\n",
       "\n",
       "    .dataframe thead th {\n",
       "        text-align: right;\n",
       "    }\n",
       "</style>\n",
       "<table border=\"1\" class=\"dataframe\">\n",
       "  <thead>\n",
       "    <tr style=\"text-align: right;\">\n",
       "      <th></th>\n",
       "      <th>0</th>\n",
       "    </tr>\n",
       "  </thead>\n",
       "  <tbody>\n",
       "    <tr>\n",
       "      <th>City</th>\n",
       "      <td>239</td>\n",
       "    </tr>\n",
       "    <tr>\n",
       "      <th>District</th>\n",
       "      <td>1198</td>\n",
       "    </tr>\n",
       "    <tr>\n",
       "      <th>Floor</th>\n",
       "      <td>212</td>\n",
       "    </tr>\n",
       "    <tr>\n",
       "      <th>FloorType</th>\n",
       "      <td>122</td>\n",
       "    </tr>\n",
       "    <tr>\n",
       "      <th>BuildingType</th>\n",
       "      <td>184</td>\n",
       "    </tr>\n",
       "  </tbody>\n",
       "</table>\n",
       "</div>"
      ],
      "text/plain": [
       "                 0\n",
       "City           239\n",
       "District      1198\n",
       "Floor          212\n",
       "FloorType      122\n",
       "BuildingType   184"
      ]
     },
     "metadata": {},
     "execution_count": 57
    }
   ],
   "metadata": {}
  },
  {
   "cell_type": "code",
   "execution_count": 58,
   "source": [
    "sel_lgb_df = lgb_importance_df.loc[lgb_importance_df[0] > 0]\n",
    "sel_lgb_df.head()"
   ],
   "outputs": [
    {
     "output_type": "execute_result",
     "data": {
      "text/html": [
       "<div>\n",
       "<style scoped>\n",
       "    .dataframe tbody tr th:only-of-type {\n",
       "        vertical-align: middle;\n",
       "    }\n",
       "\n",
       "    .dataframe tbody tr th {\n",
       "        vertical-align: top;\n",
       "    }\n",
       "\n",
       "    .dataframe thead th {\n",
       "        text-align: right;\n",
       "    }\n",
       "</style>\n",
       "<table border=\"1\" class=\"dataframe\">\n",
       "  <thead>\n",
       "    <tr style=\"text-align: right;\">\n",
       "      <th></th>\n",
       "      <th>0</th>\n",
       "    </tr>\n",
       "  </thead>\n",
       "  <tbody>\n",
       "    <tr>\n",
       "      <th>City</th>\n",
       "      <td>239</td>\n",
       "    </tr>\n",
       "    <tr>\n",
       "      <th>District</th>\n",
       "      <td>1198</td>\n",
       "    </tr>\n",
       "    <tr>\n",
       "      <th>Floor</th>\n",
       "      <td>212</td>\n",
       "    </tr>\n",
       "    <tr>\n",
       "      <th>FloorType</th>\n",
       "      <td>122</td>\n",
       "    </tr>\n",
       "    <tr>\n",
       "      <th>BuildingType</th>\n",
       "      <td>184</td>\n",
       "    </tr>\n",
       "  </tbody>\n",
       "</table>\n",
       "</div>"
      ],
      "text/plain": [
       "                 0\n",
       "City           239\n",
       "District      1198\n",
       "Floor          212\n",
       "FloorType      122\n",
       "BuildingType   184"
      ]
     },
     "metadata": {},
     "execution_count": 58
    }
   ],
   "metadata": {}
  },
  {
   "cell_type": "code",
   "execution_count": 59,
   "source": [
    "knn_importance_df = pd.DataFrame(knn_importance,index = feature_names)\n",
    "knn_importance_df.head()"
   ],
   "outputs": [
    {
     "output_type": "execute_result",
     "data": {
      "text/html": [
       "<div>\n",
       "<style scoped>\n",
       "    .dataframe tbody tr th:only-of-type {\n",
       "        vertical-align: middle;\n",
       "    }\n",
       "\n",
       "    .dataframe tbody tr th {\n",
       "        vertical-align: top;\n",
       "    }\n",
       "\n",
       "    .dataframe thead th {\n",
       "        text-align: right;\n",
       "    }\n",
       "</style>\n",
       "<table border=\"1\" class=\"dataframe\">\n",
       "  <thead>\n",
       "    <tr style=\"text-align: right;\">\n",
       "      <th></th>\n",
       "      <th>0</th>\n",
       "    </tr>\n",
       "  </thead>\n",
       "  <tbody>\n",
       "    <tr>\n",
       "      <th>City</th>\n",
       "      <td>2.665233e+12</td>\n",
       "    </tr>\n",
       "    <tr>\n",
       "      <th>District</th>\n",
       "      <td>2.683811e+12</td>\n",
       "    </tr>\n",
       "    <tr>\n",
       "      <th>Floor</th>\n",
       "      <td>8.397925e+11</td>\n",
       "    </tr>\n",
       "    <tr>\n",
       "      <th>FloorType</th>\n",
       "      <td>6.856118e+11</td>\n",
       "    </tr>\n",
       "    <tr>\n",
       "      <th>BuildingType</th>\n",
       "      <td>1.901737e+12</td>\n",
       "    </tr>\n",
       "  </tbody>\n",
       "</table>\n",
       "</div>"
      ],
      "text/plain": [
       "                         0\n",
       "City          2.665233e+12\n",
       "District      2.683811e+12\n",
       "Floor         8.397925e+11\n",
       "FloorType     6.856118e+11\n",
       "BuildingType  1.901737e+12"
      ]
     },
     "metadata": {},
     "execution_count": 59
    }
   ],
   "metadata": {}
  },
  {
   "cell_type": "code",
   "execution_count": 60,
   "source": [
    "sel_knn_df = knn_importance_df.loc[knn_importance_df[0] > 0]\n",
    "sel_knn_df.head()"
   ],
   "outputs": [
    {
     "output_type": "execute_result",
     "data": {
      "text/html": [
       "<div>\n",
       "<style scoped>\n",
       "    .dataframe tbody tr th:only-of-type {\n",
       "        vertical-align: middle;\n",
       "    }\n",
       "\n",
       "    .dataframe tbody tr th {\n",
       "        vertical-align: top;\n",
       "    }\n",
       "\n",
       "    .dataframe thead th {\n",
       "        text-align: right;\n",
       "    }\n",
       "</style>\n",
       "<table border=\"1\" class=\"dataframe\">\n",
       "  <thead>\n",
       "    <tr style=\"text-align: right;\">\n",
       "      <th></th>\n",
       "      <th>0</th>\n",
       "    </tr>\n",
       "  </thead>\n",
       "  <tbody>\n",
       "    <tr>\n",
       "      <th>City</th>\n",
       "      <td>2.665233e+12</td>\n",
       "    </tr>\n",
       "    <tr>\n",
       "      <th>District</th>\n",
       "      <td>2.683811e+12</td>\n",
       "    </tr>\n",
       "    <tr>\n",
       "      <th>Floor</th>\n",
       "      <td>8.397925e+11</td>\n",
       "    </tr>\n",
       "    <tr>\n",
       "      <th>FloorType</th>\n",
       "      <td>6.856118e+11</td>\n",
       "    </tr>\n",
       "    <tr>\n",
       "      <th>BuildingType</th>\n",
       "      <td>1.901737e+12</td>\n",
       "    </tr>\n",
       "  </tbody>\n",
       "</table>\n",
       "</div>"
      ],
      "text/plain": [
       "                         0\n",
       "City          2.665233e+12\n",
       "District      2.683811e+12\n",
       "Floor         8.397925e+11\n",
       "FloorType     6.856118e+11\n",
       "BuildingType  1.901737e+12"
      ]
     },
     "metadata": {},
     "execution_count": 60
    }
   ],
   "metadata": {}
  },
  {
   "cell_type": "code",
   "execution_count": 61,
   "source": [
    "# select features which is relatively important in each model \n",
    "sel_lr_index = sel_lr_df.index\n",
    "sel_dt_index = sel_dt_df.index\n",
    "sel_rf_index = sel_rf_df.index\n",
    "sel_lgb_index = sel_lgb_df.index\n",
    "sel_knn_index = sel_knn_df.index"
   ],
   "outputs": [],
   "metadata": {}
  },
  {
   "cell_type": "code",
   "execution_count": 62,
   "source": [
    "# Union all important features of these 3 models \n",
    "union_1 = np.union1d(sel_lr_index, sel_dt_index)\n",
    "union_2 = np.union1d(union_1, sel_rf_index)\n",
    "union_3 = np.union1d(union_2, sel_lgb_index)\n",
    "union_4 = np.union1d(union_3, sel_knn_index)\n",
    "union = np.append(union_4,'TotalPrice')"
   ],
   "outputs": [],
   "metadata": {}
  },
  {
   "cell_type": "code",
   "execution_count": 63,
   "source": [
    "df_important = df[union]\n",
    "df_important"
   ],
   "outputs": [
    {
     "output_type": "execute_result",
     "data": {
      "text/html": [
       "<div>\n",
       "<style scoped>\n",
       "    .dataframe tbody tr th:only-of-type {\n",
       "        vertical-align: middle;\n",
       "    }\n",
       "\n",
       "    .dataframe tbody tr th {\n",
       "        vertical-align: top;\n",
       "    }\n",
       "\n",
       "    .dataframe thead th {\n",
       "        text-align: right;\n",
       "    }\n",
       "</style>\n",
       "<table border=\"1\" class=\"dataframe\">\n",
       "  <thead>\n",
       "    <tr style=\"text-align: right;\">\n",
       "      <th></th>\n",
       "      <th>BathRooms</th>\n",
       "      <th>BedRooms</th>\n",
       "      <th>BuildingStructure</th>\n",
       "      <th>BuildingType</th>\n",
       "      <th>City</th>\n",
       "      <th>District</th>\n",
       "      <th>Elevator</th>\n",
       "      <th>Floor</th>\n",
       "      <th>FloorType</th>\n",
       "      <th>Kitchen</th>\n",
       "      <th>LivingRooms</th>\n",
       "      <th>RenovationCondition</th>\n",
       "      <th>TotalPrice</th>\n",
       "    </tr>\n",
       "  </thead>\n",
       "  <tbody>\n",
       "    <tr>\n",
       "      <th>0</th>\n",
       "      <td>2</td>\n",
       "      <td>3</td>\n",
       "      <td>5</td>\n",
       "      <td>2</td>\n",
       "      <td>0</td>\n",
       "      <td>19</td>\n",
       "      <td>1</td>\n",
       "      <td>2</td>\n",
       "      <td>2</td>\n",
       "      <td>1</td>\n",
       "      <td>2</td>\n",
       "      <td>0</td>\n",
       "      <td>7950000.0</td>\n",
       "    </tr>\n",
       "    <tr>\n",
       "      <th>1</th>\n",
       "      <td>1</td>\n",
       "      <td>2</td>\n",
       "      <td>3</td>\n",
       "      <td>2</td>\n",
       "      <td>0</td>\n",
       "      <td>31</td>\n",
       "      <td>0</td>\n",
       "      <td>3</td>\n",
       "      <td>2</td>\n",
       "      <td>1</td>\n",
       "      <td>1</td>\n",
       "      <td>1</td>\n",
       "      <td>6350000.0</td>\n",
       "    </tr>\n",
       "    <tr>\n",
       "      <th>2</th>\n",
       "      <td>1</td>\n",
       "      <td>2</td>\n",
       "      <td>5</td>\n",
       "      <td>2</td>\n",
       "      <td>0</td>\n",
       "      <td>2</td>\n",
       "      <td>1</td>\n",
       "      <td>3</td>\n",
       "      <td>2</td>\n",
       "      <td>1</td>\n",
       "      <td>1</td>\n",
       "      <td>0</td>\n",
       "      <td>5850000.0</td>\n",
       "    </tr>\n",
       "    <tr>\n",
       "      <th>3</th>\n",
       "      <td>1</td>\n",
       "      <td>3</td>\n",
       "      <td>3</td>\n",
       "      <td>2</td>\n",
       "      <td>0</td>\n",
       "      <td>7</td>\n",
       "      <td>0</td>\n",
       "      <td>1</td>\n",
       "      <td>2</td>\n",
       "      <td>1</td>\n",
       "      <td>1</td>\n",
       "      <td>0</td>\n",
       "      <td>5090000.0</td>\n",
       "    </tr>\n",
       "    <tr>\n",
       "      <th>4</th>\n",
       "      <td>1</td>\n",
       "      <td>2</td>\n",
       "      <td>5</td>\n",
       "      <td>2</td>\n",
       "      <td>0</td>\n",
       "      <td>33</td>\n",
       "      <td>1</td>\n",
       "      <td>4</td>\n",
       "      <td>2</td>\n",
       "      <td>1</td>\n",
       "      <td>1</td>\n",
       "      <td>0</td>\n",
       "      <td>2730000.0</td>\n",
       "    </tr>\n",
       "    <tr>\n",
       "      <th>...</th>\n",
       "      <td>...</td>\n",
       "      <td>...</td>\n",
       "      <td>...</td>\n",
       "      <td>...</td>\n",
       "      <td>...</td>\n",
       "      <td>...</td>\n",
       "      <td>...</td>\n",
       "      <td>...</td>\n",
       "      <td>...</td>\n",
       "      <td>...</td>\n",
       "      <td>...</td>\n",
       "      <td>...</td>\n",
       "      <td>...</td>\n",
       "    </tr>\n",
       "    <tr>\n",
       "      <th>7516</th>\n",
       "      <td>1</td>\n",
       "      <td>3</td>\n",
       "      <td>5</td>\n",
       "      <td>4</td>\n",
       "      <td>1</td>\n",
       "      <td>41</td>\n",
       "      <td>1</td>\n",
       "      <td>4</td>\n",
       "      <td>2</td>\n",
       "      <td>1</td>\n",
       "      <td>2</td>\n",
       "      <td>0</td>\n",
       "      <td>5380000.0</td>\n",
       "    </tr>\n",
       "    <tr>\n",
       "      <th>7517</th>\n",
       "      <td>1</td>\n",
       "      <td>2</td>\n",
       "      <td>5</td>\n",
       "      <td>4</td>\n",
       "      <td>1</td>\n",
       "      <td>32</td>\n",
       "      <td>0</td>\n",
       "      <td>4</td>\n",
       "      <td>2</td>\n",
       "      <td>1</td>\n",
       "      <td>1</td>\n",
       "      <td>3</td>\n",
       "      <td>1680000.0</td>\n",
       "    </tr>\n",
       "    <tr>\n",
       "      <th>7518</th>\n",
       "      <td>1</td>\n",
       "      <td>2</td>\n",
       "      <td>5</td>\n",
       "      <td>4</td>\n",
       "      <td>1</td>\n",
       "      <td>29</td>\n",
       "      <td>1</td>\n",
       "      <td>2</td>\n",
       "      <td>2</td>\n",
       "      <td>1</td>\n",
       "      <td>2</td>\n",
       "      <td>3</td>\n",
       "      <td>3800000.0</td>\n",
       "    </tr>\n",
       "    <tr>\n",
       "      <th>7519</th>\n",
       "      <td>1</td>\n",
       "      <td>2</td>\n",
       "      <td>5</td>\n",
       "      <td>4</td>\n",
       "      <td>1</td>\n",
       "      <td>29</td>\n",
       "      <td>0</td>\n",
       "      <td>2</td>\n",
       "      <td>2</td>\n",
       "      <td>1</td>\n",
       "      <td>1</td>\n",
       "      <td>0</td>\n",
       "      <td>1200000.0</td>\n",
       "    </tr>\n",
       "    <tr>\n",
       "      <th>7520</th>\n",
       "      <td>1</td>\n",
       "      <td>2</td>\n",
       "      <td>5</td>\n",
       "      <td>3</td>\n",
       "      <td>1</td>\n",
       "      <td>25</td>\n",
       "      <td>1</td>\n",
       "      <td>2</td>\n",
       "      <td>2</td>\n",
       "      <td>1</td>\n",
       "      <td>2</td>\n",
       "      <td>3</td>\n",
       "      <td>3000000.0</td>\n",
       "    </tr>\n",
       "  </tbody>\n",
       "</table>\n",
       "<p>7330 rows × 13 columns</p>\n",
       "</div>"
      ],
      "text/plain": [
       "     BathRooms BedRooms  BuildingStructure  BuildingType  City  District  \\\n",
       "0            2        3                  5             2     0        19   \n",
       "1            1        2                  3             2     0        31   \n",
       "2            1        2                  5             2     0         2   \n",
       "3            1        3                  3             2     0         7   \n",
       "4            1        2                  5             2     0        33   \n",
       "...        ...      ...                ...           ...   ...       ...   \n",
       "7516         1        3                  5             4     1        41   \n",
       "7517         1        2                  5             4     1        32   \n",
       "7518         1        2                  5             4     1        29   \n",
       "7519         1        2                  5             4     1        29   \n",
       "7520         1        2                  5             3     1        25   \n",
       "\n",
       "      Elevator  Floor  FloorType Kitchen LivingRooms  RenovationCondition  \\\n",
       "0            1      2          2       1           2                    0   \n",
       "1            0      3          2       1           1                    1   \n",
       "2            1      3          2       1           1                    0   \n",
       "3            0      1          2       1           1                    0   \n",
       "4            1      4          2       1           1                    0   \n",
       "...        ...    ...        ...     ...         ...                  ...   \n",
       "7516         1      4          2       1           2                    0   \n",
       "7517         0      4          2       1           1                    3   \n",
       "7518         1      2          2       1           2                    3   \n",
       "7519         0      2          2       1           1                    0   \n",
       "7520         1      2          2       1           2                    3   \n",
       "\n",
       "      TotalPrice  \n",
       "0      7950000.0  \n",
       "1      6350000.0  \n",
       "2      5850000.0  \n",
       "3      5090000.0  \n",
       "4      2730000.0  \n",
       "...          ...  \n",
       "7516   5380000.0  \n",
       "7517   1680000.0  \n",
       "7518   3800000.0  \n",
       "7519   1200000.0  \n",
       "7520   3000000.0  \n",
       "\n",
       "[7330 rows x 13 columns]"
      ]
     },
     "metadata": {},
     "execution_count": 63
    }
   ],
   "metadata": {}
  },
  {
   "cell_type": "markdown",
   "source": [
    "# Model again"
   ],
   "metadata": {}
  },
  {
   "cell_type": "markdown",
   "source": [
    "## Split dataset"
   ],
   "metadata": {}
  },
  {
   "cell_type": "code",
   "execution_count": 64,
   "source": [
    "# Split dataset\n",
    "X_imp = df_important.drop(['TotalPrice'], axis = 1)\n",
    "y_imp = df_important['TotalPrice']"
   ],
   "outputs": [],
   "metadata": {}
  },
  {
   "cell_type": "code",
   "execution_count": 65,
   "source": [
    "print(X_imp.shape)\n",
    "print(y_imp.shape)"
   ],
   "outputs": [
    {
     "output_type": "stream",
     "name": "stdout",
     "text": [
      "(7330, 12)\n",
      "(7330,)\n"
     ]
    }
   ],
   "metadata": {}
  },
  {
   "cell_type": "code",
   "execution_count": 66,
   "source": [
    "# split data to 80% of training and 20% of testing\n",
    "X_train_imp, X_test_imp, y_train_imp, y_test_imp = train_test_split(X_imp, y_imp, test_size=0.2, random_state=47)"
   ],
   "outputs": [],
   "metadata": {}
  },
  {
   "cell_type": "code",
   "execution_count": 67,
   "source": [
    "print(X_train_imp.shape)\n",
    "print(X_test_imp.shape)\n",
    "print(y_train_imp.shape)\n",
    "print(y_test_imp.shape)"
   ],
   "outputs": [
    {
     "output_type": "stream",
     "name": "stdout",
     "text": [
      "(5864, 12)\n",
      "(1466, 12)\n",
      "(5864,)\n",
      "(1466,)\n"
     ]
    }
   ],
   "metadata": {}
  },
  {
   "cell_type": "markdown",
   "source": [
    "## Standardize"
   ],
   "metadata": {}
  },
  {
   "cell_type": "code",
   "execution_count": 68,
   "source": [
    "# Feature Scaling\n",
    "from sklearn.preprocessing import StandardScaler\n",
    "\n",
    "sc = StandardScaler()\n",
    "X_train_imp = sc.fit_transform(X_train_imp)\n",
    "X_test_imp = sc.transform(X_test_imp)"
   ],
   "outputs": [],
   "metadata": {}
  },
  {
   "cell_type": "markdown",
   "source": [
    "## Multiple Linear Regression"
   ],
   "metadata": {}
  },
  {
   "cell_type": "code",
   "execution_count": 69,
   "source": [
    "from sklearn.linear_model import LinearRegression\n",
    "\n",
    "lr_model = LinearRegression()\n",
    "lr_model.fit(X_train_imp, y_train_imp)\n",
    "\n",
    "print(lr_model.score(X_train_imp, y_train_imp))\n",
    "print(lr_model.score(X_test_imp, y_test_imp))"
   ],
   "outputs": [
    {
     "output_type": "stream",
     "name": "stdout",
     "text": [
      "0.3242493439623848\n",
      "0.38539979917493605\n"
     ]
    }
   ],
   "metadata": {}
  },
  {
   "cell_type": "code",
   "execution_count": 70,
   "source": [
    "# prediction\n",
    "y_pred_lr_imp = lr_model.predict(X_test_imp)\n",
    "\n",
    "print('r2 socre is ', r2_score(y_test_imp, y_pred_lr_imp))\n",
    "print('Root Mean Squared Error:', np.sqrt(metrics.mean_squared_error(y_test_imp, y_pred_lr_imp)))"
   ],
   "outputs": [
    {
     "output_type": "stream",
     "name": "stdout",
     "text": [
      "r2 socre is  0.38539979917493605\n",
      "Root Mean Squared Error: 2930356.984299326\n"
     ]
    }
   ],
   "metadata": {}
  },
  {
   "cell_type": "markdown",
   "source": [
    "## Decision Tree"
   ],
   "metadata": {}
  },
  {
   "cell_type": "code",
   "execution_count": 71,
   "source": [
    "from sklearn.tree import DecisionTreeRegressor\n",
    "\n",
    "dt_model = DecisionTreeRegressor()\n",
    "dt_model.fit(X_train_imp, y_train_imp)\n",
    "\n",
    "print(dt_model.score(X_train_imp, y_train_imp))\n",
    "print(dt_model.score(X_test_imp, y_test_imp))"
   ],
   "outputs": [
    {
     "output_type": "stream",
     "name": "stdout",
     "text": [
      "0.955560635474592\n",
      "0.5984192247368273\n"
     ]
    }
   ],
   "metadata": {}
  },
  {
   "cell_type": "code",
   "execution_count": 72,
   "source": [
    "# prediction\n",
    "y_pred_dt_imp = dt_model.predict(X_test_imp)\n",
    "\n",
    "print('r2 socre is ', r2_score(y_test_imp, y_pred_dt_imp))\n",
    "print('Root Mean Squared Error:', np.sqrt(metrics.mean_squared_error(y_test_imp, y_pred_dt_imp)))"
   ],
   "outputs": [
    {
     "output_type": "stream",
     "name": "stdout",
     "text": [
      "r2 socre is  0.5984192247368273\n",
      "Root Mean Squared Error: 2368703.1551448307\n"
     ]
    }
   ],
   "metadata": {}
  },
  {
   "cell_type": "markdown",
   "source": [
    "## Random Forest Regression"
   ],
   "metadata": {}
  },
  {
   "cell_type": "code",
   "execution_count": 73,
   "source": [
    "# Find optimal n_estimator for the model\n",
    "from sklearn.model_selection import GridSearchCV\n",
    "from sklearn.ensemble import RandomForestRegressor\n",
    "\n",
    "param_grid ={\n",
    "    'n_estimators': [20, 100, 500, 1000, 5000]\n",
    "}\n",
    "\n",
    "rf_model = RandomForestRegressor()\n",
    "grid_search = GridSearchCV(estimator = rf_model, param_grid = param_grid, cv=3, n_jobs=-1)\n",
    "\n",
    "grid_search.fit(X_train, y_train)\n",
    "\n",
    "grid_search.best_params_"
   ],
   "outputs": [
    {
     "output_type": "execute_result",
     "data": {
      "text/plain": [
       "{'n_estimators': 500}"
      ]
     },
     "metadata": {},
     "execution_count": 73
    }
   ],
   "metadata": {}
  },
  {
   "cell_type": "code",
   "execution_count": 74,
   "source": [
    "rf_model = RandomForestRegressor(n_estimators=100, random_state=47)\n",
    "rf_model.fit(X_train, y_train)\n",
    "\n",
    "print(rf_model.score(X_train, y_train))\n",
    "print(rf_model.score(X_test, y_test))"
   ],
   "outputs": [
    {
     "output_type": "stream",
     "name": "stdout",
     "text": [
      "0.91577768644308\n",
      "0.7085426046440196\n"
     ]
    }
   ],
   "metadata": {}
  },
  {
   "cell_type": "code",
   "execution_count": 75,
   "source": [
    "# prediction\n",
    "y_pred_rf = rf_model.predict(X_test)\n",
    "\n",
    "print('r2 socre is ', r2_score(y_test, y_pred_rf))\n",
    "print('Root Mean Squared Error:', np.sqrt(metrics.mean_squared_error(y_test, y_pred_rf)))"
   ],
   "outputs": [
    {
     "output_type": "stream",
     "name": "stdout",
     "text": [
      "r2 socre is  0.7085426046440196\n",
      "Root Mean Squared Error: 2017956.133912447\n"
     ]
    }
   ],
   "metadata": {}
  },
  {
   "cell_type": "markdown",
   "source": [
    "## LGBM Regression"
   ],
   "metadata": {}
  },
  {
   "cell_type": "code",
   "execution_count": 76,
   "source": [
    "import lightgbm as lgb\n",
    "lgb_model = lgb.LGBMRegressor()\n",
    "lgb_model.fit(X_train_imp, y_train_imp)\n",
    "\n",
    "print(lgb_model.score(X_train_imp, y_train_imp))\n",
    "print(lgb_model.score(X_test_imp, y_test_imp))"
   ],
   "outputs": [
    {
     "output_type": "stream",
     "name": "stdout",
     "text": [
      "0.7974118975791629\n",
      "0.7369871140619224\n"
     ]
    }
   ],
   "metadata": {}
  },
  {
   "cell_type": "code",
   "execution_count": 77,
   "source": [
    "# prediction\n",
    "y_pred_lgb_imp = lgb_model.predict(X_test_imp)\n",
    "\n",
    "print('r2 socre is ', r2_score(y_test_imp, y_pred_lgb_imp))\n",
    "print('Root Mean Squared Error:', np.sqrt(metrics.mean_squared_error(y_test_imp, y_pred_lgb_imp)))"
   ],
   "outputs": [
    {
     "output_type": "stream",
     "name": "stdout",
     "text": [
      "r2 socre is  0.7369871140619224\n",
      "Root Mean Squared Error: 1916958.4292163819\n"
     ]
    }
   ],
   "metadata": {}
  },
  {
   "cell_type": "markdown",
   "source": [
    "## KNN Regression"
   ],
   "metadata": {}
  },
  {
   "cell_type": "code",
   "execution_count": 78,
   "source": [
    "# Find optimal n_neighbors for the model\n",
    "from sklearn.neighbors import KNeighborsRegressor\n",
    "\n",
    "parameter_space = {\n",
    "    \"n_neighbors\": [8, 9, 10, 11, 30],\n",
    "    \"weights\": [\"uniform\", \"distance\"],\n",
    "    \"algorithm\": [\"ball_tree\", \"kd_tree\", \"brute\"],\n",
    "    \"leaf_size\": [1, 2, 20, 50, 200]\n",
    "}\n",
    "\n",
    "knn_model = KNeighborsRegressor()\n",
    "\n",
    "grid_search = GridSearchCV(knn_model, parameter_space, cv=3, n_jobs=-1)\n",
    "\n",
    "grid_search.fit(X_train, y_train)\n",
    "\n",
    "print(grid_search.best_params_)"
   ],
   "outputs": [
    {
     "output_type": "stream",
     "name": "stdout",
     "text": [
      "{'algorithm': 'ball_tree', 'leaf_size': 20, 'n_neighbors': 11, 'weights': 'distance'}\n"
     ]
    }
   ],
   "metadata": {}
  },
  {
   "cell_type": "code",
   "execution_count": 79,
   "source": [
    "knn_model = KNeighborsRegressor(n_neighbors=9, weights='distance', algorithm='kd_tree', leaf_size=20)\n",
    "knn_model.fit(X_train_imp, y_train_imp)\n",
    "\n",
    "print(knn_model.score(X_train_imp, y_train_imp))\n",
    "print(knn_model.score(X_test_imp, y_test_imp))"
   ],
   "outputs": [
    {
     "output_type": "stream",
     "name": "stdout",
     "text": [
      "0.955322669528047\n",
      "0.5998117207036352\n"
     ]
    }
   ],
   "metadata": {}
  },
  {
   "cell_type": "code",
   "execution_count": 80,
   "source": [
    "# prediction\n",
    "y_pred_knn_imp = knn_model.predict(X_test_imp)\n",
    "\n",
    "print('r2 socre is ', r2_score(y_test_imp, y_pred_knn_imp))\n",
    "print('Root Mean Squared Error:', np.sqrt(metrics.mean_squared_error(y_test_imp, y_pred_knn_imp)))"
   ],
   "outputs": [
    {
     "output_type": "stream",
     "name": "stdout",
     "text": [
      "r2 socre is  0.5998117207036352\n",
      "Root Mean Squared Error: 2364592.806616576\n"
     ]
    }
   ],
   "metadata": {}
  },
  {
   "cell_type": "markdown",
   "source": [
    "# Using best model (LGBM) to predict selling prices"
   ],
   "metadata": {}
  },
  {
   "cell_type": "code",
   "execution_count": 81,
   "source": [
    "df.head()"
   ],
   "outputs": [
    {
     "output_type": "execute_result",
     "data": {
      "text/html": [
       "<div>\n",
       "<style scoped>\n",
       "    .dataframe tbody tr th:only-of-type {\n",
       "        vertical-align: middle;\n",
       "    }\n",
       "\n",
       "    .dataframe tbody tr th {\n",
       "        vertical-align: top;\n",
       "    }\n",
       "\n",
       "    .dataframe thead th {\n",
       "        text-align: right;\n",
       "    }\n",
       "</style>\n",
       "<table border=\"1\" class=\"dataframe\">\n",
       "  <thead>\n",
       "    <tr style=\"text-align: right;\">\n",
       "      <th></th>\n",
       "      <th>City</th>\n",
       "      <th>District</th>\n",
       "      <th>TotalPrice</th>\n",
       "      <th>Floor</th>\n",
       "      <th>FloorType</th>\n",
       "      <th>BuildingType</th>\n",
       "      <th>BuildingStructure</th>\n",
       "      <th>RenovationCondition</th>\n",
       "      <th>Elevator</th>\n",
       "      <th>BedRooms</th>\n",
       "      <th>LivingRooms</th>\n",
       "      <th>Kitchen</th>\n",
       "      <th>BathRooms</th>\n",
       "    </tr>\n",
       "  </thead>\n",
       "  <tbody>\n",
       "    <tr>\n",
       "      <th>0</th>\n",
       "      <td>0</td>\n",
       "      <td>19</td>\n",
       "      <td>7950000.0</td>\n",
       "      <td>2</td>\n",
       "      <td>2</td>\n",
       "      <td>2</td>\n",
       "      <td>5</td>\n",
       "      <td>0</td>\n",
       "      <td>1</td>\n",
       "      <td>3</td>\n",
       "      <td>2</td>\n",
       "      <td>1</td>\n",
       "      <td>2</td>\n",
       "    </tr>\n",
       "    <tr>\n",
       "      <th>1</th>\n",
       "      <td>0</td>\n",
       "      <td>31</td>\n",
       "      <td>6350000.0</td>\n",
       "      <td>3</td>\n",
       "      <td>2</td>\n",
       "      <td>2</td>\n",
       "      <td>3</td>\n",
       "      <td>1</td>\n",
       "      <td>0</td>\n",
       "      <td>2</td>\n",
       "      <td>1</td>\n",
       "      <td>1</td>\n",
       "      <td>1</td>\n",
       "    </tr>\n",
       "    <tr>\n",
       "      <th>2</th>\n",
       "      <td>0</td>\n",
       "      <td>2</td>\n",
       "      <td>5850000.0</td>\n",
       "      <td>3</td>\n",
       "      <td>2</td>\n",
       "      <td>2</td>\n",
       "      <td>5</td>\n",
       "      <td>0</td>\n",
       "      <td>1</td>\n",
       "      <td>2</td>\n",
       "      <td>1</td>\n",
       "      <td>1</td>\n",
       "      <td>1</td>\n",
       "    </tr>\n",
       "    <tr>\n",
       "      <th>3</th>\n",
       "      <td>0</td>\n",
       "      <td>7</td>\n",
       "      <td>5090000.0</td>\n",
       "      <td>1</td>\n",
       "      <td>2</td>\n",
       "      <td>2</td>\n",
       "      <td>3</td>\n",
       "      <td>0</td>\n",
       "      <td>0</td>\n",
       "      <td>3</td>\n",
       "      <td>1</td>\n",
       "      <td>1</td>\n",
       "      <td>1</td>\n",
       "    </tr>\n",
       "    <tr>\n",
       "      <th>4</th>\n",
       "      <td>0</td>\n",
       "      <td>33</td>\n",
       "      <td>2730000.0</td>\n",
       "      <td>4</td>\n",
       "      <td>2</td>\n",
       "      <td>2</td>\n",
       "      <td>5</td>\n",
       "      <td>0</td>\n",
       "      <td>1</td>\n",
       "      <td>2</td>\n",
       "      <td>1</td>\n",
       "      <td>1</td>\n",
       "      <td>1</td>\n",
       "    </tr>\n",
       "  </tbody>\n",
       "</table>\n",
       "</div>"
      ],
      "text/plain": [
       "   City  District  TotalPrice  Floor  FloorType  BuildingType  \\\n",
       "0     0        19   7950000.0      2          2             2   \n",
       "1     0        31   6350000.0      3          2             2   \n",
       "2     0         2   5850000.0      3          2             2   \n",
       "3     0         7   5090000.0      1          2             2   \n",
       "4     0        33   2730000.0      4          2             2   \n",
       "\n",
       "   BuildingStructure  RenovationCondition  Elevator BedRooms LivingRooms  \\\n",
       "0                  5                    0         1        3           2   \n",
       "1                  3                    1         0        2           1   \n",
       "2                  5                    0         1        2           1   \n",
       "3                  3                    0         0        3           1   \n",
       "4                  5                    0         1        2           1   \n",
       "\n",
       "  Kitchen BathRooms  \n",
       "0       1         2  \n",
       "1       1         1  \n",
       "2       1         1  \n",
       "3       1         1  \n",
       "4       1         1  "
      ]
     },
     "metadata": {},
     "execution_count": 81
    }
   ],
   "metadata": {}
  },
  {
   "cell_type": "markdown",
   "source": [
    "|  | City | District | Floor | FloorType | BuildingType | BuildingStructure | RenovationCondition | Elevator | Bedrooms | LivingRooms | Kitchen | Bathrooms |\r\n",
    "|---|---|---|---|---|---|---|---|---|---|---|---|---|\r\n",
    "| 0 | Beijing | \r\n",
    "| 1 | Guangzhou |\r\n",
    "| 2 | Shanghai |\r\n",
    "| 8 |   | Tianhe |\r\n",
    "| 14 |   | Xuhui |\r\n",
    "| 19 |   | Tianhe |\r\n",
    "| 22 |   | Pudong |\r\n",
    "| 31 |   | Xicheng |\r\n",
    "| 37 |   | Minhang |\r\n"
   ],
   "metadata": {}
  },
  {
   "cell_type": "markdown",
   "source": [
    "| Feature | Client 1 |\r\n",
    "| --- | --- | \r\n",
    "| City | 1 |\r\n",
    "| District | 1 |\r\n",
    "| Floor | 1 |\r\n",
    "| FloorType | 1 |\r\n",
    "| BuildingType | 1 |\r\n",
    "| BuildingStructure | 1 |\r\n",
    "| RenovationCondition | 1 |\r\n",
    "| Elevator | 1 |\r\n",
    "| Bedrooms | 1 |\r\n",
    "| Living Rooms | 1 |\r\n",
    "| Kitchen | 1 |\r\n",
    "| Bathrooms | 1 |"
   ],
   "metadata": {}
  },
  {
   "cell_type": "code",
   "execution_count": 82,
   "source": [
    "# Produce a matrix for client data\n",
    "client_data = [[1, 1, 1, 1, 1, 1, 1, 1, 1, 1, 1, 1]] # client 1\n",
    "\n",
    "# show predictions\n",
    "price = rf_model.predict(client_data)\n",
    "print(f\"Predicted selling price for Client 1's home: ${price}\")"
   ],
   "outputs": [
    {
     "output_type": "stream",
     "name": "stdout",
     "text": [
      "Predicted selling price for Client 1's home: $[9700600.]\n"
     ]
    }
   ],
   "metadata": {}
  },
  {
   "cell_type": "code",
   "execution_count": 83,
   "source": [
    "# # show predictions\n",
    "# for i, price in enumerate(rf_model.predict(client_data)):\n",
    "#     print(\"Predicted selling price for Client {}'s home: ${:,.2f}\").format(i+1, price)"
   ],
   "outputs": [],
   "metadata": {}
  }
 ],
 "metadata": {
  "kernelspec": {
   "name": "python3",
   "display_name": "Python 3.8.5 64-bit ('base': conda)"
  },
  "language_info": {
   "codemirror_mode": {
    "name": "ipython",
    "version": 3
   },
   "file_extension": ".py",
   "mimetype": "text/x-python",
   "name": "python",
   "nbconvert_exporter": "python",
   "pygments_lexer": "ipython3",
   "version": "3.8.5"
  },
  "interpreter": {
   "hash": "61b2890ca4fe8716dc576c12343ff08f33079c09cc57cb5484f02a28f574fd89"
  }
 },
 "nbformat": 4,
 "nbformat_minor": 5
}