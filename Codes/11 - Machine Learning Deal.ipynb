{
 "cells": [
  {
   "cell_type": "code",
   "execution_count": 1,
   "source": [
    "# Import our dependencies\n",
    "from sklearn.model_selection import train_test_split\n",
    "from sklearn.preprocessing import StandardScaler,MinMaxScaler\n",
    "import pandas as pd\n",
    "import matplotlib.pyplot as plt\n",
    "import seaborn as sns\n",
    "import numpy as np\n",
    "import sqlite3"
   ],
   "outputs": [],
   "metadata": {}
  },
  {
   "cell_type": "code",
   "execution_count": 2,
   "source": [
    "# Import data\n",
    "con = sqlite3.connect('../HouseInfo.db')\n",
    "df = pd.read_sql_query('Select * from Deal', con)\n",
    "df.head()"
   ],
   "outputs": [
    {
     "output_type": "execute_result",
     "data": {
      "text/html": [
       "<div>\n",
       "<style scoped>\n",
       "    .dataframe tbody tr th:only-of-type {\n",
       "        vertical-align: middle;\n",
       "    }\n",
       "\n",
       "    .dataframe tbody tr th {\n",
       "        vertical-align: top;\n",
       "    }\n",
       "\n",
       "    .dataframe thead th {\n",
       "        text-align: right;\n",
       "    }\n",
       "</style>\n",
       "<table border=\"1\" class=\"dataframe\">\n",
       "  <thead>\n",
       "    <tr style=\"text-align: right;\">\n",
       "      <th></th>\n",
       "      <th>City</th>\n",
       "      <th>HouseName</th>\n",
       "      <th>Lng</th>\n",
       "      <th>Lat</th>\n",
       "      <th>tradeTime</th>\n",
       "      <th>DOM</th>\n",
       "      <th>followers</th>\n",
       "      <th>totalPrice</th>\n",
       "      <th>price</th>\n",
       "      <th>square</th>\n",
       "      <th>...</th>\n",
       "      <th>kitchen</th>\n",
       "      <th>bathRoom</th>\n",
       "      <th>floor</th>\n",
       "      <th>buildingType</th>\n",
       "      <th>constructionTime</th>\n",
       "      <th>renovationCondition</th>\n",
       "      <th>buildingStructure</th>\n",
       "      <th>elevator</th>\n",
       "      <th>subway</th>\n",
       "      <th>district</th>\n",
       "    </tr>\n",
       "  </thead>\n",
       "  <tbody>\n",
       "    <tr>\n",
       "      <th>0</th>\n",
       "      <td>Beijing</td>\n",
       "      <td></td>\n",
       "      <td>116.475489</td>\n",
       "      <td>40.01952</td>\n",
       "      <td>2016</td>\n",
       "      <td>1464</td>\n",
       "      <td>106</td>\n",
       "      <td>4150000.0</td>\n",
       "      <td>31680.0</td>\n",
       "      <td>131.00</td>\n",
       "      <td>...</td>\n",
       "      <td>1</td>\n",
       "      <td>1</td>\n",
       "      <td>High</td>\n",
       "      <td>Tower</td>\n",
       "      <td>2005</td>\n",
       "      <td>Simplicity</td>\n",
       "      <td>Steel/Concrete</td>\n",
       "      <td>Yes</td>\n",
       "      <td>Yes</td>\n",
       "      <td>7</td>\n",
       "    </tr>\n",
       "    <tr>\n",
       "      <th>1</th>\n",
       "      <td>Beijing</td>\n",
       "      <td></td>\n",
       "      <td>116.45391699999999</td>\n",
       "      <td>39.881534</td>\n",
       "      <td>2016</td>\n",
       "      <td>903</td>\n",
       "      <td>126</td>\n",
       "      <td>5750000.0</td>\n",
       "      <td>43436.0</td>\n",
       "      <td>132.38</td>\n",
       "      <td>...</td>\n",
       "      <td>1</td>\n",
       "      <td>2</td>\n",
       "      <td>High</td>\n",
       "      <td>Tower</td>\n",
       "      <td>2004</td>\n",
       "      <td>HardCover</td>\n",
       "      <td>Steel/Concrete</td>\n",
       "      <td>Yes</td>\n",
       "      <td>No</td>\n",
       "      <td>7</td>\n",
       "    </tr>\n",
       "    <tr>\n",
       "      <th>2</th>\n",
       "      <td>Beijing</td>\n",
       "      <td></td>\n",
       "      <td>116.561978</td>\n",
       "      <td>39.877145</td>\n",
       "      <td>2016</td>\n",
       "      <td>1271</td>\n",
       "      <td>48</td>\n",
       "      <td>10300000.0</td>\n",
       "      <td>52021.0</td>\n",
       "      <td>198.00</td>\n",
       "      <td>...</td>\n",
       "      <td>1</td>\n",
       "      <td>3</td>\n",
       "      <td>Middle</td>\n",
       "      <td>Plate</td>\n",
       "      <td>2005</td>\n",
       "      <td>Simplicity</td>\n",
       "      <td>Steel/Concrete</td>\n",
       "      <td>Yes</td>\n",
       "      <td>No</td>\n",
       "      <td>7</td>\n",
       "    </tr>\n",
       "    <tr>\n",
       "      <th>3</th>\n",
       "      <td>Beijing</td>\n",
       "      <td></td>\n",
       "      <td>116.43801</td>\n",
       "      <td>40.076114000000004</td>\n",
       "      <td>2016</td>\n",
       "      <td>965</td>\n",
       "      <td>138</td>\n",
       "      <td>2970000.0</td>\n",
       "      <td>22202.0</td>\n",
       "      <td>134.00</td>\n",
       "      <td>...</td>\n",
       "      <td>1</td>\n",
       "      <td>1</td>\n",
       "      <td>Low</td>\n",
       "      <td>Tower</td>\n",
       "      <td>2008</td>\n",
       "      <td>Other</td>\n",
       "      <td>Steel/Concrete</td>\n",
       "      <td>Yes</td>\n",
       "      <td>No</td>\n",
       "      <td>6</td>\n",
       "    </tr>\n",
       "    <tr>\n",
       "      <th>4</th>\n",
       "      <td>Beijing</td>\n",
       "      <td></td>\n",
       "      <td>116.42839199999999</td>\n",
       "      <td>39.886229</td>\n",
       "      <td>2016</td>\n",
       "      <td>927</td>\n",
       "      <td>286</td>\n",
       "      <td>3920000.0</td>\n",
       "      <td>48396.0</td>\n",
       "      <td>81.00</td>\n",
       "      <td>...</td>\n",
       "      <td>1</td>\n",
       "      <td>1</td>\n",
       "      <td>Middle</td>\n",
       "      <td>Plate</td>\n",
       "      <td>1960</td>\n",
       "      <td>Rough</td>\n",
       "      <td>Mixed</td>\n",
       "      <td>No</td>\n",
       "      <td>Yes</td>\n",
       "      <td>1</td>\n",
       "    </tr>\n",
       "  </tbody>\n",
       "</table>\n",
       "<p>5 rows × 22 columns</p>\n",
       "</div>"
      ],
      "text/plain": [
       "      City HouseName                 Lng                 Lat tradeTime   DOM  \\\n",
       "0  Beijing                    116.475489            40.01952      2016  1464   \n",
       "1  Beijing            116.45391699999999           39.881534      2016   903   \n",
       "2  Beijing                    116.561978           39.877145      2016  1271   \n",
       "3  Beijing                     116.43801  40.076114000000004      2016   965   \n",
       "4  Beijing            116.42839199999999           39.886229      2016   927   \n",
       "\n",
       "   followers  totalPrice    price  square  ... kitchen bathRoom   floor  \\\n",
       "0        106   4150000.0  31680.0  131.00  ...       1        1    High   \n",
       "1        126   5750000.0  43436.0  132.38  ...       1        2    High   \n",
       "2         48  10300000.0  52021.0  198.00  ...       1        3  Middle   \n",
       "3        138   2970000.0  22202.0  134.00  ...       1        1     Low   \n",
       "4        286   3920000.0  48396.0   81.00  ...       1        1  Middle   \n",
       "\n",
       "  buildingType constructionTime renovationCondition buildingStructure  \\\n",
       "0        Tower             2005          Simplicity    Steel/Concrete   \n",
       "1        Tower             2004           HardCover    Steel/Concrete   \n",
       "2        Plate             2005          Simplicity    Steel/Concrete   \n",
       "3        Tower             2008               Other    Steel/Concrete   \n",
       "4        Plate             1960               Rough             Mixed   \n",
       "\n",
       "  elevator subway district  \n",
       "0      Yes    Yes        7  \n",
       "1      Yes     No        7  \n",
       "2      Yes     No        7  \n",
       "3      Yes     No        6  \n",
       "4       No    Yes        1  \n",
       "\n",
       "[5 rows x 22 columns]"
      ]
     },
     "metadata": {},
     "execution_count": 2
    }
   ],
   "metadata": {}
  },
  {
   "cell_type": "code",
   "execution_count": 3,
   "source": [
    "df = df.drop(['price', 'square', 'HouseName','Lng', 'Lat', 'constructionTime','DOM','followers','tradeTime','subway'],axis=1)\n",
    "df.head()"
   ],
   "outputs": [
    {
     "output_type": "execute_result",
     "data": {
      "text/html": [
       "<div>\n",
       "<style scoped>\n",
       "    .dataframe tbody tr th:only-of-type {\n",
       "        vertical-align: middle;\n",
       "    }\n",
       "\n",
       "    .dataframe tbody tr th {\n",
       "        vertical-align: top;\n",
       "    }\n",
       "\n",
       "    .dataframe thead th {\n",
       "        text-align: right;\n",
       "    }\n",
       "</style>\n",
       "<table border=\"1\" class=\"dataframe\">\n",
       "  <thead>\n",
       "    <tr style=\"text-align: right;\">\n",
       "      <th></th>\n",
       "      <th>City</th>\n",
       "      <th>totalPrice</th>\n",
       "      <th>bedRoom</th>\n",
       "      <th>livingRoom</th>\n",
       "      <th>kitchen</th>\n",
       "      <th>bathRoom</th>\n",
       "      <th>floor</th>\n",
       "      <th>buildingType</th>\n",
       "      <th>renovationCondition</th>\n",
       "      <th>buildingStructure</th>\n",
       "      <th>elevator</th>\n",
       "      <th>district</th>\n",
       "    </tr>\n",
       "  </thead>\n",
       "  <tbody>\n",
       "    <tr>\n",
       "      <th>0</th>\n",
       "      <td>Beijing</td>\n",
       "      <td>4150000.0</td>\n",
       "      <td>2</td>\n",
       "      <td>1</td>\n",
       "      <td>1</td>\n",
       "      <td>1</td>\n",
       "      <td>High</td>\n",
       "      <td>Tower</td>\n",
       "      <td>Simplicity</td>\n",
       "      <td>Steel/Concrete</td>\n",
       "      <td>Yes</td>\n",
       "      <td>7</td>\n",
       "    </tr>\n",
       "    <tr>\n",
       "      <th>1</th>\n",
       "      <td>Beijing</td>\n",
       "      <td>5750000.0</td>\n",
       "      <td>2</td>\n",
       "      <td>2</td>\n",
       "      <td>1</td>\n",
       "      <td>2</td>\n",
       "      <td>High</td>\n",
       "      <td>Tower</td>\n",
       "      <td>HardCover</td>\n",
       "      <td>Steel/Concrete</td>\n",
       "      <td>Yes</td>\n",
       "      <td>7</td>\n",
       "    </tr>\n",
       "    <tr>\n",
       "      <th>2</th>\n",
       "      <td>Beijing</td>\n",
       "      <td>10300000.0</td>\n",
       "      <td>3</td>\n",
       "      <td>2</td>\n",
       "      <td>1</td>\n",
       "      <td>3</td>\n",
       "      <td>Middle</td>\n",
       "      <td>Plate</td>\n",
       "      <td>Simplicity</td>\n",
       "      <td>Steel/Concrete</td>\n",
       "      <td>Yes</td>\n",
       "      <td>7</td>\n",
       "    </tr>\n",
       "    <tr>\n",
       "      <th>3</th>\n",
       "      <td>Beijing</td>\n",
       "      <td>2970000.0</td>\n",
       "      <td>3</td>\n",
       "      <td>1</td>\n",
       "      <td>1</td>\n",
       "      <td>1</td>\n",
       "      <td>Low</td>\n",
       "      <td>Tower</td>\n",
       "      <td>Other</td>\n",
       "      <td>Steel/Concrete</td>\n",
       "      <td>Yes</td>\n",
       "      <td>6</td>\n",
       "    </tr>\n",
       "    <tr>\n",
       "      <th>4</th>\n",
       "      <td>Beijing</td>\n",
       "      <td>3920000.0</td>\n",
       "      <td>2</td>\n",
       "      <td>1</td>\n",
       "      <td>1</td>\n",
       "      <td>1</td>\n",
       "      <td>Middle</td>\n",
       "      <td>Plate</td>\n",
       "      <td>Rough</td>\n",
       "      <td>Mixed</td>\n",
       "      <td>No</td>\n",
       "      <td>1</td>\n",
       "    </tr>\n",
       "  </tbody>\n",
       "</table>\n",
       "</div>"
      ],
      "text/plain": [
       "      City  totalPrice bedRoom livingRoom kitchen bathRoom   floor  \\\n",
       "0  Beijing   4150000.0       2          1       1        1    High   \n",
       "1  Beijing   5750000.0       2          2       1        2    High   \n",
       "2  Beijing  10300000.0       3          2       1        3  Middle   \n",
       "3  Beijing   2970000.0       3          1       1        1     Low   \n",
       "4  Beijing   3920000.0       2          1       1        1  Middle   \n",
       "\n",
       "  buildingType renovationCondition buildingStructure elevator district  \n",
       "0        Tower          Simplicity    Steel/Concrete      Yes        7  \n",
       "1        Tower           HardCover    Steel/Concrete      Yes        7  \n",
       "2        Plate          Simplicity    Steel/Concrete      Yes        7  \n",
       "3        Tower               Other    Steel/Concrete      Yes        6  \n",
       "4        Plate               Rough             Mixed       No        1  "
      ]
     },
     "metadata": {},
     "execution_count": 3
    }
   ],
   "metadata": {}
  },
  {
   "cell_type": "code",
   "execution_count": 4,
   "source": [
    "df.replace(to_replace=r'Unknown', value=np.nan, regex=True, inplace=True)"
   ],
   "outputs": [],
   "metadata": {}
  },
  {
   "cell_type": "code",
   "execution_count": 5,
   "source": [
    "df.isnull().sum()"
   ],
   "outputs": [
    {
     "output_type": "execute_result",
     "data": {
      "text/plain": [
       "City                      0\n",
       "totalPrice                0\n",
       "bedRoom                   0\n",
       "livingRoom                0\n",
       "kitchen                   0\n",
       "bathRoom                  0\n",
       "floor                     0\n",
       "buildingType              0\n",
       "renovationCondition       0\n",
       "buildingStructure        54\n",
       "elevator                 76\n",
       "district               2951\n",
       "dtype: int64"
      ]
     },
     "metadata": {},
     "execution_count": 5
    }
   ],
   "metadata": {}
  },
  {
   "cell_type": "code",
   "execution_count": 6,
   "source": [
    "df = df.dropna()\n",
    "\n",
    "df.isnull().sum()"
   ],
   "outputs": [
    {
     "output_type": "execute_result",
     "data": {
      "text/plain": [
       "City                   0\n",
       "totalPrice             0\n",
       "bedRoom                0\n",
       "livingRoom             0\n",
       "kitchen                0\n",
       "bathRoom               0\n",
       "floor                  0\n",
       "buildingType           0\n",
       "renovationCondition    0\n",
       "buildingStructure      0\n",
       "elevator               0\n",
       "district               0\n",
       "dtype: int64"
      ]
     },
     "metadata": {},
     "execution_count": 6
    }
   ],
   "metadata": {}
  },
  {
   "cell_type": "markdown",
   "source": [
    "## Encoding"
   ],
   "metadata": {}
  },
  {
   "cell_type": "code",
   "execution_count": 7,
   "source": [
    "from sklearn.preprocessing import LabelEncoder\n",
    "\n",
    "labelencoder = LabelEncoder()\n",
    "\n",
    "df['City'] = labelencoder.fit_transform(df['City'])\n",
    "df['district'] = labelencoder.fit_transform(df['district'])\n",
    "df['floor'] = labelencoder.fit_transform(df['floor'])\n",
    "df['elevator'] = labelencoder.fit_transform(df['elevator'])\n",
    "df['buildingType'] = labelencoder.fit_transform(df['buildingType'])\n",
    "df['buildingStructure'] = labelencoder.fit_transform(df['buildingStructure'])\n",
    "df['renovationCondition'] = labelencoder.fit_transform(df['renovationCondition'])"
   ],
   "outputs": [],
   "metadata": {}
  },
  {
   "cell_type": "code",
   "execution_count": 8,
   "source": [
    "df.head()"
   ],
   "outputs": [
    {
     "output_type": "execute_result",
     "data": {
      "text/html": [
       "<div>\n",
       "<style scoped>\n",
       "    .dataframe tbody tr th:only-of-type {\n",
       "        vertical-align: middle;\n",
       "    }\n",
       "\n",
       "    .dataframe tbody tr th {\n",
       "        vertical-align: top;\n",
       "    }\n",
       "\n",
       "    .dataframe thead th {\n",
       "        text-align: right;\n",
       "    }\n",
       "</style>\n",
       "<table border=\"1\" class=\"dataframe\">\n",
       "  <thead>\n",
       "    <tr style=\"text-align: right;\">\n",
       "      <th></th>\n",
       "      <th>City</th>\n",
       "      <th>totalPrice</th>\n",
       "      <th>bedRoom</th>\n",
       "      <th>livingRoom</th>\n",
       "      <th>kitchen</th>\n",
       "      <th>bathRoom</th>\n",
       "      <th>floor</th>\n",
       "      <th>buildingType</th>\n",
       "      <th>renovationCondition</th>\n",
       "      <th>buildingStructure</th>\n",
       "      <th>elevator</th>\n",
       "      <th>district</th>\n",
       "    </tr>\n",
       "  </thead>\n",
       "  <tbody>\n",
       "    <tr>\n",
       "      <th>0</th>\n",
       "      <td>0</td>\n",
       "      <td>4150000.0</td>\n",
       "      <td>2</td>\n",
       "      <td>1</td>\n",
       "      <td>1</td>\n",
       "      <td>1</td>\n",
       "      <td>0</td>\n",
       "      <td>3</td>\n",
       "      <td>3</td>\n",
       "      <td>4</td>\n",
       "      <td>1</td>\n",
       "      <td>10</td>\n",
       "    </tr>\n",
       "    <tr>\n",
       "      <th>1</th>\n",
       "      <td>0</td>\n",
       "      <td>5750000.0</td>\n",
       "      <td>2</td>\n",
       "      <td>2</td>\n",
       "      <td>1</td>\n",
       "      <td>2</td>\n",
       "      <td>0</td>\n",
       "      <td>3</td>\n",
       "      <td>0</td>\n",
       "      <td>4</td>\n",
       "      <td>1</td>\n",
       "      <td>10</td>\n",
       "    </tr>\n",
       "    <tr>\n",
       "      <th>2</th>\n",
       "      <td>0</td>\n",
       "      <td>10300000.0</td>\n",
       "      <td>3</td>\n",
       "      <td>2</td>\n",
       "      <td>1</td>\n",
       "      <td>3</td>\n",
       "      <td>2</td>\n",
       "      <td>1</td>\n",
       "      <td>3</td>\n",
       "      <td>4</td>\n",
       "      <td>1</td>\n",
       "      <td>10</td>\n",
       "    </tr>\n",
       "    <tr>\n",
       "      <th>3</th>\n",
       "      <td>0</td>\n",
       "      <td>2970000.0</td>\n",
       "      <td>3</td>\n",
       "      <td>1</td>\n",
       "      <td>1</td>\n",
       "      <td>1</td>\n",
       "      <td>1</td>\n",
       "      <td>3</td>\n",
       "      <td>1</td>\n",
       "      <td>4</td>\n",
       "      <td>1</td>\n",
       "      <td>9</td>\n",
       "    </tr>\n",
       "    <tr>\n",
       "      <th>4</th>\n",
       "      <td>0</td>\n",
       "      <td>3920000.0</td>\n",
       "      <td>2</td>\n",
       "      <td>1</td>\n",
       "      <td>1</td>\n",
       "      <td>1</td>\n",
       "      <td>2</td>\n",
       "      <td>1</td>\n",
       "      <td>2</td>\n",
       "      <td>2</td>\n",
       "      <td>0</td>\n",
       "      <td>0</td>\n",
       "    </tr>\n",
       "  </tbody>\n",
       "</table>\n",
       "</div>"
      ],
      "text/plain": [
       "   City  totalPrice bedRoom livingRoom kitchen bathRoom  floor  buildingType  \\\n",
       "0     0   4150000.0       2          1       1        1      0             3   \n",
       "1     0   5750000.0       2          2       1        2      0             3   \n",
       "2     0  10300000.0       3          2       1        3      2             1   \n",
       "3     0   2970000.0       3          1       1        1      1             3   \n",
       "4     0   3920000.0       2          1       1        1      2             1   \n",
       "\n",
       "   renovationCondition  buildingStructure  elevator  district  \n",
       "0                    3                  4         1        10  \n",
       "1                    0                  4         1        10  \n",
       "2                    3                  4         1        10  \n",
       "3                    1                  4         1         9  \n",
       "4                    2                  2         0         0  "
      ]
     },
     "metadata": {},
     "execution_count": 8
    }
   ],
   "metadata": {}
  },
  {
   "cell_type": "markdown",
   "source": [
    "## Correlation Heatmap"
   ],
   "metadata": {}
  },
  {
   "cell_type": "code",
   "execution_count": 9,
   "source": [
    "fig,ax = plt.subplots(figsize=(10,7))\n",
    "sns.heatmap(df.corr(), annot = True, cmap = 'magma',ax=ax)\n",
    "\n",
    "# plt.savefig('heatmap.png')\n",
    "plt.show()"
   ],
   "outputs": [
    {
     "output_type": "display_data",
     "data": {
      "image/png": "[encoded data removed]",
      "text/plain": [
       "<Figure size 720x504 with 2 Axes>"
      ]
     },
     "metadata": {
      "needs_background": "light"
     }
    }
   ],
   "metadata": {}
  },
  {
   "cell_type": "code",
   "execution_count": 10,
   "source": [
    "corrmat = df.corr()\n",
    "print(corrmat['totalPrice'].sort_values(ascending=False))"
   ],
   "outputs": [
    {
     "output_type": "stream",
     "name": "stdout",
     "text": [
      "totalPrice             1.000000\n",
      "elevator               0.204423\n",
      "buildingStructure      0.179671\n",
      "buildingType           0.070721\n",
      "floor                  0.024519\n",
      "district              -0.030140\n",
      "renovationCondition   -0.086557\n",
      "City                        NaN\n",
      "Name: totalPrice, dtype: float64\n"
     ]
    }
   ],
   "metadata": {}
  },
  {
   "cell_type": "markdown",
   "source": [
    "## Remove Outliers"
   ],
   "metadata": {}
  },
  {
   "cell_type": "code",
   "execution_count": 11,
   "source": [
    "# sns.boxplot(df['totalPrice'])"
   ],
   "outputs": [],
   "metadata": {}
  },
  {
   "cell_type": "code",
   "execution_count": 12,
   "source": [
    "# percentile25 = df['totalPrice'].quantile(0.25)\n",
    "# percentile75 = df['totalPrice'].quantile(0.75)\n",
    "# iqr = percentile75 - percentile25"
   ],
   "outputs": [],
   "metadata": {}
  },
  {
   "cell_type": "code",
   "execution_count": 13,
   "source": [
    "# upper_limit = percentile75 + 1.5 * iqr\n",
    "# lower_limit = percentile25 - 1.5 * iqr"
   ],
   "outputs": [],
   "metadata": {}
  },
  {
   "cell_type": "code",
   "execution_count": 14,
   "source": [
    "# Finding Outliers\n",
    "# df[df['']]"
   ],
   "outputs": [],
   "metadata": {}
  },
  {
   "cell_type": "markdown",
   "source": [
    "## Calculate Statistics"
   ],
   "metadata": {}
  },
  {
   "cell_type": "code",
   "execution_count": 15,
   "source": [
    "# Minimum price of the data\n",
    "minimum_price = np.amin(df['totalPrice'])\n",
    "\n",
    "# Maximum price of the data\n",
    "maximum_price = np.amax(df['totalPrice'])\n",
    "\n",
    "# Mean price of the data\n",
    "mean_price = np.mean(df['totalPrice'])\n",
    "\n",
    "# Median price of the data\n",
    "median_price = np.median(df['totalPrice'])\n",
    "\n",
    "# Standard deviation of prices of the data\n",
    "std_price = np.std(df['totalPrice'])\n",
    "\n",
    "# Show the calculated statistics\n",
    "print(\"Statistics for Selling dataset:\\n\")\n",
    "print(\"Minimum price: ￥{}\".format(minimum_price)) \n",
    "print(\"Maximum price: ￥{}\".format(maximum_price))\n",
    "print(\"Mean price: ￥{}\".format(mean_price))\n",
    "print(\"Median price ￥{}\".format(median_price))\n",
    "print(\"Standard deviation of prices: ￥{}\".format(std_price))"
   ],
   "outputs": [
    {
     "output_type": "stream",
     "name": "stdout",
     "text": [
      "Statistics for Selling dataset:\n",
      "\n",
      "Minimum price: ￥0.0\n",
      "Maximum price: ￥49000000.0\n",
      "Mean price: ￥4089800.3062556484\n",
      "Median price ￥3530000.0\n",
      "Standard deviation of prices: ￥2538327.470760205\n"
     ]
    }
   ],
   "metadata": {}
  },
  {
   "cell_type": "code",
   "execution_count": 16,
   "source": [
    "# cols_to_dummies = ['City','District','Floor','FloorType','BuildingType','BuildingStructure','RenovationCondition','Elevator']\n",
    "# df = pd.get_dummies(data=df, columns=cols_to_dummies)\n",
    "# df = df.dropna()\n",
    "# df.head()"
   ],
   "outputs": [],
   "metadata": {}
  },
  {
   "cell_type": "markdown",
   "source": [
    "# Machine Learning"
   ],
   "metadata": {}
  },
  {
   "cell_type": "markdown",
   "source": [
    "## Spliting into training and testing dataset"
   ],
   "metadata": {}
  },
  {
   "cell_type": "code",
   "execution_count": 17,
   "source": [
    "X = df.drop(['totalPrice'], axis = 1)\n",
    "y = df['totalPrice']"
   ],
   "outputs": [],
   "metadata": {}
  },
  {
   "cell_type": "code",
   "execution_count": 18,
   "source": [
    "print(X.shape)\n",
    "print(y.shape)"
   ],
   "outputs": [
    {
     "output_type": "stream",
     "name": "stdout",
     "text": [
      "(159344, 11)\n",
      "(159344,)\n"
     ]
    }
   ],
   "metadata": {}
  },
  {
   "cell_type": "code",
   "execution_count": 19,
   "source": [
    "# split data to 80% of training and 20% of testing\n",
    "X_train, X_test, y_train, y_test = train_test_split(X,y,test_size=0.2,random_state=47)"
   ],
   "outputs": [],
   "metadata": {}
  },
  {
   "cell_type": "code",
   "execution_count": 20,
   "source": [
    "print(X_train.shape)\n",
    "print(X_test.shape)\n",
    "print(y_train.shape)\n",
    "print(y_test.shape)"
   ],
   "outputs": [
    {
     "output_type": "stream",
     "name": "stdout",
     "text": [
      "(127475, 11)\n",
      "(31869, 11)\n",
      "(127475,)\n",
      "(31869,)\n"
     ]
    }
   ],
   "metadata": {}
  },
  {
   "cell_type": "markdown",
   "source": [
    "## Standardization"
   ],
   "metadata": {}
  },
  {
   "cell_type": "code",
   "execution_count": 21,
   "source": [
    "# Feature Scaling\n",
    "from sklearn.preprocessing import StandardScaler\n",
    "\n",
    "sc = StandardScaler()\n",
    "X_train = sc.fit_transform(X_train)\n",
    "X_test = sc.transform(X_test)"
   ],
   "outputs": [],
   "metadata": {}
  },
  {
   "cell_type": "code",
   "execution_count": 22,
   "source": [
    "# cols_to_norm = ['Square','ConstructionTime','BedRooms','LivingRooms','Kitchens','BathRooms','Lng','Lat']\n",
    "# scaler = MinMaxScaler()\n",
    "\n",
    "# X_train[cols_to_norm] = scaler.fit_transform(X_train[cols_to_norm])\n",
    "# X_test[cols_to_norm] = scaler.transform(X_test[cols_to_norm])\n",
    "\n",
    "# X_train.head()"
   ],
   "outputs": [],
   "metadata": {
    "scrolled": false
   }
  },
  {
   "cell_type": "markdown",
   "source": [
    "## Multiple Linear Regression"
   ],
   "metadata": {}
  },
  {
   "cell_type": "code",
   "execution_count": 23,
   "source": [
    "from sklearn.linear_model import LinearRegression\n",
    "\n",
    "lr_model = LinearRegression()\n",
    "lr_model.fit(X_train, y_train)\n",
    "\n",
    "print(lr_model.score(X_train, y_train))\n",
    "print(lr_model.score(X_test, y_test))"
   ],
   "outputs": [
    {
     "output_type": "stream",
     "name": "stdout",
     "text": [
      "0.3181930468611499\n",
      "0.3055597580449577\n"
     ]
    }
   ],
   "metadata": {}
  },
  {
   "cell_type": "code",
   "execution_count": 24,
   "source": [
    "# prediction\n",
    "y_pred_lr = lr_model.predict(X_test)"
   ],
   "outputs": [],
   "metadata": {}
  },
  {
   "cell_type": "code",
   "execution_count": 25,
   "source": [
    "# visualization\n",
    "y1_test = y_test.values.reshape(-1,1)\n",
    "\n",
    "lr_model = LinearRegression()\n",
    "lr_model.fit(y1_test, y_pred_lr)\n",
    "y1_pred_lr = lr_model.predict(y1_test)\n",
    "\n",
    "plt.scatter(y1_test, y_pred_lr)\n",
    "plt.xlabel(\"Price\")\n",
    "plt.ylabel(\"Predicted prices\")\n",
    "plt.title(\"Prices vs Predicted prices\")\n",
    "plt.grid()\n",
    "\n",
    "plt.plot(y1_test, y1_pred_lr, color='red')\n",
    "plt.show()"
   ],
   "outputs": [
    {
     "output_type": "display_data",
     "data": {
      "image/png": "[encoded data removed]",
      "text/plain": [
       "<Figure size 432x288 with 1 Axes>"
      ]
     },
     "metadata": {
      "needs_background": "light"
     }
    }
   ],
   "metadata": {}
  },
  {
   "cell_type": "code",
   "execution_count": 26,
   "source": [
    "from sklearn import metrics\n",
    "from sklearn.metrics import r2_score\n",
    "from sklearn.metrics import mean_squared_error\n",
    "\n",
    "# predicting the accuracy score\n",
    "print('r2 socre is ', r2_score(y_test, y_pred_lr))\n",
    "print('Root Mean Squared Error:', np.sqrt(metrics.mean_squared_error(y_test, y_pred_lr)))"
   ],
   "outputs": [
    {
     "output_type": "stream",
     "name": "stdout",
     "text": [
      "r2 socre is  0.3055597580449577\n",
      "Root Mean Squared Error: 2123396.9870200497\n"
     ]
    }
   ],
   "metadata": {}
  },
  {
   "cell_type": "markdown",
   "source": [
    "The value of root mean squared error is higher than 10% of the mean value of price (i.e. ￥4799642). This means that our algorithm was not very accurate."
   ],
   "metadata": {}
  },
  {
   "cell_type": "markdown",
   "source": [
    "## Decision Tree"
   ],
   "metadata": {}
  },
  {
   "cell_type": "code",
   "execution_count": 27,
   "source": [
    "from sklearn.tree import DecisionTreeRegressor\n",
    "\n",
    "dt_model = DecisionTreeRegressor()\n",
    "dt_model.fit(X_train, y_train)\n",
    "\n",
    "print(dt_model.score(X_train, y_train))\n",
    "print(dt_model.score(X_test, y_test))"
   ],
   "outputs": [
    {
     "output_type": "stream",
     "name": "stdout",
     "text": [
      "0.6518698979216158\n",
      "0.5297047946303928\n"
     ]
    }
   ],
   "metadata": {}
  },
  {
   "cell_type": "code",
   "execution_count": 28,
   "source": [
    "# prediction\n",
    "y_pred_dt = dt_model.predict(X_test)"
   ],
   "outputs": [],
   "metadata": {}
  },
  {
   "cell_type": "code",
   "execution_count": 29,
   "source": [
    "from sklearn import metrics\n",
    "print('r2 socre is ', r2_score(y_test, y_pred_dt))\n",
    "print('Root Mean Squared Error:', np.sqrt(metrics.mean_squared_error(y_test, y_pred_dt)))"
   ],
   "outputs": [
    {
     "output_type": "stream",
     "name": "stdout",
     "text": [
      "r2 socre is  0.5297047946303928\n",
      "Root Mean Squared Error: 1747426.9624329973\n"
     ]
    }
   ],
   "metadata": {}
  },
  {
   "cell_type": "markdown",
   "source": [
    "## Random Forest"
   ],
   "metadata": {}
  },
  {
   "cell_type": "code",
   "execution_count": 30,
   "source": [
    "# Find optimal n_estimator for the model\n",
    "from sklearn.model_selection import GridSearchCV\n",
    "from sklearn.ensemble import RandomForestRegressor\n",
    "\n",
    "param_grid ={\n",
    "    'n_estimators': [20, 100, 500, 1000, 5000]\n",
    "}\n",
    "\n",
    "rf_model = RandomForestRegressor()\n",
    "grid_search = GridSearchCV(estimator = rf_model, param_grid = param_grid, cv=3, n_jobs=-1)\n",
    "\n",
    "grid_search.fit(X_train, y_train)\n",
    "\n",
    "grid_search.best_params_"
   ],
   "outputs": [
    {
     "output_type": "execute_result",
     "data": {
      "text/plain": [
       "{'n_estimators': 5000}"
      ]
     },
     "metadata": {},
     "execution_count": 30
    }
   ],
   "metadata": {}
  },
  {
   "cell_type": "code",
   "execution_count": 31,
   "source": [
    "rf_model = RandomForestRegressor(n_estimators=100, random_state=47)\n",
    "rf_model.fit(X_train, y_train)\n",
    "\n",
    "print(rf_model.score(X_train, y_train))\n",
    "print(rf_model.score(X_test, y_test))"
   ],
   "outputs": [
    {
     "output_type": "stream",
     "name": "stdout",
     "text": [
      "0.6449887180946983\n",
      "0.5531171566984467\n"
     ]
    }
   ],
   "metadata": {}
  },
  {
   "cell_type": "code",
   "execution_count": 32,
   "source": [
    "# prediction\n",
    "y_pred_rf = rf_model.predict(X_test)"
   ],
   "outputs": [],
   "metadata": {}
  },
  {
   "cell_type": "code",
   "execution_count": 33,
   "source": [
    "from sklearn import metrics\n",
    "print('r2 socre is ', r2_score(y_test, y_pred_rf))\n",
    "print('Root Mean Squared Error:', np.sqrt(metrics.mean_squared_error(y_test, y_pred_rf)))"
   ],
   "outputs": [
    {
     "output_type": "stream",
     "name": "stdout",
     "text": [
      "r2 socre is  0.5531171566984467\n",
      "Root Mean Squared Error: 1703376.2895247524\n"
     ]
    }
   ],
   "metadata": {}
  },
  {
   "cell_type": "markdown",
   "source": [
    "## SVR"
   ],
   "metadata": {}
  },
  {
   "cell_type": "code",
   "execution_count": 34,
   "source": [
    "from sklearn.svm import SVR\n",
    "\n",
    "svr_model = SVR(kernel='linear')\n",
    "svr_model.fit(X_train, y_train)\n",
    "\n",
    "print(svr_model.score(X_train, y_train))\n",
    "print(svr_model.score(X_test, y_test))"
   ],
   "outputs": [
    {
     "output_type": "stream",
     "name": "stdout",
     "text": [
      "-0.006336750214381626\n",
      "-0.006971533361077364\n"
     ]
    }
   ],
   "metadata": {}
  },
  {
   "cell_type": "code",
   "execution_count": 35,
   "source": [
    "# prediction\n",
    "y_pred_svr = svr_model.predict(X_test)"
   ],
   "outputs": [],
   "metadata": {}
  },
  {
   "cell_type": "code",
   "execution_count": 36,
   "source": [
    "from sklearn import metrics\n",
    "print('r2 socre is ', r2_score(y_test, y_pred_svr))\n",
    "print('Root Mean Squared Error:', np.sqrt(metrics.mean_squared_error(y_test, y_pred_svr)))"
   ],
   "outputs": [
    {
     "output_type": "stream",
     "name": "stdout",
     "text": [
      "r2 socre is  -0.006971533361077364\n",
      "Root Mean Squared Error: 2556950.694435248\n"
     ]
    }
   ],
   "metadata": {}
  },
  {
   "cell_type": "markdown",
   "source": [
    "## LightGBM Regression"
   ],
   "metadata": {}
  },
  {
   "cell_type": "code",
   "execution_count": 37,
   "source": [
    "import lightgbm as lgb\n",
    "lgb_model = lgb.LGBMRegressor()\n",
    "lgb_model.fit(X_train, y_train)\n",
    "\n",
    "print(lgb_model.score(X_train, y_train))\n",
    "print(lgb_model.score(X_test, y_test))"
   ],
   "outputs": [
    {
     "output_type": "stream",
     "name": "stdout",
     "text": [
      "0.588528081551406\n",
      "0.5753140563156077\n"
     ]
    }
   ],
   "metadata": {}
  },
  {
   "cell_type": "code",
   "execution_count": 38,
   "source": [
    "# prediction\n",
    "y_pred_lgb = lgb_model.predict(X_test)"
   ],
   "outputs": [],
   "metadata": {}
  },
  {
   "cell_type": "code",
   "execution_count": 39,
   "source": [
    "from sklearn import metrics\n",
    "print('r2 socre is ', r2_score(y_test, y_pred_lgb))\n",
    "print('Root Mean Squared Error:', np.sqrt(metrics.mean_squared_error(y_test, y_pred_lgb)))"
   ],
   "outputs": [
    {
     "output_type": "stream",
     "name": "stdout",
     "text": [
      "r2 socre is  0.5753140563156077\n",
      "Root Mean Squared Error: 1660533.7247443313\n"
     ]
    }
   ],
   "metadata": {}
  },
  {
   "cell_type": "markdown",
   "source": [
    "## Lasso"
   ],
   "metadata": {}
  },
  {
   "cell_type": "code",
   "execution_count": 40,
   "source": [
    "# Find optimal alpha for the model\n",
    "from sklearn.model_selection import GridSearchCV\n",
    "from sklearn.linear_model import Lasso\n",
    "\n",
    "alphas = np.array([1, 0.5, 0.1, 0.01, 0])\n",
    "\n",
    "lasso_model = Lasso()\n",
    "grid_search = GridSearchCV(estimator = lasso_model, param_grid = dict(alpha=alphas))\n",
    "\n",
    "grid_search.fit(X_train, y_train)\n",
    "\n",
    "grid_search.best_estimator_.alpha"
   ],
   "outputs": [
    {
     "output_type": "stream",
     "name": "stderr",
     "text": [
      "/Users/xinghuili/opt/anaconda3/lib/python3.8/site-packages/sklearn/model_selection/_validation.py:531: UserWarning: With alpha=0, this algorithm does not converge well. You are advised to use the LinearRegression estimator\n",
      "  estimator.fit(X_train, y_train, **fit_params)\n",
      "/Users/xinghuili/opt/anaconda3/lib/python3.8/site-packages/sklearn/linear_model/_coordinate_descent.py:529: UserWarning: Coordinate descent with no regularization may lead to unexpected results and is discouraged.\n",
      "  model = cd_fast.enet_coordinate_descent(\n",
      "/Users/xinghuili/opt/anaconda3/lib/python3.8/site-packages/sklearn/linear_model/_coordinate_descent.py:529: ConvergenceWarning: Objective did not converge. You might want to increase the number of iterations. Duality gap: 2.2399902297534627e+17, tolerance: 65599543633855.57\n",
      "  model = cd_fast.enet_coordinate_descent(\n",
      "/Users/xinghuili/opt/anaconda3/lib/python3.8/site-packages/sklearn/model_selection/_validation.py:531: UserWarning: With alpha=0, this algorithm does not converge well. You are advised to use the LinearRegression estimator\n",
      "  estimator.fit(X_train, y_train, **fit_params)\n",
      "/Users/xinghuili/opt/anaconda3/lib/python3.8/site-packages/sklearn/linear_model/_coordinate_descent.py:529: UserWarning: Coordinate descent with no regularization may lead to unexpected results and is discouraged.\n",
      "  model = cd_fast.enet_coordinate_descent(\n",
      "/Users/xinghuili/opt/anaconda3/lib/python3.8/site-packages/sklearn/linear_model/_coordinate_descent.py:529: ConvergenceWarning: Objective did not converge. You might want to increase the number of iterations. Duality gap: 2.234314343521598e+17, tolerance: 65561659061152.67\n",
      "  model = cd_fast.enet_coordinate_descent(\n",
      "/Users/xinghuili/opt/anaconda3/lib/python3.8/site-packages/sklearn/model_selection/_validation.py:531: UserWarning: With alpha=0, this algorithm does not converge well. You are advised to use the LinearRegression estimator\n",
      "  estimator.fit(X_train, y_train, **fit_params)\n",
      "/Users/xinghuili/opt/anaconda3/lib/python3.8/site-packages/sklearn/linear_model/_coordinate_descent.py:529: UserWarning: Coordinate descent with no regularization may lead to unexpected results and is discouraged.\n",
      "  model = cd_fast.enet_coordinate_descent(\n",
      "/Users/xinghuili/opt/anaconda3/lib/python3.8/site-packages/sklearn/linear_model/_coordinate_descent.py:529: ConvergenceWarning: Objective did not converge. You might want to increase the number of iterations. Duality gap: 2.2257028893055853e+17, tolerance: 65455351737593.58\n",
      "  model = cd_fast.enet_coordinate_descent(\n",
      "/Users/xinghuili/opt/anaconda3/lib/python3.8/site-packages/sklearn/model_selection/_validation.py:531: UserWarning: With alpha=0, this algorithm does not converge well. You are advised to use the LinearRegression estimator\n",
      "  estimator.fit(X_train, y_train, **fit_params)\n",
      "/Users/xinghuili/opt/anaconda3/lib/python3.8/site-packages/sklearn/linear_model/_coordinate_descent.py:529: UserWarning: Coordinate descent with no regularization may lead to unexpected results and is discouraged.\n",
      "  model = cd_fast.enet_coordinate_descent(\n",
      "/Users/xinghuili/opt/anaconda3/lib/python3.8/site-packages/sklearn/linear_model/_coordinate_descent.py:529: ConvergenceWarning: Objective did not converge. You might want to increase the number of iterations. Duality gap: 2.2511489377056698e+17, tolerance: 66058464658522.375\n",
      "  model = cd_fast.enet_coordinate_descent(\n",
      "/Users/xinghuili/opt/anaconda3/lib/python3.8/site-packages/sklearn/model_selection/_validation.py:531: UserWarning: With alpha=0, this algorithm does not converge well. You are advised to use the LinearRegression estimator\n",
      "  estimator.fit(X_train, y_train, **fit_params)\n",
      "/Users/xinghuili/opt/anaconda3/lib/python3.8/site-packages/sklearn/linear_model/_coordinate_descent.py:529: UserWarning: Coordinate descent with no regularization may lead to unexpected results and is discouraged.\n",
      "  model = cd_fast.enet_coordinate_descent(\n",
      "/Users/xinghuili/opt/anaconda3/lib/python3.8/site-packages/sklearn/linear_model/_coordinate_descent.py:529: ConvergenceWarning: Objective did not converge. You might want to increase the number of iterations. Duality gap: 2.2268304037121376e+17, tolerance: 65225942464416.92\n",
      "  model = cd_fast.enet_coordinate_descent(\n"
     ]
    },
    {
     "output_type": "execute_result",
     "data": {
      "text/plain": [
       "1.0"
      ]
     },
     "metadata": {},
     "execution_count": 40
    }
   ],
   "metadata": {}
  },
  {
   "cell_type": "code",
   "execution_count": 41,
   "source": [
    "from sklearn.linear_model import Lasso\n",
    "\n",
    "lasso_model = Lasso(alpha=1.0)\n",
    "lasso_model.fit(X_train, y_train)\n",
    "\n",
    "print(lasso_model.score(X_train, y_train))\n",
    "print(lasso_model.score(X_test, y_test))"
   ],
   "outputs": [
    {
     "output_type": "stream",
     "name": "stdout",
     "text": [
      "0.318193046859539\n",
      "0.3055597654464036\n"
     ]
    }
   ],
   "metadata": {}
  },
  {
   "cell_type": "code",
   "execution_count": 42,
   "source": [
    "# prediction\n",
    "y_pred_lasso = lasso_model.predict(X_test)"
   ],
   "outputs": [],
   "metadata": {}
  },
  {
   "cell_type": "code",
   "execution_count": 43,
   "source": [
    "from sklearn import metrics\n",
    "print('r2 socre is ', r2_score(y_test, y_pred_lasso))\n",
    "print('Root Mean Squared Error:', np.sqrt(metrics.mean_squared_error(y_test, y_pred_lasso)))"
   ],
   "outputs": [
    {
     "output_type": "stream",
     "name": "stdout",
     "text": [
      "r2 socre is  0.3055597654464036\n",
      "Root Mean Squared Error: 2123396.9757043114\n"
     ]
    }
   ],
   "metadata": {}
  },
  {
   "cell_type": "markdown",
   "source": [
    "## KNN"
   ],
   "metadata": {}
  },
  {
   "cell_type": "code",
   "execution_count": 44,
   "source": [
    "# Find optimal n_neighbors for the model\n",
    "from sklearn.neighbors import KNeighborsRegressor\n",
    "\n",
    "parameter_space = {\n",
    "    \"n_neighbors\": [8, 9, 10, 11, 30],\n",
    "    \"weights\": [\"uniform\", \"distance\"],\n",
    "    \"algorithm\": [\"ball_tree\", \"kd_tree\", \"brute\"],\n",
    "    \"leaf_size\": [1, 2, 20, 50, 200]\n",
    "}\n",
    "\n",
    "knn_model = KNeighborsRegressor()\n",
    "\n",
    "grid_search = GridSearchCV(knn_model, parameter_space, cv=3, n_jobs=-1)\n",
    "\n",
    "grid_search.fit(X_train, y_train)\n",
    "\n",
    "print(grid_search.best_params_)"
   ],
   "outputs": [],
   "metadata": {}
  },
  {
   "cell_type": "code",
   "execution_count": null,
   "source": [
    "knn_model = KNeighborsRegressor(n_neighbors=9, weights='distance', algorithm='kd_tree', leaf_size=20)\n",
    "knn_model.fit(X_train, y_train)\n",
    "\n",
    "print(knn_model.score(X_train, y_train))\n",
    "print(knn_model.score(X_test, y_test))"
   ],
   "outputs": [],
   "metadata": {}
  },
  {
   "cell_type": "code",
   "execution_count": null,
   "source": [
    "# prediction\n",
    "y_pred_knn = knn_model.predict(X_test)"
   ],
   "outputs": [],
   "metadata": {}
  },
  {
   "cell_type": "code",
   "execution_count": null,
   "source": [
    "from sklearn import metrics\n",
    "print('r2 socre is ', r2_score(y_test, y_pred_knn))\n",
    "print('Root Mean Squared Error:', np.sqrt(metrics.mean_squared_error(y_test, y_pred_knn)))"
   ],
   "outputs": [],
   "metadata": {}
  },
  {
   "cell_type": "markdown",
   "source": [
    "## Compare scores of each model"
   ],
   "metadata": {}
  },
  {
   "cell_type": "code",
   "execution_count": null,
   "source": [
    "for reg in (lr_model, dt_model, rf_model, lgb_model, svr_model, knn_model, lasso_model):\n",
    "    reg.fit(X_train, y_train)\n",
    "    y_pred = reg.predict(X_test)\n",
    "    print(reg.__class__.__name__, \"Mean Squared Error:\", mean_squared_error(y_test, y_pred)/100000000)\n",
    "    print(reg.__class__.__name__, \"R2:\", r2_score(y_test, y_pred))"
   ],
   "outputs": [],
   "metadata": {}
  },
  {
   "cell_type": "markdown",
   "source": [
    "## Result for now"
   ],
   "metadata": {}
  },
  {
   "cell_type": "markdown",
   "source": [
    "We choose LGBMRegressor since it has lowest MSE and highest R2 score, meaning that it has most data being explained by our model.\r\n",
    "However, it seems that we still need some improvement to our model because the R2 score is not good enough.\r\n",
    "We can drop some features to improve the result, but before dropping features, we need to figure out which feature is important and which one is not.\r\n",
    "To do so, we can list the feature importance lists.\r\n",
    "We ignore the SVR model because the score is too bad.\r\n",
    "We can list their feature importance lists, however, we only have the feature index and we don't have the feature name, we need to add the feature names on our feature importance lists. \r\n"
   ],
   "metadata": {}
  },
  {
   "cell_type": "markdown",
   "source": [
    "# Improvement on models"
   ],
   "metadata": {}
  },
  {
   "cell_type": "code",
   "execution_count": null,
   "source": [
    "from sklearn.inspection import permutation_importance\n",
    "\n",
    "# feature importance list\n",
    "lr_importance = lr_model.coef_\n",
    "dt_importance = dt_model.feature_importances_\n",
    "rf_importance = rf_model.feature_importances_\n",
    "lgb_importance = lgb_model.feature_importances_\n",
    "knn_results = permutation_importance(knn_model, X_test, y_test, scoring='neg_mean_squared_error')\n",
    "knn_importance = knn_results.importances_mean"
   ],
   "outputs": [],
   "metadata": {}
  },
  {
   "cell_type": "code",
   "execution_count": null,
   "source": [
    "# first find all names of those features \n",
    "feature_names = X.columns\n",
    "print(feature_names)"
   ],
   "outputs": [],
   "metadata": {}
  },
  {
   "cell_type": "code",
   "execution_count": null,
   "source": [
    "lr_importance_df = pd.DataFrame(lr_importance,index = feature_names)\n",
    "lr_importance_df.head()"
   ],
   "outputs": [],
   "metadata": {}
  },
  {
   "cell_type": "code",
   "execution_count": null,
   "source": [
    "sel_lr_df = lr_importance_df.loc[lr_importance_df[0] > 0]\n",
    "sel_lr_df.head()"
   ],
   "outputs": [],
   "metadata": {}
  },
  {
   "cell_type": "code",
   "execution_count": null,
   "source": [
    "dt_importance_df = pd.DataFrame(dt_importance,index = feature_names)\n",
    "dt_importance_df.head()"
   ],
   "outputs": [],
   "metadata": {}
  },
  {
   "cell_type": "code",
   "execution_count": null,
   "source": [
    "sel_dt_df = dt_importance_df.loc[dt_importance_df[0] > 0]\n",
    "sel_dt_df.head()"
   ],
   "outputs": [],
   "metadata": {}
  },
  {
   "cell_type": "code",
   "execution_count": null,
   "source": [
    "rf_importance_df = pd.DataFrame(rf_importance,index = feature_names)\n",
    "rf_importance_df.head()"
   ],
   "outputs": [],
   "metadata": {}
  },
  {
   "cell_type": "code",
   "execution_count": null,
   "source": [
    "sel_rf_df = rf_importance_df.loc[rf_importance_df[0] > 0]\n",
    "sel_rf_df.head()"
   ],
   "outputs": [],
   "metadata": {}
  },
  {
   "cell_type": "code",
   "execution_count": null,
   "source": [
    "lgb_importance_df = pd.DataFrame(lgb_importance,index = feature_names)\n",
    "lgb_importance_df.head()"
   ],
   "outputs": [],
   "metadata": {}
  },
  {
   "cell_type": "code",
   "execution_count": null,
   "source": [
    "sel_lgb_df = lgb_importance_df.loc[lgb_importance_df[0] > 0]\n",
    "sel_lgb_df.head()"
   ],
   "outputs": [],
   "metadata": {}
  },
  {
   "cell_type": "code",
   "execution_count": null,
   "source": [
    "knn_importance_df = pd.DataFrame(knn_importance,index = feature_names)\n",
    "knn_importance_df.head()"
   ],
   "outputs": [],
   "metadata": {}
  },
  {
   "cell_type": "code",
   "execution_count": null,
   "source": [
    "sel_knn_df = knn_importance_df.loc[knn_importance_df[0] > 0]\n",
    "sel_knn_df.head()"
   ],
   "outputs": [],
   "metadata": {}
  },
  {
   "cell_type": "code",
   "execution_count": null,
   "source": [
    "# select features which is relatively important in each model \n",
    "sel_lr_index = sel_lr_df.index\n",
    "sel_dt_index = sel_dt_df.index\n",
    "sel_rf_index = sel_rf_df.index\n",
    "sel_lgb_index = sel_lgb_df.index\n",
    "sel_knn_index = sel_knn_df.index"
   ],
   "outputs": [],
   "metadata": {}
  },
  {
   "cell_type": "code",
   "execution_count": null,
   "source": [
    "# Union all important features of these 3 models \n",
    "union_1 = np.union1d(sel_lr_index, sel_dt_index)\n",
    "union_2 = np.union1d(union_1, sel_rf_index)\n",
    "union_3 = np.union1d(union_2, sel_lgb_index)\n",
    "union_4 = np.union1d(union_3, sel_knn_index)\n",
    "union = np.append(union_4,'totalPrice')"
   ],
   "outputs": [],
   "metadata": {}
  },
  {
   "cell_type": "code",
   "execution_count": null,
   "source": [
    "df_important = df[union]\n",
    "df_important"
   ],
   "outputs": [],
   "metadata": {}
  },
  {
   "cell_type": "markdown",
   "source": [
    "# Model again"
   ],
   "metadata": {}
  },
  {
   "cell_type": "markdown",
   "source": [
    "## Split dataset"
   ],
   "metadata": {}
  },
  {
   "cell_type": "code",
   "execution_count": null,
   "source": [
    "# Split dataset\n",
    "X_imp = df_important.drop(['totalPrice'], axis = 1)\n",
    "y_imp = df_important['totalPrice']"
   ],
   "outputs": [],
   "metadata": {}
  },
  {
   "cell_type": "code",
   "execution_count": null,
   "source": [
    "print(X_imp.shape)\n",
    "print(y_imp.shape)"
   ],
   "outputs": [],
   "metadata": {}
  },
  {
   "cell_type": "code",
   "execution_count": null,
   "source": [
    "# split data to 80% of training and 20% of testing\n",
    "X_train_imp, X_test_imp, y_train_imp, y_test_imp = train_test_split(X_imp, y_imp, test_size=0.2, random_state=47)"
   ],
   "outputs": [],
   "metadata": {}
  },
  {
   "cell_type": "code",
   "execution_count": null,
   "source": [
    "print(X_train_imp.shape)\n",
    "print(X_test_imp.shape)\n",
    "print(y_train_imp.shape)\n",
    "print(y_test_imp.shape)"
   ],
   "outputs": [],
   "metadata": {}
  },
  {
   "cell_type": "markdown",
   "source": [
    "## Standardize"
   ],
   "metadata": {}
  },
  {
   "cell_type": "code",
   "execution_count": null,
   "source": [
    "# Feature Scaling\n",
    "from sklearn.preprocessing import StandardScaler\n",
    "\n",
    "sc = StandardScaler()\n",
    "X_train_imp = sc.fit_transform(X_train_imp)\n",
    "X_test_imp = sc.transform(X_test_imp)"
   ],
   "outputs": [],
   "metadata": {}
  },
  {
   "cell_type": "markdown",
   "source": [
    "## Multiple Linear Regression"
   ],
   "metadata": {}
  },
  {
   "cell_type": "code",
   "execution_count": null,
   "source": [
    "from sklearn.linear_model import LinearRegression\n",
    "\n",
    "lr_model = LinearRegression()\n",
    "lr_model.fit(X_train_imp, y_train_imp)\n",
    "\n",
    "print(lr_model.score(X_train_imp, y_train_imp))\n",
    "print(lr_model.score(X_test_imp, y_test_imp))"
   ],
   "outputs": [],
   "metadata": {}
  },
  {
   "cell_type": "code",
   "execution_count": null,
   "source": [
    "# prediction\n",
    "y_pred_lr_imp = lr_model.predict(X_test_imp)\n",
    "\n",
    "print('r2 socre is ', r2_score(y_test_imp, y_pred_lr_imp))\n",
    "print('Root Mean Squared Error:', np.sqrt(metrics.mean_squared_error(y_test_imp, y_pred_lr_imp)))"
   ],
   "outputs": [],
   "metadata": {}
  },
  {
   "cell_type": "markdown",
   "source": [
    "## Decision Tree"
   ],
   "metadata": {}
  },
  {
   "cell_type": "code",
   "execution_count": null,
   "source": [
    "from sklearn.tree import DecisionTreeRegressor\n",
    "\n",
    "dt_model = DecisionTreeRegressor()\n",
    "dt_model.fit(X_train_imp, y_train_imp)\n",
    "\n",
    "print(dt_model.score(X_train_imp, y_train_imp))\n",
    "print(dt_model.score(X_test_imp, y_test_imp))"
   ],
   "outputs": [],
   "metadata": {}
  },
  {
   "cell_type": "code",
   "execution_count": null,
   "source": [
    "# prediction\n",
    "y_pred_dt_imp = dt_model.predict(X_test_imp)\n",
    "\n",
    "print('r2 socre is ', r2_score(y_test_imp, y_pred_dt_imp))\n",
    "print('Root Mean Squared Error:', np.sqrt(metrics.mean_squared_error(y_test_imp, y_pred_dt_imp)))"
   ],
   "outputs": [],
   "metadata": {}
  },
  {
   "cell_type": "markdown",
   "source": [
    "## Random Forest Regression"
   ],
   "metadata": {}
  },
  {
   "cell_type": "code",
   "execution_count": null,
   "source": [
    "# Find optimal n_estimator for the model\n",
    "from sklearn.model_selection import GridSearchCV\n",
    "from sklearn.ensemble import RandomForestRegressor\n",
    "\n",
    "param_grid ={\n",
    "    'n_estimators': [20, 100, 500, 1000, 5000]\n",
    "}\n",
    "\n",
    "rf_model = RandomForestRegressor()\n",
    "grid_search = GridSearchCV(estimator = rf_model, param_grid = param_grid, cv=3, n_jobs=-1)\n",
    "\n",
    "grid_search.fit(X_train, y_train)\n",
    "\n",
    "grid_search.best_params_"
   ],
   "outputs": [],
   "metadata": {}
  },
  {
   "cell_type": "code",
   "execution_count": null,
   "source": [
    "rf_model = RandomForestRegressor(n_estimators=100, random_state=47)\n",
    "rf_model.fit(X_train, y_train)\n",
    "\n",
    "print(rf_model.score(X_train, y_train))\n",
    "print(rf_model.score(X_test, y_test))"
   ],
   "outputs": [],
   "metadata": {}
  },
  {
   "cell_type": "code",
   "execution_count": null,
   "source": [
    "# prediction\n",
    "y_pred_rf = rf_model.predict(X_test)\n",
    "\n",
    "print('r2 socre is ', r2_score(y_test, y_pred_rf))\n",
    "print('Root Mean Squared Error:', np.sqrt(metrics.mean_squared_error(y_test, y_pred_rf)))"
   ],
   "outputs": [],
   "metadata": {}
  },
  {
   "cell_type": "markdown",
   "source": [
    "## LGBM Regression"
   ],
   "metadata": {}
  },
  {
   "cell_type": "code",
   "execution_count": null,
   "source": [
    "import lightgbm as lgb\n",
    "lgb_model = lgb.LGBMRegressor()\n",
    "lgb_model.fit(X_train_imp, y_train_imp)\n",
    "\n",
    "print(lgb_model.score(X_train_imp, y_train_imp))\n",
    "print(lgb_model.score(X_test_imp, y_test_imp))"
   ],
   "outputs": [],
   "metadata": {}
  },
  {
   "cell_type": "code",
   "execution_count": null,
   "source": [
    "# prediction\n",
    "y_pred_lgb_imp = lgb_model.predict(X_test_imp)\n",
    "\n",
    "print('r2 socre is ', r2_score(y_test_imp, y_pred_lgb_imp))\n",
    "print('Root Mean Squared Error:', np.sqrt(metrics.mean_squared_error(y_test_imp, y_pred_lgb_imp)))"
   ],
   "outputs": [],
   "metadata": {}
  },
  {
   "cell_type": "markdown",
   "source": [
    "## KNN Regression"
   ],
   "metadata": {}
  },
  {
   "cell_type": "code",
   "execution_count": null,
   "source": [
    "# Find optimal n_neighbors for the model\n",
    "from sklearn.neighbors import KNeighborsRegressor\n",
    "\n",
    "parameter_space = {\n",
    "    \"n_neighbors\": [8, 9, 10, 11, 30],\n",
    "    \"weights\": [\"uniform\", \"distance\"],\n",
    "    \"algorithm\": [\"ball_tree\", \"kd_tree\", \"brute\"],\n",
    "    \"leaf_size\": [1, 2, 20, 50, 200]\n",
    "}\n",
    "\n",
    "knn_model = KNeighborsRegressor()\n",
    "\n",
    "grid_search = GridSearchCV(knn_model, parameter_space, cv=3, n_jobs=-1)\n",
    "\n",
    "grid_search.fit(X_train, y_train)\n",
    "\n",
    "print(grid_search.best_params_)"
   ],
   "outputs": [],
   "metadata": {}
  },
  {
   "cell_type": "code",
   "execution_count": null,
   "source": [
    "knn_model = KNeighborsRegressor(n_neighbors=9, weights='distance', algorithm='kd_tree', leaf_size=20)\n",
    "knn_model.fit(X_train_imp, y_train_imp)\n",
    "\n",
    "print(knn_model.score(X_train_imp, y_train_imp))\n",
    "print(knn_model.score(X_test_imp, y_test_imp))"
   ],
   "outputs": [],
   "metadata": {}
  },
  {
   "cell_type": "code",
   "execution_count": null,
   "source": [
    "# prediction\n",
    "y_pred_knn_imp = knn_model.predict(X_test_imp)\n",
    "\n",
    "print('r2 socre is ', r2_score(y_test_imp, y_pred_knn_imp))\n",
    "print('Root Mean Squared Error:', np.sqrt(metrics.mean_squared_error(y_test_imp, y_pred_knn_imp)))"
   ],
   "outputs": [],
   "metadata": {}
  },
  {
   "cell_type": "markdown",
   "source": [
    "# Using best model (LGBM) to predict selling prices"
   ],
   "metadata": {}
  },
  {
   "cell_type": "code",
   "execution_count": null,
   "source": [
    "df.head()"
   ],
   "outputs": [],
   "metadata": {}
  },
  {
   "cell_type": "markdown",
   "source": [
    "|  | City | District | Floor | FloorType | BuildingType | BuildingStructure | RenovationCondition | Elevator | Bedrooms | LivingRooms | Kitchen | Bathrooms |\r\n",
    "|---|---|---|---|---|---|---|---|---|---|---|---|---|\r\n",
    "| 0 | Beijing | \r\n",
    "| 1 | Guangzhou |\r\n",
    "| 2 | Shanghai |\r\n",
    "| 8 |   | Tianhe |\r\n",
    "| 14 |   | Xuhui |\r\n",
    "| 19 |   | Tianhe |\r\n",
    "| 22 |   | Pudong |\r\n",
    "| 31 |   | Xicheng |\r\n",
    "| 37 |   | Minhang |\r\n"
   ],
   "metadata": {}
  },
  {
   "cell_type": "markdown",
   "source": [
    "| Feature | Client 1 |\r\n",
    "| --- | --- | \r\n",
    "| City | 1 |\r\n",
    "| District | 1 |\r\n",
    "| Floor | 1 |\r\n",
    "| FloorType | 1 |\r\n",
    "| BuildingType | 1 |\r\n",
    "| BuildingStructure | 1 |\r\n",
    "| RenovationCondition | 1 |\r\n",
    "| Elevator | 1 |\r\n",
    "| Bedrooms | 1 |\r\n",
    "| Living Rooms | 1 |\r\n",
    "| Kitchen | 1 |\r\n",
    "| Bathrooms | 1 |"
   ],
   "metadata": {}
  },
  {
   "cell_type": "code",
   "execution_count": null,
   "source": [
    "# Produce a matrix for client data\n",
    "client_data = [[1, 1, 1, 1, 1, 1, 1, 1, 1, 1, 1, 1]] # client 1\n",
    "\n",
    "# show predictions\n",
    "price = rf_model.predict(client_data)\n",
    "print(f\"Predicted selling price for Client 1's home: ${price}\")"
   ],
   "outputs": [],
   "metadata": {}
  },
  {
   "cell_type": "code",
   "execution_count": null,
   "source": [
    "# # show predictions\n",
    "# for i, price in enumerate(rf_model.predict(client_data)):\n",
    "#     print(\"Predicted selling price for Client {}'s home: ${:,.2f}\").format(i+1, price)"
   ],
   "outputs": [],
   "metadata": {}
  }
 ],
 "metadata": {
  "kernelspec": {
   "name": "python3",
   "display_name": "Python 3.8.5 64-bit ('base': conda)"
  },
  "language_info": {
   "codemirror_mode": {
    "name": "ipython",
    "version": 3
   },
   "file_extension": ".py",
   "mimetype": "text/x-python",
   "name": "python",
   "nbconvert_exporter": "python",
   "pygments_lexer": "ipython3",
   "version": "3.8.5"
  },
  "interpreter": {
   "hash": "61b2890ca4fe8716dc576c12343ff08f33079c09cc57cb5484f02a28f574fd89"
  }
 },
 "nbformat": 4,
 "nbformat_minor": 5
}