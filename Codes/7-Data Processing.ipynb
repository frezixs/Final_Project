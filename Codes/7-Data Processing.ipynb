{
 "cells": [
  {
   "cell_type": "code",
   "execution_count": 1,
   "source": [
    "# Import\n",
    "import pandas as pd\n",
    "import sqlite3"
   ],
   "outputs": [],
   "metadata": {}
  },
  {
   "cell_type": "code",
   "execution_count": null,
   "source": [
    "# Read database files\n",
    "con = sqlite3.connect('../HouseInfo.db')\n",
    "deal = pd.read_sql_query('Select * from Deal', con)\n",
    "selling = pd.read_sql_query('Select * from Selling', con)\n",
    "pd.set_option('display.max_columns', None)"
   ],
   "outputs": [],
   "metadata": {}
  },
  {
   "cell_type": "code",
   "execution_count": null,
   "source": [
    "# Match Columns\n",
    "# deal file\n",
    "deal_order = ['City','HouseName','district','totalPrice','price','floor','square','constructionTime','bedRoom','livingRoom','kitchen','bathRoom','buildingType','buildingStructure','renovationCondition','elevator','subway','tradeTime','DOM','followers','Lng','Lat']\n",
    "deal = deal[deal_order]\n",
    "deal = deal.rename(columns={\n",
    "    'HouseName': 'HouseName',\n",
    "    'district': 'District',\n",
    "    'totalPrice': 'TotalPrice',\n",
    "    'price': 'Price',\n",
    "    'floor': 'Floor',\n",
    "    'square': 'Square',\n",
    "    'constructionTime': 'ConstructionTime',\n",
    "    'bedRoom': 'Bedrooms',\n",
    "    'livingRoom': 'LivingRooms',\n",
    "    'kitchen': 'Kitchens',\n",
    "    'bathRoom': 'Bathrooms',\n",
    "    'buildingType': 'Type',\n",
    "    'buildingStructure': 'Structure',\n",
    "    'renovationCondition': 'Renovation',\n",
    "    'elevator': 'Elevator',\n",
    "    'subway': 'Subway',\n",
    "    'tradeTime': 'TradeTime',\n",
    "    'DOM': 'DaysonMarket',\n",
    "    'followers': 'Followers'\n",
    "})\n",
    "\n",
    "deal['Bedrooms'] = deal['Bedrooms'].replace(' ','0')\n",
    "deal['LivingRooms'] = deal['Bedrooms'].replace(' ','0')\n",
    "deal['Kitchens'] = deal['Kitchens'].replace(' ','0')\n",
    "deal['Bathrooms'] = deal['Bathrooms'].replace(' ','0')\n",
    "deal['Floor'] = deal['Floor'].replace('地下室','Low')\n",
    "\n",
    "deal['City'] = deal['City'].astype(str)\n",
    "deal['HouseName'] = deal['HouseName'].astype(str)\n",
    "deal['District'] = deal['District'].astype(str)\n",
    "deal['TotalPrice'] = deal['TotalPrice'].astype(str)\n",
    "deal['Price'] = deal['Price'].astype(float)\n",
    "deal['Floor'] = deal['Floor'].astype(str)\n",
    "deal['Square'] = deal['Square'].astype(float)\n",
    "deal['ConstructionTime'] = deal['ConstructionTime'].astype(str)\n",
    "deal['Bedrooms'] = deal['Bedrooms'].astype(str)\n",
    "deal['LivingRooms'] = deal['LivingRooms'].astype(str)\n",
    "deal['Kitchens'] = deal['Kitchens'].astype(str)\n",
    "deal['Bathrooms'] = deal['Bathrooms'].astype(str)\n",
    "deal['Type'] = deal['Type'].astype(str)\n",
    "deal['Structure'] = deal['Structure'].astype(str)\n",
    "deal['Renovation'] = deal['Renovation'].astype(str)\n",
    "deal['Elevator'] = deal['Elevator'].astype(str)\n",
    "deal['TradeTime'] = deal['TradeTime'].astype(int)\n",
    "deal['DaysonMarket'] = deal['DaysonMarket'].astype(int)\n",
    "deal['Followers'] = deal['Followers'].astype(int)\n",
    "deal['Lng'] = deal['Lng'].astype(float)\n",
    "deal['Lat'] = deal['Lat'].astype(float)"
   ],
   "outputs": [],
   "metadata": {}
  },
  {
   "cell_type": "code",
   "execution_count": null,
   "source": [
    "# Match Columns\n",
    "# selling file\n",
    "selling_order = ['City','HouseName','District','TotalPrice','Price','Floor','Square','ConstructionTime','BedRooms','LivingRooms','Kitchen','BathRooms','BuildingType','BuildingStructure','RenovationCondition','Elevator','FloorType','Lng','Lat','id']\n",
    "selling = selling[selling_order]\n",
    "selling = selling.rename(columns={\n",
    "    'BedRooms': 'Bedrooms',\n",
    "    'Kitchen': 'Kitchens',\n",
    "    'BathRooms': 'Bathrooms',\n",
    "    'BuildingType': 'Type',\n",
    "    'BuildingStructure': 'Structure',\n",
    "    'RenovationCondition': 'Renovation',\n",
    "    'FloorType': 'FloorType',\n",
    "    'id' : 'ID'\n",
    "})\n",
    "\n",
    "selling['City'] = selling['City'].astype(str)\n",
    "selling['HouseName'] = selling['HouseName'].astype(str)\n",
    "selling['District'] = selling['District'].astype(str)\n",
    "selling['Floor'] = selling['Floor'].astype(str)\n",
    "selling['ConstructionTime'] = selling['ConstructionTime'].astype(str)\n",
    "selling['Bedrooms'] = selling['Bedrooms'].astype(int)\n",
    "selling['LivingRooms'] = selling['LivingRooms'].astype(int)\n",
    "selling['Kitchens'] = selling['Kitchens'].astype(int)\n",
    "selling['Bathrooms'] = selling['Bathrooms'].astype(int)\n",
    "selling['Type'] = selling['Type'].astype(str)\n",
    "selling['Structure'] = selling['Structure'].astype(str)\n",
    "selling['Renovation'] = selling['Renovation'].astype(str)\n",
    "selling['Elevator'] = selling['Elevator'].astype(str)\n",
    "selling['FloorType'] = selling['FloorType'].astype(str)\n",
    "selling['Lng'] = selling['Lng'].astype(float)\n",
    "selling['Lat'] = selling['Lat'].astype(float)\n",
    "selling['ID'] = selling['ID'].astype(str)"
   ],
   "outputs": [],
   "metadata": {}
  },
  {
   "cell_type": "code",
   "execution_count": null,
   "source": [
    "deal.to_csv('../Resources/Final Deal.csv', index=None)\n",
    "selling.to_csv('../Resources/Final Selling.csv', index=None)"
   ],
   "outputs": [],
   "metadata": {}
  }
 ],
 "metadata": {
  "orig_nbformat": 4,
  "language_info": {
   "name": "python",
   "version": "3.8.5",
   "mimetype": "text/x-python",
   "codemirror_mode": {
    "name": "ipython",
    "version": 3
   },
   "pygments_lexer": "ipython3",
   "nbconvert_exporter": "python",
   "file_extension": ".py"
  },
  "kernelspec": {
   "name": "python3",
   "display_name": "Python 3.8.5 64-bit ('base': conda)"
  },
  "interpreter": {
   "hash": "61b2890ca4fe8716dc576c12343ff08f33079c09cc57cb5484f02a28f574fd89"
  }
 },
 "nbformat": 4,
 "nbformat_minor": 2
}